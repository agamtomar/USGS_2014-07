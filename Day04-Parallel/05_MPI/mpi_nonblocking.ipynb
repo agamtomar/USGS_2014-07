{
 "metadata": {
  "css": [
   ""
  ],
  "name": "",
  "signature": "sha256:94858dd397eafbbc2d8c82b352705f9b2d3fcd942db5d99f0d50fa0e2f3724f4"
 },
 "nbformat": 3,
 "nbformat_minor": 0,
 "worksheets": [
  {
   "cells": [
    {
     "cell_type": "markdown",
     "metadata": {
      "slideshow": {
       "slide_type": "slide"
      }
     },
     "source": [
      "# MPI - non-blocking Communication\n",
      "\n"
     ]
    },
    {
     "cell_type": "markdown",
     "metadata": {
      "slideshow": {
       "slide_type": "slide"
      }
     },
     "source": [
      "## Sending data around in a ring"
     ]
    },
    {
     "cell_type": "markdown",
     "metadata": {
      "slideshow": {
       "slide_type": "slide"
      }
     },
     "source": [
      "## Fixing the ring program\n",
      "\n",
      "- using non-blocking communication"
     ]
    },
    {
     "cell_type": "code",
     "collapsed": false,
     "input": [
      "%%file ring_nonblock.f90\n",
      "PROGRAM ring\n",
      "\n",
      "  use mpi\n",
      "\n",
      "  implicit none\n",
      "\n",
      "  INTEGER :: ierr, n=10, count, numprocs, myid, j, ringtag = 10\n",
      "  integer :: stat_rec(MPI_STATUS_SIZE), stat_send(MPI_STATUS_SIZE)\n",
      "  double precision, allocatable :: x(:)\n",
      "\n",
      "  CALL MPI_Init(ierr)\n",
      "  call MPI_Comm_size(MPI_COMM_WORLD, numprocs, ierr)\n",
      "  call MPI_Comm_rank(MPI_COMM_WORLD, myid, ierr)\n",
      "  allocate(x(n*numprocs))\n",
      "  x(:) = myid\n",
      "  count = 1\n",
      "  DO j = 1, numprocs-1\n",
      "        CALL MPI_Irecv(x(count+n), n, MPI_DOUBLE_PRECISION, MOD(myid-1,numprocs), ringtag, MPI_COMM_WORLD, stat_rec, ierr)\n",
      "        CALL MPI_Isend(x(count), n,   MPI_DOUBLE_PRECISION, MOD(myid+1,numprocs), ringtag, MPI_COMM_WORLD, stat_send, ierr)\n",
      "        count = count+n\n",
      "        call MPI_WAIT(stat_rec, MPI_COMM_WORLD, ierr)\n",
      "        call MPI_WAIT(stat_send, MPI_COMM_WORLD, ierr)\n",
      "    END DO\n",
      "  write(*,*) 'here is my answer', SUM(x)\n",
      "  CALL MPI_finalize(ierr)\n",
      "\n",
      "END PROGRAM ring\n"
     ],
     "language": "python",
     "metadata": {
      "slideshow": {
       "slide_type": "subslide"
      }
     },
     "outputs": [
      {
       "output_type": "stream",
       "stream": "stdout",
       "text": [
        "Writing ring_nonblock.f90\n"
       ]
      }
     ],
     "prompt_number": 1
    },
    {
     "cell_type": "code",
     "collapsed": false,
     "input": [
      "%%bash\n",
      "mpif90 ring_pair.f90 -o ring_nonblock.exe\n",
      "ibrun ring_nonblock.exe"
     ],
     "language": "python",
     "metadata": {
      "slideshow": {
       "slide_type": "subslide"
      }
     },
     "outputs": [
      {
       "output_type": "stream",
       "stream": "stdout",
       "text": [
        "TACC: Starting up job 3797624\n",
        "TACC: Setting up parallel environment for MVAPICH2+mpispawn.\n",
        "TACC: Starting parallel tasks...\n",
        " here is my answer  0.000000000000000E+000\n",
        " here is my answer   10.0000000000000     \n",
        " here is my answer   30.0000000000000     \n",
        " here is my answer   100.000000000000     \n",
        " here is my answer   450.000000000000     \n",
        " here is my answer   780.000000000000     \n",
        " here is my answer   1200.00000000000     \n",
        " here is my answer   910.000000000000     \n",
        " here is my answer   1360.00000000000     \n",
        " here is my answer   550.000000000000     \n",
        " here is my answer   210.000000000000     \n",
        " here is my answer   150.000000000000     \n",
        " here is my answer   60.0000000000000     \n",
        " here is my answer   1050.00000000000     \n",
        " here is my answer   660.000000000000     \n",
        " here is my answer   280.000000000000     \n",
        " here is my answer   360.000000000000     \n",
        " here is my answer   1900.00000000000     \n",
        " here is my answer   1710.00000000000     \n",
        " here is my answer   1530.00000000000     \n",
        " here is my answer   2310.00000000000     \n",
        " here is my answer   3250.00000000000     \n",
        " here is my answer   3510.00000000000     \n",
        " here is my answer   4060.00000000000     \n",
        " here is my answer   4350.00000000000     \n",
        " here is my answer   2530.00000000000     \n",
        " here is my answer   3000.00000000000     \n",
        " here is my answer   4650.00000000000     \n",
        " here is my answer   2100.00000000000     \n",
        " here is my answer   2760.00000000000     \n",
        " here is my answer   3780.00000000000     \n",
        " here is my answer   4960.00000000000     \n",
        " \n",
        "TACC: Shutdown complete. Exiting.\n"
       ]
      }
     ],
     "prompt_number": 3
    },
    {
     "cell_type": "code",
     "collapsed": false,
     "input": [],
     "language": "python",
     "metadata": {},
     "outputs": []
    }
   ],
   "metadata": {}
  }
 ]
}