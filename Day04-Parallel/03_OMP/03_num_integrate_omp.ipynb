{
 "metadata": {
  "name": "",
  "signature": "sha256:4e8c110836ec8071960dcc894de55d44d871148811698f8c7d0ce38c88721614"
 },
 "nbformat": 3,
 "nbformat_minor": 0,
 "worksheets": [
  {
   "cells": [
    {
     "cell_type": "markdown",
     "metadata": {},
     "source": [
      "# Numerical integration\n",
      "\n",
      "- Race condition\n",
      "- Critical section\n",
      "- Reduction"
     ]
    },
    {
     "cell_type": "markdown",
     "metadata": {},
     "source": [
      "## Serial version"
     ]
    },
    {
     "cell_type": "code",
     "collapsed": false,
     "input": [
      "%%file pi.f90\n",
      "program calc_pi\n",
      "integer :: n=100000, i\n",
      "double precision :: w, x, area, pi, f, a\n",
      "\n",
      "! function to integrate\n",
      "f(a) = 4.d0 / (1.d0 + a*a)\n",
      "\n",
      "w = 1.0d0/n\n",
      "area = 0.0d0\n",
      "\n",
      "do i = 1, n\n",
      "  x = w * (i - 0.5d0)\n",
      "  area = area + f(x)\n",
      "end do\n",
      "pi = w * area\n",
      "\n",
      "print *, pi\n",
      "end program calc_pi"
     ],
     "language": "python",
     "metadata": {},
     "outputs": [
      {
       "output_type": "stream",
       "stream": "stdout",
       "text": [
        "Writing pi.f90\n"
       ]
      }
     ],
     "prompt_number": 1
    },
    {
     "cell_type": "code",
     "collapsed": false,
     "input": [
      "%%bash\n",
      "gfortran -O pi.f90 -o pi.exe\n",
      "./pi.exe"
     ],
     "language": "python",
     "metadata": {},
     "outputs": [
      {
       "output_type": "stream",
       "stream": "stdout",
       "text": [
        "   3.1415926535981615     \n"
       ]
      }
     ],
     "prompt_number": 4
    },
    {
     "cell_type": "markdown",
     "metadata": {},
     "source": [
      "## Incorrect Parallel Version"
     ]
    },
    {
     "cell_type": "code",
     "collapsed": false,
     "input": [
      "%%file pi_omp_incorrect.f90\n",
      "program calc_pi\n",
      "integer :: n=100000000, i\n",
      "double precision :: w, x, area, pi, f, a\n",
      "\n",
      "! function to integrate\n",
      "f(a) = 4.d0 / (1.d0 + a*a)\n",
      "\n",
      "w = 1.0d0/n\n",
      "area = 0.0d0\n",
      "\n",
      "!$OMP PARALLEL DO PRIVATE(x), SHARED(w, n, area)\n",
      "do i = 1, n\n",
      "  x = w * (i - 0.5d0)\n",
      "  area = area + f(x)\n",
      "end do\n",
      "!$OMP END PARALLEL DO\n",
      "pi = w * area\n",
      "\n",
      "print *, pi\n",
      "end program calc_pi"
     ],
     "language": "python",
     "metadata": {},
     "outputs": [
      {
       "output_type": "stream",
       "stream": "stdout",
       "text": [
        "Overwriting pi_omp_incorrect.f90\n"
       ]
      }
     ],
     "prompt_number": 15
    },
    {
     "cell_type": "code",
     "collapsed": false,
     "input": [
      "%%bash\n",
      "gfortran -fopenmp -O pi_omp_incorrect.f90 -o pi_omp_incorrect.exe\n",
      "./pi_omp_incorrect.exe"
     ],
     "language": "python",
     "metadata": {},
     "outputs": [
      {
       "output_type": "stream",
       "stream": "stdout",
       "text": [
        "  0.48249467432041249     \n"
       ]
      }
     ],
     "prompt_number": 18
    },
    {
     "cell_type": "markdown",
     "metadata": {},
     "source": [
      "## Inefficent Parallel Version"
     ]
    },
    {
     "cell_type": "code",
     "collapsed": false,
     "input": [
      "%%file pi_omp_critical.f90\n",
      "program calc_pi\n",
      "integer :: n=100000, i\n",
      "double precision :: w, x, area, pi, f, a\n",
      "\n",
      "! function to integrate\n",
      "f(a) = 4.d0 / (1.d0 + a*a)\n",
      "\n",
      "w = 1.0d0/n\n",
      "area = 0.0d0\n",
      "\n",
      "!$OMP PARALLEL DO PRIVATE(x), SHARED(w, n, area)\n",
      "do i = 1, n\n",
      "  x = w * (i - 0.5d0)\n",
      "!$OMP CRITICAL\n",
      "  area = area + f(x)\n",
      "!$OMP END CRITICAL\n",
      "end do\n",
      "!$OMP END PARALLEL DO\n",
      "pi = w * area\n",
      "\n",
      "print *, pi\n",
      "end program calc_pi"
     ],
     "language": "python",
     "metadata": {},
     "outputs": [
      {
       "output_type": "stream",
       "stream": "stdout",
       "text": [
        "Overwriting pi_omp_critical.f90\n"
       ]
      }
     ],
     "prompt_number": 28
    },
    {
     "cell_type": "code",
     "collapsed": false,
     "input": [
      "%%bash\n",
      "gfortran -fopenmp -O pi_omp_critical.f90 -o pi_omp_critical.exe\n",
      "./pi_omp_critical.exe"
     ],
     "language": "python",
     "metadata": {},
     "outputs": [
      {
       "output_type": "stream",
       "stream": "stdout",
       "text": [
        "Process is terminated.\n"
       ]
      }
     ],
     "prompt_number": 29
    },
    {
     "cell_type": "markdown",
     "metadata": {},
     "source": [
      "## Using the reduction directive"
     ]
    },
    {
     "cell_type": "code",
     "collapsed": false,
     "input": [
      "%%file pi_omp.f90\n",
      "program calc_pi\n",
      "integer :: n=100000000, i\n",
      "double precision :: w, x, area, pi, f, a\n",
      "\n",
      "! function to integrate\n",
      "f(a) = 4.d0 / (1.d0 + a*a)\n",
      "\n",
      "w = 1.0d0/n\n",
      "area = 0.0d0\n",
      "\n",
      "!$OMP PARALLEL DO PRIVATE(x), SHARED(w, n) REDUCTION(+:area)\n",
      "do i = 1, n\n",
      "  x = w * (i - 0.5d0)\n",
      "  area = area + f(x)\n",
      "end do\n",
      "!$OMP END PARALLEL DO\n",
      "pi = w * area\n",
      "\n",
      "print *, pi\n",
      "end program calc_pi"
     ],
     "language": "python",
     "metadata": {},
     "outputs": [
      {
       "output_type": "stream",
       "stream": "stdout",
       "text": [
        "Writing pi_omp.f90\n"
       ]
      }
     ],
     "prompt_number": 23
    },
    {
     "cell_type": "code",
     "collapsed": false,
     "input": [
      "%%bash\n",
      "gfortran -fopenmp -O pi_omp.f90 -o pi_omp.exe\n",
      "./pi_omp.exe"
     ],
     "language": "python",
     "metadata": {},
     "outputs": [
      {
       "output_type": "stream",
       "stream": "stdout",
       "text": [
        "   3.1415926535898158     \n"
       ]
      }
     ],
     "prompt_number": 25
    },
    {
     "cell_type": "code",
     "collapsed": false,
     "input": [],
     "language": "python",
     "metadata": {},
     "outputs": []
    }
   ],
   "metadata": {}
  }
 ]
}