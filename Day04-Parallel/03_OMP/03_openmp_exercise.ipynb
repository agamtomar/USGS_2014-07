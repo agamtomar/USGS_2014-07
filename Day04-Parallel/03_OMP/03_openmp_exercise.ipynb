{
 "metadata": {
  "name": "",
  "signature": "sha256:27d91c54127807397e460890ca41edaa2acd1d2975e85863655c7475db1c5731"
 },
 "nbformat": 3,
 "nbformat_minor": 0,
 "worksheets": [
  {
   "cells": [
    {
     "cell_type": "markdown",
     "metadata": {},
     "source": [
      "# OpenMP parallelism\n",
      "\n",
      "- diretive based parallelism"
     ]
    },
    {
     "cell_type": "markdown",
     "metadata": {},
     "source": [
      "## FIRSTPRIVATE"
     ]
    },
    {
     "cell_type": "code",
     "collapsed": false,
     "input": [
      "mkdir Firstprivate"
     ],
     "language": "python",
     "metadata": {},
     "outputs": [],
     "prompt_number": 1
    },
    {
     "cell_type": "code",
     "collapsed": false,
     "input": [
      "cd Firstprivate\n"
     ],
     "language": "python",
     "metadata": {},
     "outputs": [
      {
       "output_type": "stream",
       "stream": "stdout",
       "text": [
        "/projects/thha0714/2013-hpcs/Lecture-Code/OMP/Firstprivate\n"
       ]
      }
     ],
     "prompt_number": 1
    },
    {
     "cell_type": "code",
     "collapsed": false,
     "input": [
      "%%file wrong.f90\n",
      "program wrong\n",
      "I = 10\n",
      "!$OMP PARALLEL PRIVATE(I)\n",
      "I= I + 1\n",
      "print *, I\n",
      "!$OMP END PARALLEL\n",
      "end program wrong"
     ],
     "language": "python",
     "metadata": {},
     "outputs": [
      {
       "output_type": "stream",
       "stream": "stdout",
       "text": [
        "Overwriting wrong.f90\n"
       ]
      }
     ],
     "prompt_number": 4
    },
    {
     "cell_type": "code",
     "collapsed": false,
     "input": [
      "!ifort -openmp -openmp-report2 -O wrong.f90 -o wrong.exe\n",
      "!./wrong.exe"
     ],
     "language": "python",
     "metadata": {},
     "outputs": [
      {
       "output_type": "stream",
       "stream": "stdout",
       "text": [
        "wrong.f90(3): (col. 7) remark: OpenMP DEFINED REGION WAS PARALLELIZED.\r\n"
       ]
      },
      {
       "output_type": "stream",
       "stream": "stdout",
       "text": [
        "           1\r\n",
        "           1\r\n",
        "           1\r\n",
        "           1\r\n",
        "           1\r\n",
        "           1\r\n",
        "           1\r\n",
        "           1\r\n",
        "           1\r\n",
        "           1\r\n",
        "           1\r\n",
        "           1\r\n"
       ]
      }
     ],
     "prompt_number": 5
    },
    {
     "cell_type": "code",
     "collapsed": false,
     "input": [
      "%%file correct.f90\n",
      "program correct\n",
      "I = 10\n",
      "!$OMP PARALLEL SHARED(J) FIRSTPRIVATE(I)\n",
      "I= I + 1\n",
      "j=i\n",
      "!$OMP END PARALLEL\n",
      "print *, J\n",
      "end program correct"
     ],
     "language": "python",
     "metadata": {},
     "outputs": [
      {
       "output_type": "stream",
       "stream": "stdout",
       "text": [
        "Overwriting correct.f90\n"
       ]
      }
     ],
     "prompt_number": 4
    },
    {
     "cell_type": "code",
     "collapsed": false,
     "input": [
      "!gfortran -fopenmp -O correct.f90 -o correct.exe\n",
      "!./correct.exe"
     ],
     "language": "python",
     "metadata": {},
     "outputs": [
      {
       "output_type": "stream",
       "stream": "stdout",
       "text": [
        "          11\r\n"
       ]
      }
     ],
     "prompt_number": 5
    },
    {
     "cell_type": "markdown",
     "metadata": {},
     "source": [
      "# Bug fixes"
     ]
    },
    {
     "cell_type": "markdown",
     "metadata": {},
     "source": [
      "## Bug 1"
     ]
    },
    {
     "cell_type": "code",
     "collapsed": false,
     "input": [
      "mkdir Bug1"
     ],
     "language": "python",
     "metadata": {},
     "outputs": [],
     "prompt_number": 26
    },
    {
     "cell_type": "code",
     "collapsed": false,
     "input": [
      "cd Bug1"
     ],
     "language": "python",
     "metadata": {},
     "outputs": [
      {
       "output_type": "stream",
       "stream": "stdout",
       "text": [
        "/projects/thha0714/2013-hpcs/Lecture-Code/OMP/Bug1\n"
       ]
      }
     ],
     "prompt_number": 21
    },
    {
     "cell_type": "code",
     "collapsed": false,
     "input": [
      "%%file omp_bug1.c\n",
      "/******************************************************************************\n",
      "* FILE: omp_bug1.c\n",
      "* DESCRIPTION:\n",
      "*   This example attempts to show use of the parallel for construct.  However\n",
      "*   it will generate errors at compile time.  Try to determine what is causing\n",
      "*   the error.  See omp_bug1fix.c for a corrected version.\n",
      "* AUTHOR: Blaise Barney  5/99\n",
      "* LAST REVISED: 04/06/05\n",
      "******************************************************************************/\n",
      "#include <omp.h>\n",
      "#include <stdio.h>\n",
      "#include <stdlib.h>\n",
      "#define N       50\n",
      "#define CHUNKSIZE   5\n",
      "\n",
      "int main (int argc, char *argv[]) \n",
      "{\n",
      "int i, chunk, tid;\n",
      "float a[N], b[N], c[N];\n",
      "\n",
      "/* Some initializations */\n",
      "for (i=0; i < N; i++)\n",
      "  a[i] = b[i] = i * 1.0;\n",
      "chunk = CHUNKSIZE;\n",
      "\n",
      "#pragma omp parallel for     \\\n",
      "  shared(a,b,c,chunk)            \\\n",
      "  private(i,tid)             \\\n",
      "  schedule(static,chunk)\n",
      "  {\n",
      "  tid = omp_get_thread_num();\n",
      "  for (i=0; i < N; i++)\n",
      "    {\n",
      "    c[i] = a[i] + b[i];\n",
      "    printf(\"tid= %d i= %d c[i]= %f\\n\", tid, i, c[i]);\n",
      "    }\n",
      "  }  /* end of parallel for construct */"
     ],
     "language": "python",
     "metadata": {},
     "outputs": [
      {
       "output_type": "stream",
       "stream": "stdout",
       "text": [
        "Overwriting omp_bug1.c\n"
       ]
      }
     ],
     "prompt_number": 22
    },
    {
     "cell_type": "code",
     "collapsed": false,
     "input": [
      "!icc -openmp -openmp-report2 -Ofast omp_bug1.c -o omp_bug1.exe"
     ],
     "language": "python",
     "metadata": {},
     "outputs": [
      {
       "output_type": "stream",
       "stream": "stdout",
       "text": [
        "omp_bug1.c(30): error: omp for directive requires a proceeding for statement\r\n",
        "    {\r\n",
        "    ^\r\n",
        "\r\n",
        "omp_bug1.c(37): error: expected a \"}\"\r\n",
        "\r\n",
        "compilation aborted for omp_bug1.c (code 2)\r\n"
       ]
      }
     ],
     "prompt_number": 23
    },
    {
     "cell_type": "markdown",
     "metadata": {},
     "source": [
      "## Bug 2"
     ]
    },
    {
     "cell_type": "code",
     "collapsed": false,
     "input": [
      "cd /projects/thha0714/2013-hpcs/Lecture-Code/OMP"
     ],
     "language": "python",
     "metadata": {},
     "outputs": [
      {
       "output_type": "stream",
       "stream": "stdout",
       "text": [
        "/projects/thha0714/2013-hpcs/Lecture-Code/OMP\n"
       ]
      }
     ],
     "prompt_number": 24
    },
    {
     "cell_type": "code",
     "collapsed": false,
     "input": [
      "mkdir Bug2"
     ],
     "language": "python",
     "metadata": {},
     "outputs": [],
     "prompt_number": 38
    },
    {
     "cell_type": "code",
     "collapsed": false,
     "input": [
      "cd Bug2"
     ],
     "language": "python",
     "metadata": {},
     "outputs": [
      {
       "output_type": "stream",
       "stream": "stdout",
       "text": [
        "/projects/thha0714/2013-hpcs/Lecture-Code/OMP/Bug2\n"
       ]
      }
     ],
     "prompt_number": 25
    },
    {
     "cell_type": "code",
     "collapsed": false,
     "input": [
      "%%file omp_bug2.c\n",
      "/******************************************************************************\n",
      "* FILE: omp_bug2.c\n",
      "* DESCRIPTION:\n",
      "*   Another OpenMP program with a bug. \n",
      "* AUTHOR: Blaise Barney \n",
      "* LAST REVISED: 04/06/05 \n",
      "******************************************************************************/\n",
      "#include <omp.h>\n",
      "#include <stdio.h>\n",
      "#include <stdlib.h>\n",
      "\n",
      "int main (int argc, char *argv[]) \n",
      "{\n",
      "int nthreads, i, tid;\n",
      "float total;\n",
      "\n",
      "/*** Spawn parallel region ***/\n",
      "#pragma omp parallel\n",
      "  {\n",
      "  /* Obtain thread number */\n",
      "  tid = omp_get_thread_num();\n",
      "  /* Only master thread does this */\n",
      "  if (tid == 0) {\n",
      "    nthreads = omp_get_num_threads();\n",
      "    printf(\"Number of threads = %d\\n\", nthreads);\n",
      "    }\n",
      "  printf(\"Thread %d is starting...\\n\",tid);\n",
      "\n",
      "  #pragma omp barrier\n",
      "\n",
      "  /* do some work */\n",
      "  total = 0.0;\n",
      "  #pragma omp for schedule(dynamic,10)\n",
      "  for (i=0; i<1000000; i++) \n",
      "     total = total + i*1.0;\n",
      "\n",
      "  printf (\"Thread %d is done! Total= %e\\n\",tid,total);\n",
      "\n",
      "  } /*** End of parallel region ***/\n",
      "}"
     ],
     "language": "python",
     "metadata": {},
     "outputs": [
      {
       "output_type": "stream",
       "stream": "stdout",
       "text": [
        "Overwriting omp_bug2.c\n"
       ]
      }
     ],
     "prompt_number": 26
    },
    {
     "cell_type": "code",
     "collapsed": false,
     "input": [
      "!icc -openmp -openmp-report2 -Ofast omp_bug2.c -o omp_bug2.exe"
     ],
     "language": "python",
     "metadata": {},
     "outputs": [
      {
       "output_type": "stream",
       "stream": "stdout",
       "text": [
        "omp_bug2.c(29): (col. 3) remark: OpenMP multithreaded code generation for BARRIER was successful.\r\n",
        "omp_bug2.c(33): (col. 3) remark: OpenMP DEFINED LOOP WAS PARALLELIZED.\r\n",
        "omp_bug2.c(18): (col. 1) remark: OpenMP DEFINED REGION WAS PARALLELIZED.\r\n"
       ]
      }
     ],
     "prompt_number": 27
    },
    {
     "cell_type": "code",
     "collapsed": false,
     "input": [
      "!./omp_bug2.exe"
     ],
     "language": "python",
     "metadata": {},
     "outputs": [
      {
       "output_type": "stream",
       "stream": "stdout",
       "text": [
        "Thread 3 is starting...\r\n",
        "Thread 5 is starting...\r\n",
        "Thread 6 is starting...\r\n",
        "Thread 2 is starting...\r\n",
        "Number of threads = 12\r\n",
        "Thread 7 is starting...\r\n",
        "Thread 7 is starting...\r\n",
        "Thread 4 is starting...\r\n",
        "Thread 1 is starting...\r\n",
        "Thread 8 is starting...\r\n",
        "Thread 9 is starting...\r\n",
        "Thread 10 is starting...\r\n"
       ]
      },
      {
       "output_type": "stream",
       "stream": "stdout",
       "text": [
        "Thread 11 is starting...\r\n",
        "Thread 11 is done! Total= 9.401440e+10\r\n",
        "Thread 11 is done! Total= 9.401440e+10\r\n",
        "Thread 11 is done! Total= 9.401440e+10\r\n",
        "Thread 11 is done! Total= 9.401440e+10\r\n",
        "Thread 11 is done! Total= 9.401440e+10\r\n",
        "Thread 11 is done! Total= 9.401440e+10\r\n",
        "Thread 11 is done! Total= 9.401440e+10\r\n",
        "Thread 11 is done! Total= 9.401440e+10\r\n",
        "Thread 11 is done! Total= 9.401440e+10\r\n",
        "Thread 11 is done! Total= 9.401440e+10\r\n",
        "Thread 11 is done! Total= 9.401440e+10\r\n",
        "Thread 11 is done! Total= 9.401440e+10\r\n"
       ]
      }
     ],
     "prompt_number": 28
    },
    {
     "cell_type": "markdown",
     "metadata": {},
     "source": [
      "## Bug 3"
     ]
    },
    {
     "cell_type": "code",
     "collapsed": false,
     "input": [
      "cd /projects/thha0714/2013-hpcs/Lecture-Code/OMP"
     ],
     "language": "python",
     "metadata": {},
     "outputs": [
      {
       "output_type": "stream",
       "stream": "stdout",
       "text": [
        "/projects/thha0714/2013-hpcs/Lecture-Code/OMP\n"
       ]
      }
     ],
     "prompt_number": 29
    },
    {
     "cell_type": "code",
     "collapsed": false,
     "input": [
      "mkdir Bug3"
     ],
     "language": "python",
     "metadata": {},
     "outputs": [],
     "prompt_number": 55
    },
    {
     "cell_type": "code",
     "collapsed": false,
     "input": [
      "cd Bug3"
     ],
     "language": "python",
     "metadata": {},
     "outputs": [
      {
       "output_type": "stream",
       "stream": "stdout",
       "text": [
        "/projects/thha0714/2013-hpcs/Lecture-Code/OMP/Bug3\n"
       ]
      }
     ],
     "prompt_number": 30
    },
    {
     "cell_type": "code",
     "collapsed": false,
     "input": [
      "%%file omp_bug3.c\n",
      "/******************************************************************************\n",
      "* FILE: omp_bug3.c\n",
      "* DESCRIPTION:\n",
      "*   This very simple program causes a segmentation fault.\n",
      "* AUTHOR: Blaise Barney  01/09/04\n",
      "* LAST REVISED: 04/06/05\n",
      "******************************************************************************/\n",
      "#include <omp.h>\n",
      "#include <stdio.h>\n",
      "#include <stdlib.h>\n",
      "#define N 1048\n",
      "\n",
      "int main (int argc, char *argv[]) \n",
      "{\n",
      "int nthreads, tid, i, j;\n",
      "double a[N][N];\n",
      "\n",
      "/* Fork a team of threads with explicit variable scoping */\n",
      "#pragma omp parallel shared(nthreads) private(i,j,tid,a)\n",
      "  {\n",
      "\n",
      "  /* Obtain/print thread info */\n",
      "  tid = omp_get_thread_num();\n",
      "  if (tid == 0) \n",
      "    {\n",
      "    nthreads = omp_get_num_threads();\n",
      "    printf(\"Number of threads = %d\\n\", nthreads);\n",
      "    }\n",
      "  printf(\"Thread %d starting...\\n\", tid);\n",
      "\n",
      "  /* Each thread works on its own private copy of the array */\n",
      "  for (i=0; i<N; i++)\n",
      "    for (j=0; j<N; j++)\n",
      "      a[i][j] = tid + i + j;\n",
      "\n",
      "  /* For confirmation */\n",
      "  printf(\"Thread %d done. Last element= %f\\n\",tid,a[N-1][N-1]);\n",
      "\n",
      "  }  /* All threads join master thread and disband */\n",
      "\n",
      "}"
     ],
     "language": "python",
     "metadata": {},
     "outputs": [
      {
       "output_type": "stream",
       "stream": "stdout",
       "text": [
        "Overwriting omp_bug3.c\n"
       ]
      }
     ],
     "prompt_number": 31
    },
    {
     "cell_type": "code",
     "collapsed": false,
     "input": [
      "!icc -openmp -openmp-report2 -Ofast omp_bug3.c -o omp_bug3.exe"
     ],
     "language": "python",
     "metadata": {},
     "outputs": [
      {
       "output_type": "stream",
       "stream": "stdout",
       "text": [
        "omp_bug3.c(19): (col. 1) remark: OpenMP DEFINED REGION WAS PARALLELIZED.\r\n"
       ]
      }
     ],
     "prompt_number": 32
    },
    {
     "cell_type": "code",
     "collapsed": false,
     "input": [
      "!./omp_bug3.exe"
     ],
     "language": "python",
     "metadata": {},
     "outputs": [
      {
       "output_type": "stream",
       "stream": "stdout",
       "text": [
        "Number of threads = 12\r\n",
        "Thread 0 starting...\r\n",
        "Thread 2 starting...\r\n"
       ]
      }
     ],
     "prompt_number": 33
    },
    {
     "cell_type": "markdown",
     "metadata": {},
     "source": [
      "## Bug 4"
     ]
    },
    {
     "cell_type": "code",
     "collapsed": false,
     "input": [
      "cd /projects/thha0714/2013-hpcs/Lecture-Code/OMP"
     ],
     "language": "python",
     "metadata": {},
     "outputs": [
      {
       "output_type": "stream",
       "stream": "stdout",
       "text": [
        "/projects/thha0714/2013-hpcs/Lecture-Code/OMP\n"
       ]
      }
     ],
     "prompt_number": 34
    },
    {
     "cell_type": "code",
     "collapsed": false,
     "input": [
      "mkdir Bug4"
     ],
     "language": "python",
     "metadata": {},
     "outputs": [],
     "prompt_number": 65
    },
    {
     "cell_type": "code",
     "collapsed": false,
     "input": [
      "cd Bug4"
     ],
     "language": "python",
     "metadata": {},
     "outputs": [
      {
       "output_type": "stream",
       "stream": "stdout",
       "text": [
        "/projects/thha0714/2013-hpcs/Lecture-Code/OMP/Bug4\n"
       ]
      }
     ],
     "prompt_number": 35
    },
    {
     "cell_type": "code",
     "collapsed": false,
     "input": [
      "%%file omp_bug4.c\n",
      "/******************************************************************************\n",
      "* FILE: omp_bug4.c\n",
      "* DESCRIPTION:\n",
      "*   This program compiles and runs fine, but produces the wrong result.\n",
      "*   Compare to omp_orphan.c.\n",
      "* AUTHOR: Blaise Barney  6/05\n",
      "* LAST REVISED: 06/30/05\n",
      "******************************************************************************/\n",
      "#include <omp.h>\n",
      "#include <stdio.h>\n",
      "#include <stdlib.h>\n",
      "#define VECLEN 100\n",
      "\n",
      "float a[VECLEN], b[VECLEN];\n",
      "\n",
      "\n",
      "void dotprod ()\n",
      "{\n",
      "int i,tid;\n",
      "float sum;\n",
      "\n",
      "tid = omp_get_thread_num();\n",
      "#pragma omp for reduction(+:sum)\n",
      "  for (i=0; i < VECLEN; i++)\n",
      "    {\n",
      "    sum = sum + (a[i]*b[i]);\n",
      "    printf(\"  tid= %d i=%d\\n\",tid,i);\n",
      "    }\n",
      "}\n",
      "\n",
      "\n",
      "int main (int argc, char *argv[]) {\n",
      "int i;\n",
      "float sum;\n",
      "\n",
      "for (i=0; i < VECLEN; i++)\n",
      "  a[i] = b[i] = 1.0 * i;\n",
      "sum = 0.0;\n",
      "\n",
      "#pragma omp parallel shared(sum)\n",
      "  dotprod();\n",
      "\n",
      "printf(\"Sum = %f\\n\",sum);\n",
      "\n",
      "}"
     ],
     "language": "python",
     "metadata": {},
     "outputs": [
      {
       "output_type": "stream",
       "stream": "stdout",
       "text": [
        "Overwriting omp_bug4.c\n"
       ]
      }
     ],
     "prompt_number": 36
    },
    {
     "cell_type": "code",
     "collapsed": false,
     "input": [
      "!icc -openmp -openmp-report2 -Ofast omp_bug4.c -o omp_bug4.exe"
     ],
     "language": "python",
     "metadata": {},
     "outputs": [
      {
       "output_type": "stream",
       "stream": "stdout",
       "text": [
        "omp_bug4.c(41): (col. 3) remark: OpenMP DEFINED LOOP WAS PARALLELIZED.\r\n",
        "omp_bug4.c(40): (col. 1) remark: OpenMP DEFINED REGION WAS PARALLELIZED.\r\n",
        "omp_bug4.c(23): (col. 1) remark: OpenMP DEFINED LOOP WAS PARALLELIZED.\r\n"
       ]
      }
     ],
     "prompt_number": 80
    },
    {
     "cell_type": "code",
     "collapsed": false,
     "input": [],
     "language": "python",
     "metadata": {},
     "outputs": []
    }
   ],
   "metadata": {}
  }
 ]
}