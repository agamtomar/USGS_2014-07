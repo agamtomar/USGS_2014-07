{
 "metadata": {
  "css": [
   ""
  ],
  "name": ""
 },
 "nbformat": 3,
 "nbformat_minor": 0,
 "worksheets": [
  {
   "cells": [
    {
     "cell_type": "markdown",
     "metadata": {
      "slideshow": {
       "slide_type": "slide"
      }
     },
     "source": [
      "# OpenACC\n",
      "\n",
      "## Getting information about the accelerator"
     ]
    },
    {
     "cell_type": "code",
     "collapsed": false,
     "input": [
      "!pgaccelinfo"
     ],
     "language": "python",
     "metadata": {
      "slideshow": {
       "slide_type": "subslide"
      }
     },
     "outputs": [
      {
       "output_type": "stream",
       "stream": "stdout",
       "text": [
        "CUDA Driver Version:           5050\r\n",
        "\r\n",
        "Device Number:                 0\r\n",
        "Device Name:                   GeForce GT 650M\r\n",
        "Device Revision Number:        3.0\r\n",
        "Global Memory Size:            1073414144\r\n",
        "Number of Multiprocessors:     2\r\n",
        "Number of SP Cores:            384\r\n",
        "Number of DP Cores:            128\r\n",
        "Concurrent Copy and Execution: Yes\r\n",
        "Total Constant Memory:         65536\r\n",
        "Total Shared Memory per Block: 49152\r\n",
        "Registers per Block:           65536\r\n",
        "Warp Size:                     32\r\n",
        "Maximum Threads per Block:     1024\r\n",
        "Maximum Block Dimensions:      1024, 1024, 64\r\n",
        "Maximum Grid Dimensions:       2147483647 x 65535 x 65535\r\n",
        "Maximum Memory Pitch:          2147483647B\r\n",
        "Texture Alignment:             512B\r\n",
        "Clock Rate:                    900 MHz\r\n",
        "Execution Timeout:             Yes\r\n",
        "Integrated Device:             No\r\n",
        "Can Map Host Memory:           Yes\r\n",
        "Compute Mode:                  default\r\n",
        "Concurrent Kernels:            Yes\r\n",
        "ECC Enabled:                   No\r\n",
        "Memory Clock Rate:             2508 MHz\r\n",
        "Memory Bus Width:              128 bits\r\n",
        "L2 Cache Size:                 262144 bytes\r\n",
        "Max Threads Per SMP:           2048\r\n",
        "Async Engines:                 1\r\n",
        "Unified Addressing:            Yes\r\n",
        "Initialization time:           5273 microseconds\r\n",
        "Current free memory:           16302080\r\n"
       ]
      },
      {
       "output_type": "stream",
       "stream": "stdout",
       "text": [
        "Upload time (4MB):             3109 microseconds (2620 ms pinned)\r\n",
        "Download time:                 2755 microseconds (2626 ms pinned)\r\n",
        "Upload bandwidth:              1349 MB/sec (1600 MB/sec pinned)\r\n",
        "Download bandwidth:            1522 MB/sec (1597 MB/sec pinned)\r\n",
        "PGI Compiler Option:           -ta=nvidia,cc30\r\n"
       ]
      }
     ],
     "prompt_number": 1
    },
    {
     "cell_type": "markdown",
     "metadata": {
      "slideshow": {
       "slide_type": "slide"
      }
     },
     "source": [
      "## First simple program\n",
      "\n",
      "* r[i] = a[i]*2\n",
      "* Using `#pragma acc region`\n",
      "* C pointer variable may not allow parallelism\n",
      "* Look at the compiler output"
     ]
    },
    {
     "cell_type": "code",
     "collapsed": false,
     "input": [
      "%%file test0.c\n",
      "#include <stdio.h>\n",
      "#include <stdlib.h>\n",
      "#include <assert.h>\n",
      "        \n",
      "int main( int argc, char* argv[] ) {\n",
      "    int n;      /* size of the vector */\n",
      "    float * a;  /* the vector */\n",
      "    float * r;  /* the results */\n",
      "    float * e;  /* expected results */\n",
      "    int i;\n",
      "    \n",
      "    n = 100000;\n",
      "        \n",
      "    a = (float*)malloc(n*sizeof(float));\n",
      "    r = (float*)malloc(n*sizeof(float));\n",
      "    e = (float*)malloc(n*sizeof(float));\n",
      "    /* initialize */\n",
      "    for( i = 0; i < n; ++i ) a[i] = (float)(i+1);\n",
      "        \n",
      "#pragma acc region\n",
      "    {\n",
      "        for( i = 0; i < n; ++i ) r[i] = a[i]*2.0f;\n",
      "    }\n",
      "    /* compute on the host to compare */\n",
      "    for( i = 0; i < n; ++i ) e[i] = a[i]*2.0f;\n",
      "    /* check the results */\n",
      "    for( i = 0; i < n; ++i ) assert( r[i] == e[i] );\n",
      "    printf( \"%d iterations completed\\n\", n );\n",
      "    return 0;\n",
      "}"
     ],
     "language": "python",
     "metadata": {},
     "outputs": [
      {
       "output_type": "stream",
       "stream": "stdout",
       "text": [
        "Overwriting test0.c\n"
       ]
      }
     ],
     "prompt_number": 11
    },
    {
     "cell_type": "code",
     "collapsed": false,
     "input": [
      "!pgcc -acc  -ta=nvidia,cuda5.5,time,host -Minfo -o test0.exe test0.c"
     ],
     "language": "python",
     "metadata": {},
     "outputs": [
      {
       "output_type": "stream",
       "stream": "stdout",
       "text": [
        "NOTE: your trial license will expire in 13 days, 14.2 hours.\r\n"
       ]
      },
      {
       "output_type": "stream",
       "stream": "stdout",
       "text": [
        "PGC-W-0095-Type cast required for this conversion (test0.c: 27)\r\n"
       ]
      },
      {
       "output_type": "stream",
       "stream": "stdout",
       "text": [
        "main:\r\n",
        "     20, Generating present_or_copyout(r[0:100000])\r\n",
        "         Generating present_or_copyin(a[0:100000])\r\n",
        "         Generating NVIDIA code\r\n",
        "         Generating compute capability 1.0 binary\r\n",
        "         Generating compute capability 2.0 binary\r\n",
        "         Generating compute capability 3.0 binary\r\n",
        "     22, Complex loop carried dependence of '*(a)' prevents parallelization\r\n",
        "         Loop carried dependence of '*(r)' prevents parallelization\r\n",
        "         Loop carried backward dependence of '*(r)' prevents vectorization\r\n",
        "         Accelerator scalar kernel generated\r\n",
        "PGC/x86-64 OSX 13.10-0: compilation completed with warnings\r\n"
       ]
      }
     ],
     "prompt_number": 1
    },
    {
     "cell_type": "code",
     "collapsed": false,
     "input": [
      "!./test0.exe"
     ],
     "language": "python",
     "metadata": {},
     "outputs": [
      {
       "output_type": "stream",
       "stream": "stdout",
       "text": [
        "100000 iterations completed\r\n",
        "\r\n",
        "Accelerator Kernel Timing data\r\n",
        "/Users/tom/Bitbucket/2013-HPCS/Lecture-Code/OpenACC/test0.c\r\n",
        "  main  NVIDIA  devicenum=0\r\n",
        "    time(us): 72,270\r\n",
        "    20: compute region reached 1 time\r\n",
        "        20: data copyin reached 1 time\r\n",
        "             device time(us): total=254 max=254 min=254 avg=254\r\n",
        "        22: kernel launched 1 time\r\n",
        "            grid: [1]  block: [1]\r\n",
        "             device time(us): total=71,763 max=71,763 min=71,763 avg=71,763\r\n",
        "            elapsed time(us): total=71,779 max=71,779 min=71,779 avg=71,779\r\n",
        "        25: data copyout reached 1 time\r\n",
        "             device time(us): total=253 max=253 min=253 avg=253\r\n"
       ]
      }
     ],
     "prompt_number": 2
    },
    {
     "cell_type": "code",
     "collapsed": false,
     "input": [
      "%%file test1.c\n",
      "#include <stdio.h>\n",
      "#include <stdlib.h>\n",
      "#include <assert.h>\n",
      "        \n",
      "int main( int argc, char* argv[] ) {\n",
      "    int n;      /* size of the vector */\n",
      "    float * a;  /* the vector */\n",
      "    float *restrict r;  /* the results */\n",
      "    float * e;  /* expected results */\n",
      "    int i;\n",
      "    \n",
      "    n = 100000;\n",
      "        \n",
      "    a = (float*)malloc(n*sizeof(float));\n",
      "    r = (float*)malloc(n*sizeof(float));\n",
      "    e = (float*)malloc(n*sizeof(float));\n",
      "    /* initialize */\n",
      "    for( i = 0; i < n; ++i ) a[i] = (float)(i+1);\n",
      "        \n",
      "#pragma acc region\n",
      "    {\n",
      "        for( i = 0; i < n; ++i ) r[i] = a[i]*2.0f;\n",
      "    }\n",
      "    /* compute on the host to compare */\n",
      "    for( i = 0; i < n; ++i ) e[i] = a[i]*2.0f;\n",
      "    /* check the results */\n",
      "    for( i = 0; i < n; ++i ) assert( r[i] == e[i] );\n",
      "    printf( \"%d iterations completed\\n\", n );\n",
      "    return 0;\n",
      "}"
     ],
     "language": "python",
     "metadata": {
      "slideshow": {
       "slide_type": "subslide"
      }
     },
     "outputs": [
      {
       "output_type": "stream",
       "stream": "stdout",
       "text": [
        "Overwriting test1.c\n"
       ]
      }
     ],
     "prompt_number": 14
    },
    {
     "cell_type": "code",
     "collapsed": false,
     "input": [
      "!pgcc -acc  -ta=nvidia,cuda5.5,time,host -Minfo -o test1.exe test1.c "
     ],
     "language": "python",
     "metadata": {
      "slideshow": {
       "slide_type": "subslide"
      }
     },
     "outputs": [
      {
       "output_type": "stream",
       "stream": "stdout",
       "text": [
        "NOTE: your trial license will expire in 13 days, 14.1 hours.\r\n"
       ]
      },
      {
       "output_type": "stream",
       "stream": "stdout",
       "text": [
        "PGC-W-0095-Type cast required for this conversion (test1.c: 27)\r\n"
       ]
      },
      {
       "output_type": "stream",
       "stream": "stdout",
       "text": [
        "main:\r\n",
        "     20, Generating present_or_copyout(r[0:100000])\r\n",
        "         Generating present_or_copyin(a[0:100000])\r\n",
        "         Generating NVIDIA code\r\n",
        "         Generating compute capability 1.0 binary\r\n",
        "         Generating compute capability 2.0 binary\r\n",
        "         Generating compute capability 3.0 binary\r\n",
        "     22, Loop is parallelizable\r\n",
        "         Accelerator kernel generated\r\n",
        "         22, #pragma acc loop gang, vector(128) /* blockIdx.x threadIdx.x */\r\n",
        "PGC/x86-64 OSX 13.10-0: compilation completed with warnings\r\n"
       ]
      }
     ],
     "prompt_number": 3
    },
    {
     "cell_type": "code",
     "collapsed": false,
     "input": [
      "!export ACC_NOTIFY=1; ./test1.exe"
     ],
     "language": "python",
     "metadata": {
      "slideshow": {
       "slide_type": "subslide"
      }
     },
     "outputs": [
      {
       "output_type": "stream",
       "stream": "stdout",
       "text": [
        "launch CUDA kernel  file=/Users/tom/Bitbucket/2013-HPCS/Lecture-Code/OpenACC/test1.c function=main line=22 device=0 grid=782 block=128\r\n",
        "100000 iterations completed\r\n",
        "\r\n",
        "Accelerator Kernel Timing data\r\n",
        "/Users/tom/Bitbucket/2013-HPCS/Lecture-Code/OpenACC/test1.c\r\n",
        "  main  NVIDIA  devicenum=0\r\n",
        "    time(us): 955\r\n",
        "    20: compute region reached 1 time\r\n",
        "        20: data copyin reached 1 time\r\n",
        "             device time(us): total=264 max=264 min=264 avg=264\r\n",
        "        22: kernel launched 1 time\r\n",
        "            grid: [782]  block: [128]\r\n",
        "             device time(us): total=438 max=438 min=438 avg=438\r\n",
        "            elapsed time(us): total=459 max=459 min=459 avg=459\r\n",
        "        25: data copyout reached 1 time\r\n",
        "             device time(us): total=253 max=253 min=253 avg=253\r\n"
       ]
      }
     ],
     "prompt_number": 4
    },
    {
     "cell_type": "code",
     "collapsed": false,
     "input": [
      "!export ACC_DEVICE=host; export ACC_NOTIFY=1; ./test1.exe"
     ],
     "language": "python",
     "metadata": {
      "slideshow": {
       "slide_type": "subslide"
      }
     },
     "outputs": [
      {
       "output_type": "stream",
       "stream": "stdout",
       "text": [
        "100000 iterations completed\r\n"
       ]
      }
     ],
     "prompt_number": 10
    },
    {
     "cell_type": "markdown",
     "metadata": {
      "slideshow": {
       "slide_type": "slide"
      }
     },
     "source": [
      "## More compute intensive program\n",
      "\n",
      "* `r[i] = sin(a[i])*sin(a[i])+ cos(a[i])*cos(a[i])`\n",
      "* Device gets initialized during the first `acc` directive"
     ]
    },
    {
     "cell_type": "code",
     "collapsed": false,
     "input": [
      "%%file test2.c\n",
      "#include <stdlib.h>\n",
      "#include <assert.h>\n",
      "#include <sys/time.h>\n",
      "#include <math.h>\n",
      "#include <accel.h>\n",
      "#include <accelmath.h>\n",
      "\n",
      "int main( int argc, char* argv[] )\n",
      "{\n",
      "    int n;      /* size of the vector */\n",
      "    float *restrict a;  /* the vector */\n",
      "    float *restrict r;  /* the results */\n",
      "    float *restrict e;  /* expected results */\n",
      "    float s, c;\n",
      "    struct timeval t1, t2, t3;\n",
      "    long cgpu, chost;\n",
      "    int i;\n",
      "    n = 100000;\n",
      "\n",
      "    a = (float*)malloc(n*sizeof(float));\n",
      "    r = (float*)malloc(n*sizeof(float));\n",
      "    e = (float*)malloc(n*sizeof(float));\n",
      "    for( i = 0; i < n; ++i ) a[i] = (float)(i+1) * 2.0f;\n",
      "    \n",
      "    gettimeofday( &t1, NULL );\n",
      "    #pragma acc region\n",
      "    {\n",
      "        for( i = 0; i < n; ++i ){\n",
      "            s = sinf(a[i]);\n",
      "            c = cosf(a[i]);\n",
      "            r[i] = s*s + c*c;\n",
      "        }\n",
      "    }\n",
      "    gettimeofday( &t2, NULL );\n",
      "    cgpu = (t2.tv_sec - t1.tv_sec)*1000000 + (t2.tv_usec - t1.tv_usec);\n",
      "        for( i = 0; i < n; ++i ){\n",
      "            s = sinf(a[i]);\n",
      "            c = cosf(a[i]);\n",
      "            e[i] = s*s + c*c;\n",
      "        }\n",
      "    gettimeofday( &t3, NULL );\n",
      "    chost = (t3.tv_sec - t2.tv_sec)*1000000 + (t3.tv_usec - t2.tv_usec);\n",
      "    /* check the results */\n",
      "    for( i = 0; i < n; ++i )\n",
      "        assert( fabsf(r[i] - e[i]) < 0.000001f );\n",
      "    printf( \"%13d iterations completed\\n\", n );\n",
      "    printf( \"%13ld microseconds on GPU\\n\", cgpu );\n",
      "    printf( \"%13ld microseconds on host\\n\", chost );\n",
      "    return 0;\n",
      "}"
     ],
     "language": "python",
     "metadata": {
      "slideshow": {
       "slide_type": "subslide"
      }
     },
     "outputs": [
      {
       "output_type": "stream",
       "stream": "stdout",
       "text": [
        "Overwriting test2.c\n"
       ]
      }
     ],
     "prompt_number": 8
    },
    {
     "cell_type": "code",
     "collapsed": false,
     "input": [
      "!pgcc -acc  -ta=nvidia,cuda5.5,time,host -Minfo -o test2.exe test2.c "
     ],
     "language": "python",
     "metadata": {
      "slideshow": {
       "slide_type": "subslide"
      }
     },
     "outputs": [
      {
       "output_type": "stream",
       "stream": "stdout",
       "text": [
        "NOTE: your trial license will expire in 13 days, 14 hours.\r\n"
       ]
      },
      {
       "output_type": "stream",
       "stream": "stdout",
       "text": [
        "PGC-W-0095-Type cast required for this conversion (test2.c: 45)\r\n"
       ]
      },
      {
       "output_type": "stream",
       "stream": "stdout",
       "text": [
        "main:\r\n",
        "     26, Generating present_or_copyout(r[0:100000])\r\n",
        "         Generating present_or_copyin(a[0:100000])\r\n",
        "         Generating NVIDIA code\r\n",
        "         Generating compute capability 1.0 binary\r\n",
        "         Generating compute capability 2.0 binary\r\n",
        "         Generating compute capability 3.0 binary\r\n",
        "     28, Loop is parallelizable\r\n",
        "         Accelerator kernel generated\r\n",
        "         28, #pragma acc loop gang, vector(128) /* blockIdx.x threadIdx.x */\r\n",
        "PGC/x86-64 OSX 13.10-0: compilation completed with warnings\r\n"
       ]
      }
     ],
     "prompt_number": 11
    },
    {
     "cell_type": "code",
     "collapsed": false,
     "input": [
      "!./test2.exe"
     ],
     "language": "python",
     "metadata": {
      "slideshow": {
       "slide_type": "subslide"
      }
     },
     "outputs": [
      {
       "output_type": "stream",
       "stream": "stdout",
       "text": [
        "       100000 iterations completed\r\n",
        "       147151 microseconds on GPU\r\n",
        "         2124 microseconds on host\r\n",
        "\r\n",
        "Accelerator Kernel Timing data\r\n",
        "/Users/tom/Bitbucket/2013-HPCS/Lecture-Code/OpenACC/test2.c\r\n",
        "  main  NVIDIA  devicenum=0\r\n",
        "    time(us): 1,052\r\n",
        "    26: compute region reached 1 time\r\n",
        "        26: data copyin reached 1 time\r\n",
        "             device time(us): total=258 max=258 min=258 avg=258\r\n",
        "        28: kernel launched 1 time\r\n",
        "            grid: [782]  block: [128]\r\n",
        "             device time(us): total=543 max=543 min=543 avg=543\r\n",
        "            elapsed time(us): total=562 max=562 min=562 avg=562\r\n",
        "        34: data copyout reached 1 time\r\n",
        "             device time(us): total=251 max=251 min=251 avg=251\r\n"
       ]
      }
     ],
     "prompt_number": 12
    },
    {
     "cell_type": "markdown",
     "metadata": {
      "slideshow": {
       "slide_type": "subslide"
      }
     },
     "source": [
      "* Initialize the accelerator device\n",
      "* acc_init( acc_device_nvidia );\n",
      "* acc_set_device_num(0);"
     ]
    },
    {
     "cell_type": "code",
     "collapsed": false,
     "input": [
      "%%file test3.c\n",
      "#include <stdlib.h>\n",
      "#include <assert.h>\n",
      "#include <sys/time.h>\n",
      "#include <math.h>\n",
      "#include <accel.h>\n",
      "#include <accelmath.h>\n",
      "\n",
      "int main( int argc, char* argv[] )\n",
      "{\n",
      "    int n;      /* size of the vector */\n",
      "    float *restrict a;  /* the vector */\n",
      "    float *restrict r;  /* the results */\n",
      "    float *restrict e;  /* expected results */\n",
      "    float s, c;\n",
      "    struct timeval t1, t2, t3;\n",
      "    long cgpu, chost;\n",
      "    int i;\n",
      "    n = 10000000;\n",
      "\n",
      "    a = (float*)malloc(n*sizeof(float));\n",
      "    r = (float*)malloc(n*sizeof(float));\n",
      "    e = (float*)malloc(n*sizeof(float));\n",
      "    for( i = 0; i < n; ++i ) a[i] = (float)(i+1) * 2.0f;\n",
      "    \n",
      "    acc_init( acc_device_nvidia ); \n",
      "\n",
      "    gettimeofday( &t1, NULL );\n",
      "    #pragma acc region\n",
      "    {\n",
      "        for( i = 0; i < n; ++i ){\n",
      "            s = sinf(a[i]);\n",
      "            c = cosf(a[i]);\n",
      "            r[i] = s*s + c*c;\n",
      "        }\n",
      "    }\n",
      "    gettimeofday( &t2, NULL );\n",
      "    cgpu = (t2.tv_sec - t1.tv_sec)*1000000 + (t2.tv_usec - t1.tv_usec);\n",
      "        for( i = 0; i < n; ++i ){\n",
      "            s = sinf(a[i]);\n",
      "            c = cosf(a[i]);\n",
      "            e[i] = s*s + c*c;\n",
      "        }\n",
      "    gettimeofday( &t3, NULL );\n",
      "    chost = (t3.tv_sec - t2.tv_sec)*1000000 + (t3.tv_usec - t2.tv_usec);\n",
      "    /* check the results */\n",
      "    for( i = 0; i < n; ++i )\n",
      "        assert( fabsf(r[i] - e[i]) < 0.000001f );\n",
      "    printf( \"%13d iterations completed\\n\", n );\n",
      "    printf( \"%13ld microseconds on GPU\\n\", cgpu );\n",
      "    printf( \"%13ld microseconds on host\\n\", chost );\n",
      "    return 0;\n",
      "}"
     ],
     "language": "python",
     "metadata": {
      "slideshow": {
       "slide_type": "subslide"
      }
     },
     "outputs": [
      {
       "output_type": "stream",
       "stream": "stdout",
       "text": [
        "Overwriting test3.c\n"
       ]
      }
     ],
     "prompt_number": 15
    },
    {
     "cell_type": "code",
     "collapsed": false,
     "input": [
      "!pgcc -acc  -ta=nvidia,cuda5.5,time,host -Minfo -o test3.exe test3.c"
     ],
     "language": "python",
     "metadata": {
      "slideshow": {
       "slide_type": "subslide"
      }
     },
     "outputs": [
      {
       "output_type": "stream",
       "stream": "stdout",
       "text": [
        "NOTE: your trial license will expire in 13 days, 13.9 hours.\r\n"
       ]
      },
      {
       "output_type": "stream",
       "stream": "stdout",
       "text": [
        "PGC-W-0095-Type cast required for this conversion (test3.c: 47)\r\n"
       ]
      },
      {
       "output_type": "stream",
       "stream": "stdout",
       "text": [
        "main:\r\n",
        "     28, Generating present_or_copyout(r[0:10000000])\r\n",
        "         Generating present_or_copyin(a[0:10000000])\r\n",
        "         Generating NVIDIA code\r\n",
        "         Generating compute capability 1.0 binary\r\n",
        "         Generating compute capability 2.0 binary\r\n",
        "         Generating compute capability 3.0 binary\r\n",
        "     30, Loop is parallelizable\r\n",
        "         Accelerator kernel generated\r\n",
        "         30, #pragma acc loop gang, vector(128) /* blockIdx.x threadIdx.x */\r\n",
        "PGC/x86-64 OSX 13.10-0: compilation completed with warnings\r\n"
       ]
      }
     ],
     "prompt_number": 16
    },
    {
     "cell_type": "code",
     "collapsed": false,
     "input": [
      "!./test3.exe"
     ],
     "language": "python",
     "metadata": {
      "slideshow": {
       "slide_type": "subslide"
      }
     },
     "outputs": [
      {
       "output_type": "stream",
       "stream": "stdout",
       "text": [
        "     10000000 iterations completed\r\n",
        "       155285 microseconds on GPU\r\n",
        "       341663 microseconds on host\r\n",
        "\r\n",
        "Accelerator Kernel Timing data\r\n",
        "/Users/tom/Bitbucket/2013-HPCS/Lecture-Code/OpenACC/test3.c\r\n",
        "  main  NVIDIA  devicenum=0\r\n",
        "    time(us): 86,215\r\n",
        "    28: compute region reached 1 time\r\n",
        "        28: data copyin reached 3 times\r\n",
        "             device time(us): total=24,475 max=10,267 min=3,943 avg=8,158\r\n",
        "        30: kernel launched 1 time\r\n",
        "            grid: [65535]  block: [128]\r\n",
        "             device time(us): total=37,773 max=37,773 min=37,773 avg=37,773\r\n",
        "            elapsed time(us): total=37,798 max=37,798 min=37,798 avg=37,798\r\n",
        "        36: data copyout reached 3 times\r\n",
        "             device time(us): total=23,967 max=10,058 min=3,869 avg=7,989\r\n"
       ]
      }
     ],
     "prompt_number": 17
    },
    {
     "cell_type": "code",
     "collapsed": false,
     "input": [],
     "language": "python",
     "metadata": {},
     "outputs": []
    }
   ],
   "metadata": {}
  }
 ]
}