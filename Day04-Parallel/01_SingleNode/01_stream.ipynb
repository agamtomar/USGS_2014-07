{
 "metadata": {
  "css": [
   ""
  ],
  "name": "",
  "signature": "sha256:d6a87c03175debdabb20814638d9dc54c5bb1ba66e6a1fe012d2d4f7766baf2f"
 },
 "nbformat": 3,
 "nbformat_minor": 0,
 "worksheets": [
  {
   "cells": [
    {
     "cell_type": "markdown",
     "metadata": {
      "slideshow": {
       "slide_type": "slide"
      }
     },
     "source": [
      "# Stream benchmark\n",
      "\n",
      "Measures the sustainable memory performance of the system in MB/s. \n",
      "\n",
      "## Let's get the source code\n",
      "\n",
      "Stream benchmark main web site: \n",
      "http://www.cs.virginia.edu/stream/\n"
     ]
    },
    {
     "cell_type": "code",
     "collapsed": false,
     "input": [
      "!wget http://www.cs.virginia.edu/stream/FTP/Code/stream.c"
     ],
     "language": "python",
     "metadata": {},
     "outputs": [
      {
       "output_type": "stream",
       "stream": "stdout",
       "text": [
        "--2014-07-27 11:46:29--  http://www.cs.virginia.edu/stream/FTP/Code/stream.c\r\n",
        "Resolving www.cs.virginia.edu (www.cs.virginia.edu)... 128.143.137.29\r\n",
        "Connecting to www.cs.virginia.edu (www.cs.virginia.edu)|128.143.137.29|:80... "
       ]
      },
      {
       "output_type": "stream",
       "stream": "stdout",
       "text": [
        "connected.\r\n",
        "HTTP request sent, awaiting response... "
       ]
      },
      {
       "output_type": "stream",
       "stream": "stdout",
       "text": [
        "200 OK\r\n",
        "Length: 19967 (19K) [text/plain]\r\n",
        "Saving to: \u2018stream.c.1\u2019\r\n",
        "\r\n",
        "\r",
        " 0% [                                       ] 0           --.-K/s              "
       ]
      },
      {
       "output_type": "stream",
       "stream": "stdout",
       "text": [
        "\r",
        "100%[======================================>] 19,967       110KB/s   in 0.2s   \r\n",
        "\r\n",
        "2014-07-27 11:46:29 (110 KB/s) - \u2018stream.c.1\u2019 saved [19967/19967]\r\n",
        "\r\n"
       ]
      }
     ],
     "prompt_number": 1
    },
    {
     "cell_type": "code",
     "collapsed": false,
     "input": [
      "!cat stream.c"
     ],
     "language": "python",
     "metadata": {
      "input_collapsed": false,
      "slideshow": {
       "slide_type": "subslide"
      }
     },
     "outputs": [
      {
       "output_type": "stream",
       "stream": "stdout",
       "text": [
        "/*-----------------------------------------------------------------------*/\r\n",
        "/* Program: STREAM                                                       */\r\n",
        "/* Revision: $Id: stream.c,v 5.10 2013/01/17 16:01:06 mccalpin Exp mccalpin $ */\r\n",
        "/* Original code developed by John D. McCalpin                           */\r\n",
        "/* Programmers: John D. McCalpin                                         */\r\n",
        "/*              Joe R. Zagar                                             */\r\n",
        "/*                                                                       */\r\n",
        "/* This program measures memory transfer rates in MB/s for simple        */\r\n",
        "/* computational kernels coded in C.                                     */\r\n",
        "/*-----------------------------------------------------------------------*/\r\n",
        "/* Copyright 1991-2013: John D. McCalpin                                 */\r\n",
        "/*-----------------------------------------------------------------------*/\r\n",
        "/* License:                                                              */\r\n",
        "/*  1. You are free to use this program and/or to redistribute           */\r\n",
        "/*     this program.                                                     */\r\n",
        "/*  2. You are free to modify this program for your own use,             */\r\n",
        "/*     including commercial use, subject to the publication              */\r\n",
        "/*     restrictions in item 3.                                           */\r\n",
        "/*  3. You are free to publish results obtained from running this        */\r\n",
        "/*     program, or from works that you derive from this program,         */\r\n",
        "/*     with the following limitations:                                   */\r\n",
        "/*     3a. In order to be referred to as \"STREAM benchmark results\",     */\r\n",
        "/*         published results must be in conformance to the STREAM        */\r\n",
        "/*         Run Rules, (briefly reviewed below) published at              */\r\n",
        "/*         http://www.cs.virginia.edu/stream/ref.html                    */\r\n",
        "/*         and incorporated herein by reference.                         */\r\n",
        "/*         As the copyright holder, John McCalpin retains the            */\r\n",
        "/*         right to determine conformity with the Run Rules.             */\r\n",
        "/*     3b. Results based on modified source code or on runs not in       */\r\n",
        "/*         accordance with the STREAM Run Rules must be clearly          */\r\n",
        "/*         labelled whenever they are published.  Examples of            */\r\n",
        "/*         proper labelling include:                                     */\r\n",
        "/*           \"tuned STREAM benchmark results\"                            */\r\n",
        "/*           \"based on a variant of the STREAM benchmark code\"           */\r\n",
        "/*         Other comparable, clear, and reasonable labelling is          */\r\n",
        "/*         acceptable.                                                   */\r\n",
        "/*     3c. Submission of results to the STREAM benchmark web site        */\r\n",
        "/*         is encouraged, but not required.                              */\r\n",
        "/*  4. Use of this program or creation of derived works based on this    */\r\n",
        "/*     program constitutes acceptance of these licensing restrictions.   */\r\n",
        "/*  5. Absolutely no warranty is expressed or implied.                   */\r\n",
        "/*-----------------------------------------------------------------------*/\r\n",
        "# include <stdio.h>\r\n",
        "# include <unistd.h>\r\n",
        "# include <math.h>\r\n",
        "# include <float.h>\r\n",
        "# include <limits.h>\r\n",
        "# include <sys/time.h>\r\n",
        "\r\n",
        "/*-----------------------------------------------------------------------\r\n",
        " * INSTRUCTIONS:\r\n",
        " *\r\n",
        " *\t1) STREAM requires different amounts of memory to run on different\r\n",
        " *           systems, depending on both the system cache size(s) and the\r\n",
        " *           granularity of the system timer.\r\n",
        " *     You should adjust the value of 'STREAM_ARRAY_SIZE' (below)\r\n",
        " *           to meet *both* of the following criteria:\r\n",
        " *       (a) Each array must be at least 4 times the size of the\r\n",
        " *           available cache memory. I don't worry about the difference\r\n",
        " *           between 10^6 and 2^20, so in practice the minimum array size\r\n",
        " *           is about 3.8 times the cache size.\r\n",
        " *           Example 1: One Xeon E3 with 8 MB L3 cache\r\n",
        " *               STREAM_ARRAY_SIZE should be >= 4 million, giving\r\n",
        " *               an array size of 30.5 MB and a total memory requirement\r\n",
        " *               of 91.5 MB.  \r\n",
        " *           Example 2: Two Xeon E5's with 20 MB L3 cache each (using OpenMP)\r\n",
        " *               STREAM_ARRAY_SIZE should be >= 20 million, giving\r\n",
        " *               an array size of 153 MB and a total memory requirement\r\n",
        " *               of 458 MB.  \r\n",
        " *       (b) The size should be large enough so that the 'timing calibration'\r\n",
        " *           output by the program is at least 20 clock-ticks.  \r\n",
        " *           Example: most versions of Windows have a 10 millisecond timer\r\n",
        " *               granularity.  20 \"ticks\" at 10 ms/tic is 200 milliseconds.\r\n",
        " *               If the chip is capable of 10 GB/s, it moves 2 GB in 200 msec.\r\n",
        " *               This means the each array must be at least 1 GB, or 128M elements.\r\n",
        " *\r\n",
        " *      Version 5.10 increases the default array size from 2 million\r\n",
        " *          elements to 10 million elements in response to the increasing\r\n",
        " *          size of L3 caches.  The new default size is large enough for caches\r\n",
        " *          up to 20 MB. \r\n",
        " *      Version 5.10 changes the loop index variables from \"register int\"\r\n",
        " *          to \"ssize_t\", which allows array indices >2^32 (4 billion)\r\n",
        " *          on properly configured 64-bit systems.  Additional compiler options\r\n",
        " *          (such as \"-mcmodel=medium\") may be required for large memory runs.\r\n",
        " *\r\n",
        " *      Array size can be set at compile time without modifying the source\r\n",
        " *          code for the (many) compilers that support preprocessor definitions\r\n",
        " *          on the compile line.  E.g.,\r\n",
        " *                gcc -O -DSTREAM_ARRAY_SIZE=100000000 stream.c -o stream.100M\r\n",
        " *          will override the default size of 10M with a new size of 100M elements\r\n",
        " *          per array.\r\n",
        " */\r\n",
        "#ifndef STREAM_ARRAY_SIZE\r\n",
        "#   define STREAM_ARRAY_SIZE\t10000000\r\n",
        "#endif\r\n",
        "\r\n",
        "/*  2) STREAM runs each kernel \"NTIMES\" times and reports the *best* result\r\n",
        " *         for any iteration after the first, therefore the minimum value\r\n",
        " *         for NTIMES is 2.\r\n",
        " *      There are no rules on maximum allowable values for NTIMES, but\r\n",
        " *         values larger than the default are unlikely to noticeably\r\n",
        " *         increase the reported performance.\r\n",
        " *      NTIMES can also be set on the compile line without changing the source\r\n",
        " *         code using, for example, \"-DNTIMES=7\".\r\n",
        " */\r\n",
        "#ifdef NTIMES\r\n",
        "#if NTIMES<=1\r\n",
        "#   define NTIMES\t10\r\n",
        "#endif\r\n",
        "#endif\r\n",
        "#ifndef NTIMES\r\n",
        "#   define NTIMES\t10\r\n",
        "#endif\r\n",
        "\r\n",
        "/*  Users are allowed to modify the \"OFFSET\" variable, which *may* change the\r\n",
        " *         relative alignment of the arrays (though compilers may change the \r\n",
        " *         effective offset by making the arrays non-contiguous on some systems). \r\n",
        " *      Use of non-zero values for OFFSET can be especially helpful if the\r\n",
        " *         STREAM_ARRAY_SIZE is set to a value close to a large power of 2.\r\n",
        " *      OFFSET can also be set on the compile line without changing the source\r\n",
        " *         code using, for example, \"-DOFFSET=56\".\r\n",
        " */\r\n",
        "#ifndef OFFSET\r\n",
        "#   define OFFSET\t0\r\n",
        "#endif\r\n",
        "\r\n",
        "/*\r\n",
        " *\t3) Compile the code with optimization.  Many compilers generate\r\n",
        " *       unreasonably bad code before the optimizer tightens things up.  \r\n",
        " *     If the results are unreasonably good, on the other hand, the\r\n",
        " *       optimizer might be too smart for me!\r\n",
        " *\r\n",
        " *     For a simple single-core version, try compiling with:\r\n",
        " *            cc -O stream.c -o stream\r\n",
        " *     This is known to work on many, many systems....\r\n",
        " *\r\n",
        " *     To use multiple cores, you need to tell the compiler to obey the OpenMP\r\n",
        " *       directives in the code.  This varies by compiler, but a common example is\r\n",
        " *            gcc -O -fopenmp stream.c -o stream_omp\r\n",
        " *       The environment variable OMP_NUM_THREADS allows runtime control of the \r\n",
        " *         number of threads/cores used when the resulting \"stream_omp\" program\r\n",
        " *         is executed.\r\n",
        " *\r\n",
        " *     To run with single-precision variables and arithmetic, simply add\r\n",
        " *         -DSTREAM_TYPE=float\r\n",
        " *     to the compile line.\r\n",
        " *     Note that this changes the minimum array sizes required --- see (1) above.\r\n",
        " *\r\n",
        " *     The preprocessor directive \"TUNED\" does not do much -- it simply causes the \r\n",
        " *       code to call separate functions to execute each kernel.  Trivial versions\r\n",
        " *       of these functions are provided, but they are *not* tuned -- they just \r\n",
        " *       provide predefined interfaces to be replaced with tuned code.\r\n",
        " *\r\n",
        " *\r\n",
        " *\t4) Optional: Mail the results to mccalpin@cs.virginia.edu\r\n",
        " *\t   Be sure to include info that will help me understand:\r\n",
        " *\t\ta) the computer hardware configuration (e.g., processor model, memory type)\r\n",
        " *\t\tb) the compiler name/version and compilation flags\r\n",
        " *      c) any run-time information (such as OMP_NUM_THREADS)\r\n",
        " *\t\td) all of the output from the test case.\r\n",
        " *\r\n",
        " * Thanks!\r\n",
        " *\r\n",
        " *-----------------------------------------------------------------------*/\r\n",
        "\r\n",
        "# define HLINE \"-------------------------------------------------------------\\n\"\r\n",
        "\r\n",
        "# ifndef MIN\r\n",
        "# define MIN(x,y) ((x)<(y)?(x):(y))\r\n",
        "# endif\r\n",
        "# ifndef MAX\r\n",
        "# define MAX(x,y) ((x)>(y)?(x):(y))\r\n",
        "# endif\r\n",
        "\r\n",
        "#ifndef STREAM_TYPE\r\n",
        "#define STREAM_TYPE double\r\n",
        "#endif\r\n",
        "\r\n",
        "static STREAM_TYPE\ta[STREAM_ARRAY_SIZE+OFFSET],\r\n",
        "\t\t\tb[STREAM_ARRAY_SIZE+OFFSET],\r\n",
        "\t\t\tc[STREAM_ARRAY_SIZE+OFFSET];\r\n",
        "\r\n",
        "static double\tavgtime[4] = {0}, maxtime[4] = {0},\r\n",
        "\t\tmintime[4] = {FLT_MAX,FLT_MAX,FLT_MAX,FLT_MAX};\r\n",
        "\r\n",
        "static char\t*label[4] = {\"Copy:      \", \"Scale:     \",\r\n",
        "    \"Add:       \", \"Triad:     \"};\r\n",
        "\r\n",
        "static double\tbytes[4] = {\r\n",
        "    2 * sizeof(STREAM_TYPE) * STREAM_ARRAY_SIZE,\r\n",
        "    2 * sizeof(STREAM_TYPE) * STREAM_ARRAY_SIZE,\r\n",
        "    3 * sizeof(STREAM_TYPE) * STREAM_ARRAY_SIZE,\r\n",
        "    3 * sizeof(STREAM_TYPE) * STREAM_ARRAY_SIZE\r\n",
        "    };\r\n",
        "\r\n",
        "extern double mysecond();\r\n",
        "extern void checkSTREAMresults();\r\n",
        "#ifdef TUNED\r\n",
        "extern void tuned_STREAM_Copy();\r\n",
        "extern void tuned_STREAM_Scale(STREAM_TYPE scalar);\r\n",
        "extern void tuned_STREAM_Add();\r\n",
        "extern void tuned_STREAM_Triad(STREAM_TYPE scalar);\r\n",
        "#endif\r\n",
        "#ifdef _OPENMP\r\n",
        "extern int omp_get_num_threads();\r\n",
        "#endif\r\n",
        "int\r\n",
        "main()\r\n",
        "    {\r\n",
        "    int\t\t\tquantum, checktick();\r\n",
        "    int\t\t\tBytesPerWord;\r\n",
        "    int\t\t\tk;\r\n",
        "    ssize_t\t\tj;\r\n",
        "    STREAM_TYPE\t\tscalar;\r\n",
        "    double\t\tt, times[4][NTIMES];\r\n",
        "\r\n",
        "    /* --- SETUP --- determine precision and check timing --- */\r\n",
        "\r\n",
        "    printf(HLINE);\r\n",
        "    printf(\"STREAM version $Revision: 5.10 $\\n\");\r\n",
        "    printf(HLINE);\r\n",
        "    BytesPerWord = sizeof(STREAM_TYPE);\r\n",
        "    printf(\"This system uses %d bytes per array element.\\n\",\r\n",
        "\tBytesPerWord);\r\n",
        "\r\n",
        "    printf(HLINE);\r\n",
        "#ifdef N\r\n",
        "    printf(\"*****  WARNING: ******\\n\");\r\n",
        "    printf(\"      It appears that you set the preprocessor variable N when compiling this code.\\n\");\r\n",
        "    printf(\"      This version of the code uses the preprocesor variable STREAM_ARRAY_SIZE to control the array size\\n\");\r\n",
        "    printf(\"      Reverting to default value of STREAM_ARRAY_SIZE=%llu\\n\",(unsigned long long) STREAM_ARRAY_SIZE);\r\n",
        "    printf(\"*****  WARNING: ******\\n\");\r\n",
        "#endif\r\n",
        "\r\n",
        "    printf(\"Array size = %llu (elements), Offset = %d (elements)\\n\" , (unsigned long long) STREAM_ARRAY_SIZE, OFFSET);\r\n",
        "    printf(\"Memory per array = %.1f MiB (= %.1f GiB).\\n\", \r\n",
        "\tBytesPerWord * ( (double) STREAM_ARRAY_SIZE / 1024.0/1024.0),\r\n",
        "\tBytesPerWord * ( (double) STREAM_ARRAY_SIZE / 1024.0/1024.0/1024.0));\r\n",
        "    printf(\"Total memory required = %.1f MiB (= %.1f GiB).\\n\",\r\n",
        "\t(3.0 * BytesPerWord) * ( (double) STREAM_ARRAY_SIZE / 1024.0/1024.),\r\n",
        "\t(3.0 * BytesPerWord) * ( (double) STREAM_ARRAY_SIZE / 1024.0/1024./1024.));\r\n",
        "    printf(\"Each kernel will be executed %d times.\\n\", NTIMES);\r\n",
        "    printf(\" The *best* time for each kernel (excluding the first iteration)\\n\"); \r\n",
        "    printf(\" will be used to compute the reported bandwidth.\\n\");\r\n",
        "\r\n",
        "#ifdef _OPENMP\r\n",
        "    printf(HLINE);\r\n",
        "#pragma omp parallel \r\n",
        "    {\r\n",
        "#pragma omp master\r\n",
        "\t{\r\n",
        "\t    k = omp_get_num_threads();\r\n",
        "\t    printf (\"Number of Threads requested = %i\\n\",k);\r\n",
        "        }\r\n",
        "    }\r\n",
        "#endif\r\n",
        "\r\n",
        "#ifdef _OPENMP\r\n",
        "\tk = 0;\r\n",
        "#pragma omp parallel\r\n",
        "#pragma omp atomic \r\n",
        "\t\tk++;\r\n",
        "    printf (\"Number of Threads counted = %i\\n\",k);\r\n",
        "#endif\r\n",
        "\r\n",
        "    /* Get initial value for system clock. */\r\n",
        "#pragma omp parallel for\r\n",
        "    for (j=0; j<STREAM_ARRAY_SIZE; j++) {\r\n",
        "\t    a[j] = 1.0;\r\n",
        "\t    b[j] = 2.0;\r\n",
        "\t    c[j] = 0.0;\r\n",
        "\t}\r\n",
        "\r\n",
        "    printf(HLINE);\r\n",
        "\r\n",
        "    if  ( (quantum = checktick()) >= 1) \r\n",
        "\tprintf(\"Your clock granularity/precision appears to be \"\r\n",
        "\t    \"%d microseconds.\\n\", quantum);\r\n",
        "    else {\r\n",
        "\tprintf(\"Your clock granularity appears to be \"\r\n",
        "\t    \"less than one microsecond.\\n\");\r\n",
        "\tquantum = 1;\r\n",
        "    }\r\n",
        "\r\n",
        "    t = mysecond();\r\n",
        "#pragma omp parallel for\r\n",
        "    for (j = 0; j < STREAM_ARRAY_SIZE; j++)\r\n",
        "\t\ta[j] = 2.0E0 * a[j];\r\n",
        "    t = 1.0E6 * (mysecond() - t);\r\n",
        "\r\n",
        "    printf(\"Each test below will take on the order\"\r\n",
        "\t\" of %d microseconds.\\n\", (int) t  );\r\n",
        "    printf(\"   (= %d clock ticks)\\n\", (int) (t/quantum) );\r\n",
        "    printf(\"Increase the size of the arrays if this shows that\\n\");\r\n",
        "    printf(\"you are not getting at least 20 clock ticks per test.\\n\");\r\n",
        "\r\n",
        "    printf(HLINE);\r\n",
        "\r\n",
        "    printf(\"WARNING -- The above is only a rough guideline.\\n\");\r\n",
        "    printf(\"For best results, please be sure you know the\\n\");\r\n",
        "    printf(\"precision of your system timer.\\n\");\r\n",
        "    printf(HLINE);\r\n",
        "    \r\n",
        "    /*\t--- MAIN LOOP --- repeat test cases NTIMES times --- */\r\n",
        "\r\n",
        "    scalar = 3.0;\r\n",
        "    for (k=0; k<NTIMES; k++)\r\n",
        "\t{\r\n",
        "\ttimes[0][k] = mysecond();\r\n",
        "#ifdef TUNED\r\n",
        "        tuned_STREAM_Copy();\r\n",
        "#else\r\n",
        "#pragma omp parallel for\r\n",
        "\tfor (j=0; j<STREAM_ARRAY_SIZE; j++)\r\n",
        "\t    c[j] = a[j];\r\n",
        "#endif\r\n",
        "\ttimes[0][k] = mysecond() - times[0][k];\r\n",
        "\t\r\n",
        "\ttimes[1][k] = mysecond();\r\n",
        "#ifdef TUNED\r\n",
        "        tuned_STREAM_Scale(scalar);\r\n",
        "#else\r\n",
        "#pragma omp parallel for\r\n",
        "\tfor (j=0; j<STREAM_ARRAY_SIZE; j++)\r\n",
        "\t    b[j] = scalar*c[j];\r\n",
        "#endif\r\n",
        "\ttimes[1][k] = mysecond() - times[1][k];\r\n",
        "\t\r\n",
        "\ttimes[2][k] = mysecond();\r\n",
        "#ifdef TUNED\r\n",
        "        tuned_STREAM_Add();\r\n",
        "#else\r\n",
        "#pragma omp parallel for\r\n",
        "\tfor (j=0; j<STREAM_ARRAY_SIZE; j++)\r\n",
        "\t    c[j] = a[j]+b[j];\r\n",
        "#endif\r\n",
        "\ttimes[2][k] = mysecond() - times[2][k];\r\n",
        "\t\r\n",
        "\ttimes[3][k] = mysecond();\r\n",
        "#ifdef TUNED\r\n",
        "        tuned_STREAM_Triad(scalar);\r\n",
        "#else\r\n",
        "#pragma omp parallel for\r\n",
        "\tfor (j=0; j<STREAM_ARRAY_SIZE; j++)\r\n",
        "\t    a[j] = b[j]+scalar*c[j];\r\n",
        "#endif\r\n",
        "\ttimes[3][k] = mysecond() - times[3][k];\r\n",
        "\t}\r\n",
        "\r\n",
        "    /*\t--- SUMMARY --- */\r\n",
        "\r\n",
        "    for (k=1; k<NTIMES; k++) /* note -- skip first iteration */\r\n",
        "\t{\r\n",
        "\tfor (j=0; j<4; j++)\r\n",
        "\t    {\r\n",
        "\t    avgtime[j] = avgtime[j] + times[j][k];\r\n",
        "\t    mintime[j] = MIN(mintime[j], times[j][k]);\r\n",
        "\t    maxtime[j] = MAX(maxtime[j], times[j][k]);\r\n",
        "\t    }\r\n",
        "\t}\r\n",
        "    \r\n",
        "    printf(\"Function    Best Rate MB/s  Avg time     Min time     Max time\\n\");\r\n",
        "    for (j=0; j<4; j++) {\r\n",
        "\t\tavgtime[j] = avgtime[j]/(double)(NTIMES-1);\r\n",
        "\r\n",
        "\t\tprintf(\"%s%12.1f  %11.6f  %11.6f  %11.6f\\n\", label[j],\r\n",
        "\t       1.0E-06 * bytes[j]/mintime[j],\r\n",
        "\t       avgtime[j],\r\n",
        "\t       mintime[j],\r\n",
        "\t       maxtime[j]);\r\n",
        "    }\r\n",
        "    printf(HLINE);\r\n",
        "\r\n",
        "    /* --- Check Results --- */\r\n",
        "    checkSTREAMresults();\r\n",
        "    printf(HLINE);\r\n",
        "\r\n",
        "    return 0;\r\n",
        "}\r\n",
        "\r\n",
        "# define\tM\t20\r\n",
        "\r\n",
        "int\r\n",
        "checktick()\r\n",
        "    {\r\n",
        "    int\t\ti, minDelta, Delta;\r\n",
        "    double\tt1, t2, timesfound[M];\r\n",
        "\r\n",
        "/*  Collect a sequence of M unique time values from the system. */\r\n",
        "\r\n",
        "    for (i = 0; i < M; i++) {\r\n",
        "\tt1 = mysecond();\r\n",
        "\twhile( ((t2=mysecond()) - t1) < 1.0E-6 )\r\n",
        "\t    ;\r\n",
        "\ttimesfound[i] = t1 = t2;\r\n",
        "\t}\r\n",
        "\r\n",
        "/*\r\n",
        " * Determine the minimum difference between these M values.\r\n",
        " * This result will be our estimate (in microseconds) for the\r\n",
        " * clock granularity.\r\n",
        " */\r\n",
        "\r\n",
        "    minDelta = 1000000;\r\n",
        "    for (i = 1; i < M; i++) {\r\n",
        "\tDelta = (int)( 1.0E6 * (timesfound[i]-timesfound[i-1]));\r\n",
        "\tminDelta = MIN(minDelta, MAX(Delta,0));\r\n",
        "\t}\r\n",
        "\r\n",
        "   return(minDelta);\r\n",
        "    }\r\n",
        "\r\n",
        "\r\n",
        "\r\n",
        "/* A gettimeofday routine to give access to the wall\r\n",
        "   clock timer on most UNIX-like systems.  */\r\n",
        "\r\n",
        "#include <sys/time.h>\r\n",
        "\r\n",
        "double mysecond()\r\n",
        "{\r\n",
        "        struct timeval tp;\r\n",
        "        struct timezone tzp;\r\n",
        "        int i;\r\n",
        "\r\n",
        "        i = gettimeofday(&tp,&tzp);\r\n",
        "        return ( (double) tp.tv_sec + (double) tp.tv_usec * 1.e-6 );\r\n",
        "}\r\n",
        "\r\n",
        "#ifndef abs\r\n",
        "#define abs(a) ((a) >= 0 ? (a) : -(a))\r\n",
        "#endif\r\n",
        "void checkSTREAMresults ()\r\n",
        "{\r\n",
        "\tSTREAM_TYPE aj,bj,cj,scalar;\r\n",
        "\tSTREAM_TYPE aSumErr,bSumErr,cSumErr;\r\n",
        "\tSTREAM_TYPE aAvgErr,bAvgErr,cAvgErr;\r\n",
        "\tdouble epsilon;\r\n",
        "\tssize_t\tj;\r\n",
        "\tint\tk,ierr,err;\r\n",
        "\r\n",
        "    /* reproduce initialization */\r\n",
        "\taj = 1.0;\r\n",
        "\tbj = 2.0;\r\n",
        "\tcj = 0.0;\r\n",
        "    /* a[] is modified during timing check */\r\n",
        "\taj = 2.0E0 * aj;\r\n",
        "    /* now execute timing loop */\r\n",
        "\tscalar = 3.0;\r\n",
        "\tfor (k=0; k<NTIMES; k++)\r\n",
        "        {\r\n",
        "            cj = aj;\r\n",
        "            bj = scalar*cj;\r\n",
        "            cj = aj+bj;\r\n",
        "            aj = bj+scalar*cj;\r\n",
        "        }\r\n",
        "\r\n",
        "    /* accumulate deltas between observed and expected results */\r\n",
        "\taSumErr = 0.0;\r\n",
        "\tbSumErr = 0.0;\r\n",
        "\tcSumErr = 0.0;\r\n",
        "\tfor (j=0; j<STREAM_ARRAY_SIZE; j++) {\r\n",
        "\t\taSumErr += abs(a[j] - aj);\r\n",
        "\t\tbSumErr += abs(b[j] - bj);\r\n",
        "\t\tcSumErr += abs(c[j] - cj);\r\n",
        "\t\t// if (j == 417) printf(\"Index 417: c[j]: %f, cj: %f\\n\",c[j],cj);\t// MCCALPIN\r\n",
        "\t}\r\n",
        "\taAvgErr = aSumErr / (STREAM_TYPE) STREAM_ARRAY_SIZE;\r\n",
        "\tbAvgErr = bSumErr / (STREAM_TYPE) STREAM_ARRAY_SIZE;\r\n",
        "\tcAvgErr = cSumErr / (STREAM_TYPE) STREAM_ARRAY_SIZE;\r\n",
        "\r\n",
        "\tif (sizeof(STREAM_TYPE) == 4) {\r\n",
        "\t\tepsilon = 1.e-6;\r\n",
        "\t}\r\n",
        "\telse if (sizeof(STREAM_TYPE) == 8) {\r\n",
        "\t\tepsilon = 1.e-13;\r\n",
        "\t}\r\n",
        "\telse {\r\n",
        "\t\tprintf(\"WEIRD: sizeof(STREAM_TYPE) = %lu\\n\",sizeof(STREAM_TYPE));\r\n",
        "\t\tepsilon = 1.e-6;\r\n",
        "\t}\r\n",
        "\r\n",
        "\terr = 0;\r\n",
        "\tif (abs(aAvgErr/aj) > epsilon) {\r\n",
        "\t\terr++;\r\n",
        "\t\tprintf (\"Failed Validation on array a[], AvgRelAbsErr > epsilon (%e)\\n\",epsilon);\r\n",
        "\t\tprintf (\"     Expected Value: %e, AvgAbsErr: %e, AvgRelAbsErr: %e\\n\",aj,aAvgErr,abs(aAvgErr)/aj);\r\n",
        "\t\tierr = 0;\r\n",
        "\t\tfor (j=0; j<STREAM_ARRAY_SIZE; j++) {\r\n",
        "\t\t\tif (abs(a[j]/aj-1.0) > epsilon) {\r\n",
        "\t\t\t\tierr++;\r\n",
        "#ifdef VERBOSE\r\n",
        "\t\t\t\tif (ierr < 10) {\r\n",
        "\t\t\t\t\tprintf(\"         array a: index: %ld, expected: %e, observed: %e, relative error: %e\\n\",\r\n",
        "\t\t\t\t\t\tj,aj,a[j],abs((aj-a[j])/aAvgErr));\r\n",
        "\t\t\t\t}\r\n",
        "#endif\r\n",
        "\t\t\t}\r\n",
        "\t\t}\r\n",
        "\t\tprintf(\"     For array a[], %d errors were found.\\n\",ierr);\r\n",
        "\t}\r\n",
        "\tif (abs(bAvgErr/bj) > epsilon) {\r\n",
        "\t\terr++;\r\n",
        "\t\tprintf (\"Failed Validation on array b[], AvgRelAbsErr > epsilon (%e)\\n\",epsilon);\r\n",
        "\t\tprintf (\"     Expected Value: %e, AvgAbsErr: %e, AvgRelAbsErr: %e\\n\",bj,bAvgErr,abs(bAvgErr)/bj);\r\n",
        "\t\tprintf (\"     AvgRelAbsErr > Epsilon (%e)\\n\",epsilon);\r\n",
        "\t\tierr = 0;\r\n",
        "\t\tfor (j=0; j<STREAM_ARRAY_SIZE; j++) {\r\n",
        "\t\t\tif (abs(b[j]/bj-1.0) > epsilon) {\r\n",
        "\t\t\t\tierr++;\r\n",
        "#ifdef VERBOSE\r\n",
        "\t\t\t\tif (ierr < 10) {\r\n",
        "\t\t\t\t\tprintf(\"         array b: index: %ld, expected: %e, observed: %e, relative error: %e\\n\",\r\n",
        "\t\t\t\t\t\tj,bj,b[j],abs((bj-b[j])/bAvgErr));\r\n",
        "\t\t\t\t}\r\n",
        "#endif\r\n",
        "\t\t\t}\r\n",
        "\t\t}\r\n",
        "\t\tprintf(\"     For array b[], %d errors were found.\\n\",ierr);\r\n",
        "\t}\r\n",
        "\tif (abs(cAvgErr/cj) > epsilon) {\r\n",
        "\t\terr++;\r\n",
        "\t\tprintf (\"Failed Validation on array c[], AvgRelAbsErr > epsilon (%e)\\n\",epsilon);\r\n",
        "\t\tprintf (\"     Expected Value: %e, AvgAbsErr: %e, AvgRelAbsErr: %e\\n\",cj,cAvgErr,abs(cAvgErr)/cj);\r\n",
        "\t\tprintf (\"     AvgRelAbsErr > Epsilon (%e)\\n\",epsilon);\r\n",
        "\t\tierr = 0;\r\n",
        "\t\tfor (j=0; j<STREAM_ARRAY_SIZE; j++) {\r\n",
        "\t\t\tif (abs(c[j]/cj-1.0) > epsilon) {\r\n",
        "\t\t\t\tierr++;\r\n",
        "#ifdef VERBOSE\r\n",
        "\t\t\t\tif (ierr < 10) {\r\n",
        "\t\t\t\t\tprintf(\"         array c: index: %ld, expected: %e, observed: %e, relative error: %e\\n\",\r\n",
        "\t\t\t\t\t\tj,cj,c[j],abs((cj-c[j])/cAvgErr));\r\n",
        "\t\t\t\t}\r\n",
        "#endif\r\n",
        "\t\t\t}\r\n",
        "\t\t}\r\n",
        "\t\tprintf(\"     For array c[], %d errors were found.\\n\",ierr);\r\n",
        "\t}\r\n",
        "\tif (err == 0) {\r\n",
        "\t\tprintf (\"Solution Validates: avg error less than %e on all three arrays\\n\",epsilon);\r\n",
        "\t}\r\n",
        "#ifdef VERBOSE\r\n",
        "\tprintf (\"Results Validation Verbose Results: \\n\");\r\n",
        "\tprintf (\"    Expected a(1), b(1), c(1): %f %f %f \\n\",aj,bj,cj);\r\n",
        "\tprintf (\"    Observed a(1), b(1), c(1): %f %f %f \\n\",a[1],b[1],c[1]);\r\n",
        "\tprintf (\"    Rel Errors on a, b, c:     %e %e %e \\n\",abs(aAvgErr/aj),abs(bAvgErr/bj),abs(cAvgErr/cj));\r\n",
        "#endif\r\n",
        "}\r\n",
        "\r\n",
        "#ifdef TUNED\r\n",
        "/* stubs for \"tuned\" versions of the kernels */\r\n",
        "void tuned_STREAM_Copy()\r\n",
        "{\r\n",
        "\tssize_t j;\r\n",
        "#pragma omp parallel for\r\n",
        "        for (j=0; j<STREAM_ARRAY_SIZE; j++)\r\n",
        "            c[j] = a[j];\r\n",
        "}\r\n",
        "\r\n",
        "void tuned_STREAM_Scale(STREAM_TYPE scalar)\r\n",
        "{\r\n",
        "\tssize_t j;\r\n",
        "#pragma omp parallel for\r\n",
        "\tfor (j=0; j<STREAM_ARRAY_SIZE; j++)\r\n",
        "\t    b[j] = scalar*c[j];\r\n",
        "}\r\n",
        "\r\n",
        "void tuned_STREAM_Add()\r\n",
        "{\r\n",
        "\tssize_t j;\r\n",
        "#pragma omp parallel for\r\n",
        "\tfor (j=0; j<STREAM_ARRAY_SIZE; j++)\r\n",
        "\t    c[j] = a[j]+b[j];\r\n",
        "}\r\n",
        "\r\n",
        "void tuned_STREAM_Triad(STREAM_TYPE scalar)\r\n",
        "{\r\n",
        "\tssize_t j;\r\n",
        "#pragma omp parallel for\r\n",
        "\tfor (j=0; j<STREAM_ARRAY_SIZE; j++)\r\n",
        "\t    a[j] = b[j]+scalar*c[j];\r",
        "\r\n",
        "}\r\n",
        "/* end of stubs for the \"tuned\" versions of the kernels */\r\n",
        "#endif\r\n"
       ]
      }
     ],
     "prompt_number": 1
    },
    {
     "cell_type": "markdown",
     "metadata": {
      "slideshow": {
       "slide_type": "slide"
      }
     },
     "source": [
      "## Stream without optimization"
     ]
    },
    {
     "cell_type": "code",
     "collapsed": false,
     "input": [
      "%%bash\n",
      "gcc --version\n",
      "gcc -g stream.c -o stream_noopt.exe"
     ],
     "language": "python",
     "metadata": {},
     "outputs": [
      {
       "output_type": "stream",
       "stream": "stdout",
       "text": [
        "gcc (MacPorts gcc48 4.8.2_2) 4.8.2\n",
        "Copyright (C) 2013 Free Software Foundation, Inc.\n",
        "This is free software; see the source for copying conditions.  There is NO\n",
        "warranty; not even for MERCHANTABILITY or FITNESS FOR A PARTICULAR PURPOSE.\n",
        "\n"
       ]
      }
     ],
     "prompt_number": 17
    },
    {
     "cell_type": "code",
     "collapsed": false,
     "input": [
      "!./stream_noopt.exe"
     ],
     "language": "python",
     "metadata": {
      "slideshow": {
       "slide_type": "subslide"
      }
     },
     "outputs": [
      {
       "output_type": "stream",
       "stream": "stdout",
       "text": [
        "-------------------------------------------------------------\r\n",
        "STREAM version $Revision: 5.10 $\r\n",
        "-------------------------------------------------------------\r\n",
        "This system uses 8 bytes per array element.\r\n",
        "-------------------------------------------------------------\r\n",
        "Array size = 10000000 (elements), Offset = 0 (elements)\r\n",
        "Memory per array = 76.3 MiB (= 0.1 GiB).\r\n",
        "Total memory required = 228.9 MiB (= 0.2 GiB).\r\n",
        "Each kernel will be executed 10 times.\r\n",
        " The *best* time for each kernel (excluding the first iteration)\r\n",
        " will be used to compute the reported bandwidth.\r\n"
       ]
      },
      {
       "output_type": "stream",
       "stream": "stdout",
       "text": [
        "-------------------------------------------------------------\r\n",
        "Your clock granularity/precision appears to be 1 microseconds.\r\n"
       ]
      },
      {
       "output_type": "stream",
       "stream": "stdout",
       "text": [
        "Each test below will take on the order of 30833 microseconds.\r\n",
        "   (= 30833 clock ticks)\r\n",
        "Increase the size of the arrays if this shows that\r\n",
        "you are not getting at least 20 clock ticks per test.\r\n",
        "-------------------------------------------------------------\r\n",
        "WARNING -- The above is only a rough guideline.\r\n",
        "For best results, please be sure you know the\r\n",
        "precision of your system timer.\r\n",
        "-------------------------------------------------------------\r\n"
       ]
      },
      {
       "output_type": "stream",
       "stream": "stdout",
       "text": [
        "Function    Best Rate MB/s  Avg time     Min time     Max time\r\n",
        "Copy:            6576.5     0.024742     0.024329     0.025126\r\n",
        "Scale:           6226.6     0.025997     0.025696     0.026589\r\n",
        "Add:             9343.3     0.026129     0.025687     0.026840\r\n",
        "Triad:           8966.3     0.027273     0.026767     0.027591\r\n",
        "-------------------------------------------------------------\r\n"
       ]
      },
      {
       "output_type": "stream",
       "stream": "stdout",
       "text": [
        "Solution Validates: avg error less than 1.000000e-13 on all three arrays\r\n",
        "-------------------------------------------------------------\r\n"
       ]
      }
     ],
     "prompt_number": 19
    },
    {
     "cell_type": "markdown",
     "metadata": {
      "slideshow": {
       "slide_type": "slide"
      }
     },
     "source": [
      "## Stream optimized"
     ]
    },
    {
     "cell_type": "code",
     "collapsed": false,
     "input": [
      "%%bash\n",
      "gcc --version\n",
      "gcc -Ofast -fopt-info-optimized stream.c -o stream.exe"
     ],
     "language": "python",
     "metadata": {},
     "outputs": [
      {
       "output_type": "stream",
       "stream": "stdout",
       "text": [
        "gcc (MacPorts gcc48 4.8.2_2) 4.8.2\n",
        "Copyright (C) 2013 Free Software Foundation, Inc.\n",
        "This is free software; see the source for copying conditions.  There is NO\n",
        "warranty; not even for MERCHANTABILITY or FITNESS FOR A PARTICULAR PURPOSE.\n",
        "\n"
       ]
      },
      {
       "output_type": "stream",
       "stream": "stderr",
       "text": [
        "\n",
        "Analyzing loop at stream.c:405\n",
        "\n",
        "\n",
        "Vectorizing loop at stream.c:405\n",
        "\n",
        "stream.c:405: note: === vect_do_peeling_for_loop_bound ===Setting upper bound of nb iterations for epilogue loop to 2\n",
        "\n",
        "stream.c:405: note: LOOP VECTORIZED.\n",
        "Analyzing loop at stream.c:391\n",
        "\n",
        "Analyzing loop at stream.c:393\n",
        "\n",
        "stream.c:384: note: vectorized 1 loops in function.\n",
        "\n",
        "stream.c:405: note: Completely unroll loop 2 times\n",
        "\n",
        "stream.c:384: note: Turned loop into non-loop; it never loops.\n",
        "\n",
        "stream.c:384: note: Completely unroll loop 3 times\n",
        "\n",
        "Analyzing loop at stream.c:527\n",
        "\n",
        "Analyzing loop at stream.c:508\n",
        "\n",
        "Analyzing loop at stream.c:489\n",
        "\n",
        "Analyzing loop at stream.c:462\n",
        "\n",
        "\n",
        "Vectorizing loop at stream.c:462\n",
        "\n",
        "stream.c:462: note: LOOP VECTORIZED.\n",
        "Analyzing loop at stream.c:450\n",
        "\n",
        "stream.c:433: note: vectorized 1 loops in function.\n",
        "\n",
        "stream.c:450: note: Completely unroll loop 9 times\n",
        "\n",
        "stream.c:354: note: Completely unroll loop 4 times\n",
        "\n",
        "Analyzing loop at stream.c:363\n",
        "\n",
        "Analyzing loop at stream.c:352\n",
        "\n",
        "\n",
        "Vectorizing loop at stream.c:352\n",
        "\n",
        "stream.c:352: note: === vect_do_peeling_for_alignment ===\n",
        "stream.c:352: note: known peeling = 1.\n",
        "stream.c:352: note: niters for prolog loop: 1Setting upper bound of nb iterations for prologue loop to 0\n",
        "\n",
        "stream.c:352: note: === vect_update_inits_of_dr ===\n",
        "stream.c:352: note: LOOP VECTORIZED.\n",
        "Analyzing loop at stream.c:307\n",
        "\n",
        "Analyzing loop at stream.c:344\n",
        "\n",
        "\n",
        "Vectorizing loop at stream.c:344\n",
        "\n",
        "stream.c:344: note: LOOP VECTORIZED.\n",
        "Analyzing loop at stream.c:334\n",
        "\n",
        "\n",
        "Vectorizing loop at stream.c:334\n",
        "\n",
        "stream.c:334: note: LOOP VECTORIZED.\n",
        "Analyzing loop at stream.c:324\n",
        "\n",
        "\n",
        "Vectorizing loop at stream.c:324\n",
        "\n",
        "stream.c:324: note: LOOP VECTORIZED.\n",
        "Analyzing loop at stream.c:287\n",
        "\n",
        "\n",
        "Vectorizing loop at stream.c:287\n",
        "\n",
        "stream.c:287: note: LOOP VECTORIZED.\n",
        "Analyzing loop at stream.c:268\n",
        "\n",
        "\n",
        "Vectorizing loop at stream.c:268\n",
        "\n",
        "stream.c:268: note: LOOP VECTORIZED.\n",
        "stream.c:208: note: vectorized 6 loops in function.\n",
        "\n",
        "stream.c:208: note: Completely unroll loop 3 times\n",
        "\n",
        "stream.c:208: note: Turned loop into non-loop; it never loops.\n"
       ]
      }
     ],
     "prompt_number": 15
    },
    {
     "cell_type": "code",
     "collapsed": false,
     "input": [
      "!./stream.exe"
     ],
     "language": "python",
     "metadata": {
      "slideshow": {
       "slide_type": "subslide"
      }
     },
     "outputs": [
      {
       "output_type": "stream",
       "stream": "stdout",
       "text": [
        "-------------------------------------------------------------\r\n",
        "STREAM version $Revision: 5.10 $\r\n",
        "-------------------------------------------------------------\r\n",
        "This system uses 8 bytes per array element.\r\n",
        "-------------------------------------------------------------\r\n",
        "Array size = 10000000 (elements), Offset = 0 (elements)\r\n",
        "Memory per array = 76.3 MiB (= 0.1 GiB).\r\n",
        "Total memory required = 228.9 MiB (= 0.2 GiB).\r\n",
        "Each kernel will be executed 10 times.\r\n",
        " The *best* time for each kernel (excluding the first iteration)\r\n",
        " will be used to compute the reported bandwidth.\r\n"
       ]
      },
      {
       "output_type": "stream",
       "stream": "stdout",
       "text": [
        "-------------------------------------------------------------\r\n",
        "Your clock granularity/precision appears to be 1 microseconds.\r\n",
        "Each test below will take on the order of 9362 microseconds.\r\n",
        "   (= 9362 clock ticks)\r\n",
        "Increase the size of the arrays if this shows that\r\n",
        "you are not getting at least 20 clock ticks per test.\r\n",
        "-------------------------------------------------------------\r\n",
        "WARNING -- The above is only a rough guideline.\r\n",
        "For best results, please be sure you know the\r\n",
        "precision of your system timer.\r\n",
        "-------------------------------------------------------------\r\n"
       ]
      },
      {
       "output_type": "stream",
       "stream": "stdout",
       "text": [
        "Function    Best Rate MB/s  Avg time     Min time     Max time\r\n",
        "Copy:           18523.0     0.009095     0.008638     0.011144\r\n",
        "Scale:          12840.0     0.013272     0.012461     0.016395\r\n",
        "Add:            13708.7     0.018378     0.017507     0.022427\r\n",
        "Triad:          13807.4     0.018064     0.017382     0.019294\r\n",
        "-------------------------------------------------------------\r\n",
        "Solution Validates: avg error less than 1.000000e-13 on all three arrays\r\n",
        "-------------------------------------------------------------\r\n"
       ]
      }
     ],
     "prompt_number": 16
    },
    {
     "cell_type": "markdown",
     "metadata": {
      "slideshow": {
       "slide_type": "slide"
      }
     },
     "source": [
      "# Roofline performance model\n",
      "## Peak performance of the Intel Xeon X5660 \n",
      "\n",
      "- 2.8 GHz clock frequency\n",
      "- 4 FLOPS per clock cycle\n",
      "\n",
      "$P_{max} \\quad [GFLOPS/sec]$"
     ]
    },
    {
     "cell_type": "code",
     "collapsed": false,
     "input": [
      "P_max = 2.8 * 4\n",
      "print P_max"
     ],
     "language": "python",
     "metadata": {},
     "outputs": [
      {
       "output_type": "stream",
       "stream": "stdout",
       "text": [
        "11.2\n"
       ]
      }
     ],
     "prompt_number": 3
    },
    {
     "cell_type": "markdown",
     "metadata": {
      "slideshow": {
       "slide_type": "subslide"
      }
     },
     "source": [
      "## Peak memory bandwidth\n",
      "\n",
      "$b_{\\rm max} \\quad [GBytes/sec]$ "
     ]
    },
    {
     "cell_type": "code",
     "collapsed": false,
     "input": [
      "b_max = 32.\n",
      "print b_max"
     ],
     "language": "python",
     "metadata": {},
     "outputs": [
      {
       "output_type": "stream",
       "stream": "stdout",
       "text": [
        "32.0\n"
       ]
      }
     ],
     "prompt_number": 14
    },
    {
     "cell_type": "markdown",
     "metadata": {
      "slideshow": {
       "slide_type": "subslide"
      }
     },
     "source": [
      "## Machine balance\n",
      "\n",
      "$B_m = \\frac{\\text{memory bandwidth [GWords/sec]}}{\\text{peak performance [GFlops/sec]}} = \\frac{b_{max}}{P_{max}}$"
     ]
    },
    {
     "cell_type": "code",
     "collapsed": false,
     "input": [
      "B_m = b_max / p_max / 8.\n",
      "print B_m"
     ],
     "language": "python",
     "metadata": {},
     "outputs": [
      {
       "output_type": "stream",
       "stream": "stdout",
       "text": [
        "0.357142857143\n"
       ]
      }
     ],
     "prompt_number": 21
    },
    {
     "cell_type": "markdown",
     "metadata": {
      "slideshow": {
       "slide_type": "subslide"
      }
     },
     "source": [
      "## Stream bandwidth versus theoretical bandwidth\n",
      "\n",
      "$b_s$ and $\\frac{b_s}{b_{max}}$"
     ]
    },
    {
     "cell_type": "code",
     "collapsed": false,
     "input": [
      "b_s = 12.8\n",
      "print b_s"
     ],
     "language": "python",
     "metadata": {},
     "outputs": [
      {
       "output_type": "stream",
       "stream": "stdout",
       "text": [
        "12.8\n"
       ]
      }
     ],
     "prompt_number": 6
    },
    {
     "cell_type": "code",
     "collapsed": false,
     "input": [
      "b_s/b_max"
     ],
     "language": "python",
     "metadata": {},
     "outputs": [
      {
       "metadata": {},
       "output_type": "pyout",
       "prompt_number": 18,
       "text": [
        "0.4"
       ]
      }
     ],
     "prompt_number": 18
    },
    {
     "cell_type": "markdown",
     "metadata": {
      "slideshow": {
       "slide_type": "subslide"
      }
     },
     "source": [
      "## Attainable performance\n",
      "\n",
      "\\begin{equation*} \n",
      "\\text{Attainable Performance} = \\min \\left\\{ \\begin{array} {l}\n",
      "\\text{Peak Performance} \\\\\n",
      "\\text{Peak Bandwidth} \\times  \\text{Computational Intensity}\n",
      "\\end{array}  \\right. \\end{equation*}\n",
      "\n",
      "\\begin{equation*} \n",
      "\\text{Arithmetic Intensity} = \\text{floating point ops [Flops]} / \\text{data traffic [Words]}\n",
      "\\end{equation*}"
     ]
    },
    {
     "cell_type": "code",
     "collapsed": false,
     "input": [
      "def ap(i):\n",
      "    return min(P_max, b_s*i)"
     ],
     "language": "python",
     "metadata": {},
     "outputs": [],
     "prompt_number": 5
    },
    {
     "cell_type": "code",
     "collapsed": false,
     "input": [
      "import numpy as np\n",
      "ai_list = [1/8., 1/4., 1/2., 1, 2, 3, 4, 6, 8, 16]\n",
      "p = [ap(x) for x in ai_list]\n",
      "print p"
     ],
     "language": "python",
     "metadata": {},
     "outputs": [
      {
       "output_type": "stream",
       "stream": "stdout",
       "text": [
        "[1.6, 3.2, 6.4, 11.2, 11.2, 11.2, 11.2, 11.2, 11.2, 11.2]\n"
       ]
      }
     ],
     "prompt_number": 7
    },
    {
     "cell_type": "code",
     "collapsed": false,
     "input": [
      "import matplotlib\n",
      "import matplotlib.pyplot as plt\n",
      "\n",
      "plt.plot(ai_list, p,'-b')\n",
      "plt.xscale('log', basex=2)\n",
      "plt.yscale('log', basey=2)\n",
      "plt.xlabel('actual flop:byte ration')\n",
      "plt.ylabel('attainable GFlops/sec')\n",
      "plt.title('Intel Xeon X5660')\n",
      "plt.grid()"
     ],
     "language": "python",
     "metadata": {
      "slideshow": {
       "slide_type": "subslide"
      }
     },
     "outputs": [
      {
       "metadata": {},
       "output_type": "display_data",
       "png": "[encoded data removed]",
       "text": [
        "<matplotlib.figure.Figure at 0x3962fd0>"
       ]
      }
     ],
     "prompt_number": 42
    },
    {
     "cell_type": "code",
     "collapsed": false,
     "input": [],
     "language": "python",
     "metadata": {},
     "outputs": []
    }
   ],
   "metadata": {}
  }
 ]
}