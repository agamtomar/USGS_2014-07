{
 "metadata": {
  "name": "",
  "signature": "sha256:fccdc2592d78c6f229f46583aade3239f31022926fbc301d4b5e6fe980f0b2d5"
 },
 "nbformat": 3,
 "nbformat_minor": 0,
 "worksheets": [
  {
   "cells": [
    {
     "cell_type": "markdown",
     "metadata": {},
     "source": [
      "# OpenMP parallelism\n",
      "\n",
      "- diretive based parallelism\n",
      "\n",
      "Example: Hello World program\n",
      "\n",
      "Output:\n",
      "\n",
      "- Total number of tasks (only once)\n",
      "- Hello world from task #\n"
     ]
    },
    {
     "cell_type": "code",
     "collapsed": false,
     "input": [
      "%%file hello_omp.c\n",
      "#include <omp.h>\n",
      "#include <stdio.h>\n",
      "#include <stdlib.h>\n",
      "\n",
      "int main (int argc, char *argv[]) \n",
      "{\n",
      "int nthreads, tid;\n",
      "\n",
      "/* Fork a team of threads giving them their own copies of variables */\n",
      "#pragma omp parallel private(tid)\n",
      "  {\n",
      "\n",
      "  /* Obtain thread number */\n",
      "  tid = omp_get_thread_num();\n",
      "  printf(\"Hello World from thread = %d\\n\", tid);\n",
      "\n",
      "  /* Only master thread does this */\n",
      " #pragma omp barrier\n",
      " {\n",
      " #pragma omp master\n",
      " {\n",
      "    nthreads = omp_get_num_threads();\n",
      "    printf(\"Number of threads = %d\\n\", nthreads);\n",
      " }   \n",
      " }\n",
      "  }  /* All threads join master thread and disband */\n",
      "\n",
      "}\n"
     ],
     "language": "python",
     "metadata": {},
     "outputs": [
      {
       "output_type": "stream",
       "stream": "stdout",
       "text": [
        "Overwriting hello_omp.c\n"
       ]
      }
     ],
     "prompt_number": 6
    },
    {
     "cell_type": "code",
     "collapsed": false,
     "input": [
      "!gcc -fopenmp -O3 hello_omp.c -o hello_omp.exe"
     ],
     "language": "python",
     "metadata": {},
     "outputs": [],
     "prompt_number": 7
    },
    {
     "cell_type": "code",
     "collapsed": false,
     "input": [
      "!./hello_omp.exe"
     ],
     "language": "python",
     "metadata": {},
     "outputs": [
      {
       "output_type": "stream",
       "stream": "stdout",
       "text": [
        "Hello World from thread = 3\r\n",
        "Hello World from thread = 1\r\n",
        "Hello World from thread = 2\r\n",
        "Hello World from thread = 4\r\n",
        "Hello World from thread = 6\r\n",
        "Hello World from thread = 5\r\n",
        "Hello World from thread = 0\r\n",
        "Hello World from thread = 7\r\n",
        "Number of threads = 8\r\n"
       ]
      }
     ],
     "prompt_number": 8
    },
    {
     "cell_type": "code",
     "collapsed": false,
     "input": [],
     "language": "python",
     "metadata": {},
     "outputs": []
    }
   ],
   "metadata": {}
  }
 ]
}