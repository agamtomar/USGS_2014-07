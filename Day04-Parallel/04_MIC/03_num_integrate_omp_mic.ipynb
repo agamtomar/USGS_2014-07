{
 "metadata": {
  "name": "",
  "signature": "sha256:85172f89a113a1b78481968c34e74ee01d144d0c551f8cc9ae9df6512c933aac"
 },
 "nbformat": 3,
 "nbformat_minor": 0,
 "worksheets": [
  {
   "cells": [
    {
     "cell_type": "markdown",
     "metadata": {},
     "source": [
      "# Numerical integration\n",
      "\n",
      "- Race condition\n",
      "- Critical section\n",
      "- Reduction"
     ]
    },
    {
     "cell_type": "markdown",
     "metadata": {},
     "source": [
      "## Serial version"
     ]
    },
    {
     "cell_type": "code",
     "collapsed": false,
     "input": [
      "%%file pi.f90\n",
      "program calc_pi\n",
      "integer :: n=100000, i\n",
      "double precision :: w, x, area, pi, f, a\n",
      "\n",
      "! function to integrate\n",
      "f(a) = 4.d0 / (1.d0 + a*a)\n",
      "\n",
      "w = 1.0d0/n\n",
      "area = 0.0d0\n",
      "\n",
      "do i = 1, n\n",
      "  x = w * (i - 0.5d0)\n",
      "  area = area + f(x)\n",
      "end do\n",
      "pi = w * area\n",
      "\n",
      "print *, pi\n",
      "end program calc_pi"
     ],
     "language": "python",
     "metadata": {},
     "outputs": [
      {
       "output_type": "stream",
       "stream": "stdout",
       "text": [
        "Writing pi.f90\n"
       ]
      }
     ],
     "prompt_number": 1
    },
    {
     "cell_type": "code",
     "collapsed": false,
     "input": [
      "%%bash\n",
      "ifort -mmic -O3 pi.f90 -o pi.exe.mic\n",
      "./pi.exe.mic"
     ],
     "language": "python",
     "metadata": {},
     "outputs": [
      {
       "output_type": "stream",
       "stream": "stdout",
       "text": [
        "   3.14159265359813     \n"
       ]
      }
     ],
     "prompt_number": 4
    },
    {
     "cell_type": "markdown",
     "metadata": {},
     "source": [
      "## Incorrect Parallel Version"
     ]
    },
    {
     "cell_type": "code",
     "collapsed": false,
     "input": [
      "%%file pi_omp_incorrect.f90\n",
      "program calc_pi\n",
      "integer :: n=100000000, i\n",
      "double precision :: w, x, area, pi, f, a\n",
      "\n",
      "! function to integrate\n",
      "f(a) = 4.d0 / (1.d0 + a*a)\n",
      "\n",
      "w = 1.0d0/n\n",
      "area = 0.0d0\n",
      "\n",
      "!$OMP PARALLEL DO PRIVATE(x), SHARED(w, n, area)\n",
      "do i = 1, n\n",
      "  x = w * (i - 0.5d0)\n",
      "  area = area + f(x)\n",
      "end do\n",
      "!$OMP END PARALLEL DO\n",
      "pi = w * area\n",
      "\n",
      "print *, pi\n",
      "end program calc_pi"
     ],
     "language": "python",
     "metadata": {},
     "outputs": [
      {
       "output_type": "stream",
       "stream": "stdout",
       "text": [
        "Writing pi_omp_incorrect.f90\n"
       ]
      }
     ],
     "prompt_number": 5
    },
    {
     "cell_type": "code",
     "collapsed": false,
     "input": [
      "%%bash\n",
      "ifort -openmp -openmp-report2 -mmic -O3 pi_omp_incorrect.f90 -o pi_omp_incorrect.exe.mic\n",
      "./pi_omp_incorrect.exe.mic"
     ],
     "language": "python",
     "metadata": {},
     "outputs": [
      {
       "output_type": "stream",
       "stream": "stdout",
       "text": [
        "  1.544393536238630E-002\n"
       ]
      },
      {
       "output_type": "stream",
       "stream": "stderr",
       "text": [
        "pi_omp_incorrect.f90(11): (col. 7) remark: OpenMP DEFINED LOOP WAS PARALLELIZED.\n"
       ]
      }
     ],
     "prompt_number": 7
    },
    {
     "cell_type": "markdown",
     "metadata": {},
     "source": [
      "## Inefficent Parallel Version"
     ]
    },
    {
     "cell_type": "code",
     "collapsed": false,
     "input": [
      "%%file pi_omp_critical.f90\n",
      "program calc_pi\n",
      "integer :: n=1000000, i\n",
      "double precision :: w, x, area, pi, f, a\n",
      "\n",
      "! function to integrate\n",
      "f(a) = 4.d0 / (1.d0 + a*a)\n",
      "\n",
      "w = 1.0d0/n\n",
      "area = 0.0d0\n",
      "\n",
      "!$OMP PARALLEL DO PRIVATE(x), SHARED(w, n, area)\n",
      "do i = 1, n\n",
      "  x = w * (i - 0.5d0)\n",
      "!$OMP CRITICAL\n",
      "  area = area + f(x)\n",
      "!$OMP END CRITICAL\n",
      "end do\n",
      "!$OMP END PARALLEL DO\n",
      "pi = w * area\n",
      "\n",
      "print *, pi\n",
      "end program calc_pi"
     ],
     "language": "python",
     "metadata": {},
     "outputs": [
      {
       "output_type": "stream",
       "stream": "stdout",
       "text": [
        "Overwriting pi_omp_critical.f90\n"
       ]
      }
     ],
     "prompt_number": 12
    },
    {
     "cell_type": "code",
     "collapsed": false,
     "input": [
      "%%bash\n",
      "ifort -openmp -openmp-report2 -mmic -O3 pi_omp_critical.f90 -o pi_omp_critical.exe.mic\n",
      "./pi_omp_critical.exe.mic"
     ],
     "language": "python",
     "metadata": {},
     "outputs": [
      {
       "output_type": "stream",
       "stream": "stdout",
       "text": [
        "   3.14159265358989     \n"
       ]
      },
      {
       "output_type": "stream",
       "stream": "stderr",
       "text": [
        "pi_omp_critical.f90(14): (col. 7) remark: OpenMP multithreaded code generation for CRITICAL was successful.\n",
        "pi_omp_critical.f90(11): (col. 7) remark: OpenMP DEFINED LOOP WAS PARALLELIZED.\n"
       ]
      }
     ],
     "prompt_number": 13
    },
    {
     "cell_type": "markdown",
     "metadata": {},
     "source": [
      "## Using the reduction directive"
     ]
    },
    {
     "cell_type": "code",
     "collapsed": false,
     "input": [
      "%%file pi_omp.f90\n",
      "program calc_pi\n",
      "integer :: n=100000000, i\n",
      "double precision :: w, x, area, pi, f, a\n",
      "\n",
      "! function to integrate\n",
      "f(a) = 4.d0 / (1.d0 + a*a)\n",
      "\n",
      "w = 1.0d0/n\n",
      "area = 0.0d0\n",
      "\n",
      "!$OMP PARALLEL DO PRIVATE(x), SHARED(w, n) REDUCTION(+:area)\n",
      "do i = 1, n\n",
      "  x = w * (i - 0.5d0)\n",
      "  area = area + f(x)\n",
      "end do\n",
      "!$OMP END PARALLEL DO\n",
      "pi = w * area\n",
      "\n",
      "print *, pi\n",
      "end program calc_pi"
     ],
     "language": "python",
     "metadata": {},
     "outputs": [
      {
       "output_type": "stream",
       "stream": "stdout",
       "text": [
        "Writing pi_omp.f90\n"
       ]
      }
     ],
     "prompt_number": 14
    },
    {
     "cell_type": "code",
     "collapsed": false,
     "input": [
      "%%bash\n",
      "ifort -openmp -openmp-report2 -mmic -O3 pi_omp.f90 -o pi_omp.exe.mic\n",
      "./pi_omp.exe.mic"
     ],
     "language": "python",
     "metadata": {},
     "outputs": [
      {
       "output_type": "stream",
       "stream": "stdout",
       "text": [
        "   3.14159265358979     \n"
       ]
      },
      {
       "output_type": "stream",
       "stream": "stderr",
       "text": [
        "pi_omp.f90(11): (col. 7) remark: OpenMP DEFINED LOOP WAS PARALLELIZED.\n"
       ]
      }
     ],
     "prompt_number": 16
    },
    {
     "cell_type": "code",
     "collapsed": false,
     "input": [],
     "language": "python",
     "metadata": {},
     "outputs": []
    }
   ],
   "metadata": {}
  }
 ]
}