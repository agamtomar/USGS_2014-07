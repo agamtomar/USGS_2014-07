{
 "metadata": {
  "css": [
   ""
  ],
  "name": "",
  "signature": "sha256:44fc1500f2e0096c3212a1feb70a0b3b50d35341d003969c597df320c452629a"
 },
 "nbformat": 3,
 "nbformat_minor": 0,
 "worksheets": [
  {
   "cells": [
    {
     "cell_type": "markdown",
     "metadata": {
      "slideshow": {
       "slide_type": "slide"
      }
     },
     "source": [
      "# Stream benchmark using OpenMP\n",
      "\n",
      "Measures the sustainable memory performance of the system in MB/s. \n",
      "\n",
      "## Let's get the source code\n",
      "\n",
      "Stream benchmark main web site: \n",
      "http://www.cs.virginia.edu/stream/\n"
     ]
    },
    {
     "cell_type": "code",
     "collapsed": false,
     "input": [
      "!wget http://www.cs.virginia.edu/stream/FTP/Code/stream.c"
     ],
     "language": "python",
     "metadata": {},
     "outputs": [
      {
       "output_type": "stream",
       "stream": "stdout",
       "text": [
        "--2014-07-30 10:28:27--  http://www.cs.virginia.edu/stream/FTP/Code/stream.c\r\n"
       ]
      },
      {
       "output_type": "stream",
       "stream": "stdout",
       "text": [
        "Resolving www.cs.virginia.edu... "
       ]
      },
      {
       "output_type": "stream",
       "stream": "stdout",
       "text": [
        "128.143.137.29\r\n",
        "Connecting to www.cs.virginia.edu|128.143.137.29|:80... "
       ]
      },
      {
       "output_type": "stream",
       "stream": "stdout",
       "text": [
        "connected.\r\n",
        "HTTP request sent, awaiting response... "
       ]
      },
      {
       "output_type": "stream",
       "stream": "stdout",
       "text": [
        "200 OK\r\n",
        "Length: 19967 (19K) [text/plain]\r\n",
        "Saving to: \u201cstream.c\u201d\r\n",
        "\r\n",
        "\r",
        " 0% [                                       ] 0           --.-K/s              "
       ]
      },
      {
       "output_type": "stream",
       "stream": "stdout",
       "text": [
        "\r",
        "100%[======================================>] 19,967      --.-K/s   in 0.09s   \r\n",
        "\r\n",
        "2014-07-30 10:28:27 (219 KB/s) - \u201cstream.c\u201d saved [19967/19967]\r\n",
        "\r\n"
       ]
      }
     ],
     "prompt_number": 1
    },
    {
     "cell_type": "markdown",
     "metadata": {
      "slideshow": {
       "slide_type": "slide"
      }
     },
     "source": [
      "## Stream with OpenMP for the MIC"
     ]
    },
    {
     "cell_type": "code",
     "collapsed": false,
     "input": [
      "%%bash\n",
      "icc --version\n",
      "icc -O3 -openmp -mmic stream.c -o stream.exe.mic\n",
      "ls"
     ],
     "language": "python",
     "metadata": {},
     "outputs": [
      {
       "output_type": "stream",
       "stream": "stdout",
       "text": [
        "icc (ICC) 13.1.0 20130121\n",
        "Copyright (C) 1985-2013 Intel Corporation.  All rights reserved.\n",
        "\n",
        "01_omp_stream_mic.ipynb\n",
        "02_hello_omp_mic.ipynb\n",
        "03_num_integrate_omp_mic.ipynb\n",
        "stream.c\n",
        "stream.exe.mic\n"
       ]
      }
     ],
     "prompt_number": 5
    },
    {
     "cell_type": "code",
     "collapsed": false,
     "input": [
      "%%bash\n",
      "micrun ./stream.exe.mic"
     ],
     "language": "python",
     "metadata": {
      "slideshow": {
       "slide_type": "subslide"
      }
     },
     "outputs": [
      {
       "output_type": "stream",
       "stream": "stdout",
       "text": [
        "-------------------------------------------------------------\n",
        "STREAM version $Revision: 5.10 $\n",
        "-------------------------------------------------------------\n",
        "This system uses 8 bytes per array element.\n",
        "-------------------------------------------------------------\n",
        "Array size = 10000000 (elements), Offset = 0 (elements)\n",
        "Memory per array = 76.3 MiB (= 0.1 GiB).\n",
        "Total memory required = 228.9 MiB (= 0.2 GiB).\n",
        "Each kernel will be executed 10 times.\n",
        " The *best* time for each kernel (excluding the first iteration)\n",
        " will be used to compute the reported bandwidth.\n",
        "-------------------------------------------------------------\n",
        "Number of Threads requested = 244\n",
        "Number of Threads counted = 244\n",
        "-------------------------------------------------------------\n",
        "Your clock granularity/precision appears to be 1 microseconds.\n",
        "Each test below will take on the order of 1144 microseconds.\n",
        "   (= 1144 clock ticks)\n",
        "Increase the size of the arrays if this shows that\n",
        "you are not getting at least 20 clock ticks per test.\n",
        "-------------------------------------------------------------\n",
        "WARNING -- The above is only a rough guideline.\n",
        "For best results, please be sure you know the\n",
        "precision of your system timer.\n",
        "-------------------------------------------------------------\n",
        "Function    Best Rate MB/s  Avg time     Min time     Max time\n",
        "Copy:          157606.5     0.001068     0.001015     0.001335\n",
        "Scale:         129779.3     0.001281     0.001233     0.001493\n",
        "Add:           142865.9     0.001725     0.001680     0.001952\n",
        "Triad:         144237.4     0.001757     0.001664     0.002047\n",
        "-------------------------------------------------------------\n",
        "Solution Validates: avg error less than 1.000000e-13 on all three arrays\n",
        "-------------------------------------------------------------\n"
       ]
      }
     ],
     "prompt_number": 6
    },
    {
     "cell_type": "code",
     "collapsed": false,
     "input": [
      "%%bash\n",
      "./stream.exe.mic"
     ],
     "language": "python",
     "metadata": {},
     "outputs": [
      {
       "output_type": "stream",
       "stream": "stdout",
       "text": [
        "-------------------------------------------------------------\n",
        "STREAM version $Revision: 5.10 $\n",
        "-------------------------------------------------------------\n",
        "This system uses 8 bytes per array element.\n",
        "-------------------------------------------------------------\n",
        "Array size = 10000000 (elements), Offset = 0 (elements)\n",
        "Memory per array = 76.3 MiB (= 0.1 GiB).\n",
        "Total memory required = 228.9 MiB (= 0.2 GiB).\n",
        "Each kernel will be executed 10 times.\n",
        " The *best* time for each kernel (excluding the first iteration)\n",
        " will be used to compute the reported bandwidth.\n",
        "-------------------------------------------------------------\n",
        "Number of Threads requested = 244\n",
        "Number of Threads counted = 244\n",
        "-------------------------------------------------------------\n",
        "Your clock granularity/precision appears to be 1 microseconds.\n",
        "Each test below will take on the order of 1138 microseconds.\n",
        "   (= 1138 clock ticks)\n",
        "Increase the size of the arrays if this shows that\n",
        "you are not getting at least 20 clock ticks per test.\n",
        "-------------------------------------------------------------\n",
        "WARNING -- The above is only a rough guideline.\n",
        "For best results, please be sure you know the\n",
        "precision of your system timer.\n",
        "-------------------------------------------------------------\n",
        "Function    Best Rate MB/s  Avg time     Min time     Max time\n",
        "Copy:          156103.4     0.001123     0.001025     0.001429\n",
        "Scale:         127899.5     0.001286     0.001251     0.001398\n",
        "Add:           142099.5     0.001745     0.001689     0.001828\n",
        "Triad:         144568.9     0.001717     0.001660     0.001912\n",
        "-------------------------------------------------------------\n",
        "Solution Validates: avg error less than 1.000000e-13 on all three arrays\n",
        "-------------------------------------------------------------\n"
       ]
      }
     ],
     "prompt_number": 7
    },
    {
     "cell_type": "code",
     "collapsed": false,
     "input": [],
     "language": "python",
     "metadata": {},
     "outputs": []
    }
   ],
   "metadata": {}
  }
 ]
}