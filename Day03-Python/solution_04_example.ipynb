{
 "metadata": {
  "name": "",
  "signature": "sha256:3620ec23acd6b42274b44902024229bcde6bed35a1026221e0f2aa84aacc268a"
 },
 "nbformat": 3,
 "nbformat_minor": 0,
 "worksheets": [
  {
   "cells": [
    {
     "cell_type": "heading",
     "level": 2,
     "metadata": {},
     "source": [
      "Example: What's your phone number?"
     ]
    },
    {
     "cell_type": "markdown",
     "metadata": {},
     "source": [
      "Taken from Jake Vanderplas' [example](http://nbviewer.ipython.org/github/jakevdp/python-tutorial/blob/master/python_intro/notebook_intro.ipynb) and [pleacher](http://www.pleacher.com/handley/puzzles/phonetrk.html).\n",
      "\n",
      "First, key in the first three digits of your phone number (or any three digits) and multiply it by 80."
     ]
    },
    {
     "cell_type": "code",
     "collapsed": false,
     "input": [
      "value = 80*337"
     ],
     "language": "python",
     "metadata": {},
     "outputs": [],
     "prompt_number": 12
    },
    {
     "cell_type": "markdown",
     "metadata": {},
     "source": [
      "Add `1` to the `value`"
     ]
    },
    {
     "cell_type": "code",
     "collapsed": false,
     "input": [
      "value += 1"
     ],
     "language": "python",
     "metadata": {},
     "outputs": [],
     "prompt_number": 13
    },
    {
     "cell_type": "markdown",
     "metadata": {},
     "source": [
      "Multiply `value` by 250."
     ]
    },
    {
     "cell_type": "code",
     "collapsed": false,
     "input": [
      "val *= 250"
     ],
     "language": "python",
     "metadata": {},
     "outputs": [],
     "prompt_number": 15
    },
    {
     "cell_type": "markdown",
     "metadata": {},
     "source": [
      "Add the last 4 digits of your phone number. Or choose any four digit a number."
     ]
    },
    {
     "cell_type": "code",
     "collapsed": false,
     "input": [
      "val += 1722"
     ],
     "language": "python",
     "metadata": {},
     "outputs": [],
     "prompt_number": 4
    },
    {
     "cell_type": "markdown",
     "metadata": {},
     "source": [
      "Repeat the previous step."
     ]
    },
    {
     "cell_type": "code",
     "collapsed": false,
     "input": [
      "val += 1722"
     ],
     "language": "python",
     "metadata": {},
     "outputs": [],
     "prompt_number": 5
    },
    {
     "cell_type": "markdown",
     "metadata": {},
     "source": [
      "Subtract 250 from the result."
     ]
    },
    {
     "cell_type": "code",
     "collapsed": false,
     "input": [
      "val -=250"
     ],
     "language": "python",
     "metadata": {},
     "outputs": [],
     "prompt_number": 6
    },
    {
     "cell_type": "markdown",
     "metadata": {},
     "source": [
      "Divide the above by 2."
     ]
    },
    {
     "cell_type": "code",
     "collapsed": false,
     "input": [
      "val /= 2."
     ],
     "language": "python",
     "metadata": {},
     "outputs": [],
     "prompt_number": 7
    },
    {
     "cell_type": "markdown",
     "metadata": {},
     "source": [
      "The result should be a concatenation of the numbers you chose!"
     ]
    },
    {
     "cell_type": "code",
     "collapsed": false,
     "input": [
      "val"
     ],
     "language": "python",
     "metadata": {},
     "outputs": [
      {
       "metadata": {},
       "output_type": "pyout",
       "prompt_number": 8,
       "text": [
        "3371722.0"
       ]
      }
     ],
     "prompt_number": 8
    }
   ],
   "metadata": {}
  }
 ]
}