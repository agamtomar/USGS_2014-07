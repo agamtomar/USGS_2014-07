{
 "metadata": {
  "celltoolbar": "Slideshow",
  "css": [
   ""
  ],
  "name": "",
  "signature": "sha256:6d8074e765f3eca6d38b87f5fdff284e0bb5554067fd8368419d6d38627b1182"
 },
 "nbformat": 3,
 "nbformat_minor": 0,
 "worksheets": [
  {
   "cells": [
    {
     "cell_type": "markdown",
     "metadata": {
      "slideshow": {
       "slide_type": "slide"
      }
     },
     "source": [
      "<img src='https://www.rc.colorado.edu/sites/all/themes/research/logo.png' style=\"height:75px\">\n",
      "# Numpy array\n",
      "\n",
      "Thomas Hauser (thomas.hauser@colorado.edu)\n",
      "\n",
      "Shelley Knuth (shelley.knuth@colorado.edu)"
     ]
    },
    {
     "cell_type": "markdown",
     "metadata": {},
     "source": [
      "adapted from the exellent ipython notebooks by J.R. Johansson (robert@riken.jp) http://dml.riken.jp/~rob/. The other notebooks from J.R. Johansson are available at http://jrjohansson.github.com.\n",
      "\n",
      "## Further reading\n",
      "\n",
      "* https://docs.python.org/2/tutorial/index.html\n",
      "* http://numpy.scipy.org\n",
      "* http://scipy.org/Tentative_NumPy_Tutorial\n",
      "* http://scipy.org/NumPy_for_Matlab_Users - A Numpy guide for MATLAB users."
     ]
    },
    {
     "cell_type": "markdown",
     "metadata": {
      "slideshow": {
       "slide_type": "slide"
      }
     },
     "source": [
      "## Working with a data file\n",
      "### IPython can work as a better shell"
     ]
    },
    {
     "cell_type": "code",
     "collapsed": false,
     "input": [
      "files = !ls *.txt\n",
      "notebook_files = !ls *.ipynb"
     ],
     "language": "python",
     "metadata": {},
     "outputs": [],
     "prompt_number": 2
    },
    {
     "cell_type": "code",
     "collapsed": false,
     "input": [
      "print files\n",
      "print notebook_files"
     ],
     "language": "python",
     "metadata": {},
     "outputs": [
      {
       "output_type": "stream",
       "stream": "stdout",
       "text": [
        "['rita-2009-2009.txt']\n",
        "['00_initialize.ipynb', '01_introduction.ipynb', '02_numpyTutorial.ipynb', '02_starting_notebooks.ipynb', '03_overview.ipynb', '04_example.ipynb', '05_pandas.ipynb', '06_pandas_example.ipynb', 'Git_Introduction.ipynb']\n"
       ]
      }
     ],
     "prompt_number": 3
    },
    {
     "cell_type": "markdown",
     "metadata": {
      "slideshow": {
       "slide_type": "-"
      }
     },
     "source": [
      "### Our first lists \n",
      "\n",
      "https://docs.python.org/2/tutorial/datastructures.html\n",
      "\n",
      "** Indexing starts at 0 in python **\n"
     ]
    },
    {
     "cell_type": "code",
     "collapsed": false,
     "input": [
      "print type(notebook_files)\n",
      "!head -c 45 {files[0]}"
     ],
     "language": "python",
     "metadata": {
      "slideshow": {
       "slide_type": "-"
      }
     },
     "outputs": [
      {
       "output_type": "stream",
       "stream": "stdout",
       "text": [
        "<class 'IPython.utils.text.SList'>\n",
        "Year\tMonth\tDay\tHour\tdir\tvel\ttist\tpres\trh\trmed"
       ]
      }
     ],
     "prompt_number": 4
    },
    {
     "cell_type": "markdown",
     "metadata": {
      "slideshow": {
       "slide_type": "slide"
      }
     },
     "source": [
      "## Reading in a data file\n",
      "- We will read in the file\n",
      "- Only Month, Day, Hour and vel column\n",
      "\n",
      "### In Matlab\n",
      "To open a file, read in data, and assign variables in Matlab:\n",
      "```matlab\n",
      "    fid=fopen('rita-2009-2009.txt','r'); \n",
      "    data=textscan(fid,'%d%d%d%d%f%f%f%f%f%f','Delimiter' ',','HeaderLines',1); \n",
      "    month=data{2};\n",
      "    day=data{3};\n",
      "    hour=data{4};\n",
      "    velocity=data{6};\n",
      "    fclose(fid)\n",
      "```"
     ]
    },
    {
     "cell_type": "markdown",
     "metadata": {
      "slideshow": {
       "slide_type": "-"
      }
     },
     "source": [
      "### Open file and read data\n",
      "\n",
      "Using the numpy module: http://www.numpy.org\n",
      "\n",
      "Numpy User Guide: http://docs.scipy.org/doc/numpy/user/index.html#user\n",
      "\n"
     ]
    },
    {
     "cell_type": "code",
     "collapsed": false,
     "input": [
      "import numpy as np\n",
      "\n",
      "np.set_printoptions(threshold=50)\n",
      "month,day,hour,velocity = np.loadtxt(files[0], \n",
      "                                        unpack=True,\n",
      "                                        skiprows=1, dtype=\"i8,i8,i8,f8\",\n",
      "                                        usecols=(1,2,3,5))\n",
      "print velocity"
     ],
     "language": "python",
     "metadata": {},
     "outputs": [
      {
       "output_type": "stream",
       "stream": "stdout",
       "text": [
        "[ 17.  13.  19. ...,  39.  50.  22.]\n"
       ]
      }
     ],
     "prompt_number": 5
    },
    {
     "cell_type": "code",
     "collapsed": false,
     "input": [
      "velocity[:10]"
     ],
     "language": "python",
     "metadata": {},
     "outputs": [
      {
       "metadata": {},
       "output_type": "pyout",
       "prompt_number": 6,
       "text": [
        "array([ 17.,  13.,  19.,   9.,  24.,  46.,  38.,  50.,  53.,  57.])"
       ]
      }
     ],
     "prompt_number": 6
    },
    {
     "cell_type": "markdown",
     "metadata": {
      "slideshow": {
       "slide_type": "slide"
      }
     },
     "source": [
      "## Storing the data in a Python dictionary\n",
      "\n",
      "** Matlab using Containers.Map **\n",
      "\n",
      "A dictionory is a data structure that contains unique key-value pair. It is a data structure that can help to organize the data\n",
      "\n",
      "http://www.openbookproject.net/thinkcs/python/english2e/ch12.html\n",
      "\n",
      "- Create an empty dictionary\n",
      "- Extract the data and the key out of our 3 lists\n",
      "- Convert the data to integers and floating point numbers\n",
      "- Add some meta data with the key `description`"
     ]
    },
    {
     "cell_type": "code",
     "collapsed": false,
     "input": [
      "data_set = {}"
     ],
     "language": "python",
     "metadata": {
      "slideshow": {
       "slide_type": "-"
      }
     },
     "outputs": [],
     "prompt_number": 7
    },
    {
     "cell_type": "code",
     "collapsed": false,
     "input": [
      "data_set['description'] = \"climate data from an unknown location\"\n",
      "data_set['month'] = month\n",
      "data_set['day'] = day\n",
      "data_set['hour'] = hour\n",
      "data_set['velocity'] = velocity"
     ],
     "language": "python",
     "metadata": {},
     "outputs": [],
     "prompt_number": 8
    },
    {
     "cell_type": "markdown",
     "metadata": {
      "slideshow": {
       "slide_type": "subslide"
      }
     },
     "source": [
      "- All lists and arrays are **0** based in python\n",
      "- Slices give your portions of a list or array"
     ]
    },
    {
     "cell_type": "code",
     "collapsed": false,
     "input": [
      "print data_set"
     ],
     "language": "python",
     "metadata": {
      "slideshow": {
       "slide_type": "-"
      }
     },
     "outputs": [
      {
       "output_type": "stream",
       "stream": "stdout",
       "text": [
        "{'hour': array([ 0,  1,  2, ..., 21, 22, 23]), 'velocity': array([ 17.,  13.,  19., ...,  39.,  50.,  22.]), 'description': 'climate data from an unknown location', 'day': array([ 1,  1,  1, ..., 30, 30, 30]), 'month': array([9, 9, 9, ..., 9, 9, 9])}\n"
       ]
      }
     ],
     "prompt_number": 9
    },
    {
     "cell_type": "code",
     "collapsed": false,
     "input": [
      "print data_set['velocity']\n",
      "print data_set.keys()"
     ],
     "language": "python",
     "metadata": {},
     "outputs": [
      {
       "output_type": "stream",
       "stream": "stdout",
       "text": [
        "[ 17.  13.  19. ...,  39.  50.  22.]\n",
        "['hour', 'velocity', 'description', 'day', 'month']\n"
       ]
      }
     ],
     "prompt_number": 10
    },
    {
     "cell_type": "markdown",
     "metadata": {
      "slideshow": {
       "slide_type": "slide"
      }
     },
     "source": [
      "# Numpy - arrays in Python\n",
      "\n",
      "The `numpy` module ifor fast numerical computations in Python. It provides array, matrices where operations on whole matrices are implemented in C and Fortran and are therefor very fast. Import the `numpy` module.\n"
     ]
    },
    {
     "cell_type": "code",
     "collapsed": false,
     "input": [
      "import numpy as nb"
     ],
     "language": "python",
     "metadata": {},
     "outputs": [],
     "prompt_number": 11
    },
    {
     "cell_type": "markdown",
     "metadata": {},
     "source": [
      "In the `numpy` package the terminology used for vectors, matrices and higher-dimensional data sets is *array*. \n",
      "\n"
     ]
    },
    {
     "cell_type": "markdown",
     "metadata": {
      "slideshow": {
       "slide_type": "subslide"
      }
     },
     "source": [
      "## Creating `numpy` arrays\n",
      "\n",
      "Arrays can be created from\n",
      "\n",
      "* lists or tuples (other Python sequences) https://docs.python.org/2/library/stdtypes.html#sequence-types-str-unicode-list-tuple-bytearray-buffer-xrange\n",
      "* using functions \n",
      "* reading data from files\n"
     ]
    },
    {
     "cell_type": "code",
     "collapsed": false,
     "input": [
      "print data_set['velocity']\n",
      "type(data_set['velocity'])"
     ],
     "language": "python",
     "metadata": {},
     "outputs": [
      {
       "output_type": "stream",
       "stream": "stdout",
       "text": [
        "[ 17.  13.  19. ...,  39.  50.  22.]\n"
       ]
      },
      {
       "metadata": {},
       "output_type": "pyout",
       "prompt_number": 12,
       "text": [
        "numpy.ndarray"
       ]
      }
     ],
     "prompt_number": 12
    },
    {
     "cell_type": "markdown",
     "metadata": {
      "slideshow": {
       "slide_type": "slide"
      }
     },
     "source": [
      "## Normalize the velocity\n",
      "\n",
      "* Create a copy of the data\n",
      "* Find the maximum\n",
      "* Divide each value by the maximum\n",
      "\n",
      "First understanding Python referenceng and copying"
     ]
    },
    {
     "cell_type": "markdown",
     "metadata": {
      "slideshow": {
       "slide_type": "subslide"
      }
     },
     "source": [
      "### Copy and \"deep copy\"\n",
      "\n",
      "To achieve high performance, assignments in Python usually do not copy the underlaying objects. This is important for example when objects are passed between functions, to avoid an excessive amount of memory copying when it is not necessary (techincal term: pass by reference). "
     ]
    },
    {
     "cell_type": "code",
     "collapsed": false,
     "input": [
      "# a 3x2 array\n",
      "A = nb.array([[1, 2, 3], [4, 5, 6]])\n",
      "print A"
     ],
     "language": "python",
     "metadata": {},
     "outputs": [
      {
       "output_type": "stream",
       "stream": "stdout",
       "text": [
        "[[1 2 3]\n",
        " [4 5 6]]\n"
       ]
      }
     ],
     "prompt_number": 13
    },
    {
     "cell_type": "code",
     "collapsed": false,
     "input": [
      "# Assign A to B (this will not create a copy, but a reference)\n",
      "B = A\n",
      "print B"
     ],
     "language": "python",
     "metadata": {},
     "outputs": [
      {
       "output_type": "stream",
       "stream": "stdout",
       "text": [
        "[[1 2 3]\n",
        " [4 5 6]]\n"
       ]
      }
     ],
     "prompt_number": 14
    },
    {
     "cell_type": "code",
     "collapsed": false,
     "input": [
      "# now modify B, what will happen to A?\n",
      "B[1,1]=-5"
     ],
     "language": "python",
     "metadata": {},
     "outputs": [],
     "prompt_number": 15
    },
    {
     "cell_type": "code",
     "collapsed": false,
     "input": [
      "print A\n",
      "print B"
     ],
     "language": "python",
     "metadata": {
      "slideshow": {
       "slide_type": "subslide"
      }
     },
     "outputs": [
      {
       "output_type": "stream",
       "stream": "stdout",
       "text": [
        "[[ 1  2  3]\n",
        " [ 4 -5  6]]\n",
        "[[ 1  2  3]\n",
        " [ 4 -5  6]]\n"
       ]
      }
     ],
     "prompt_number": 16
    },
    {
     "cell_type": "markdown",
     "metadata": {
      "slideshow": {
       "slide_type": "subslide"
      }
     },
     "source": [
      "#### Copying an array\n",
      "\n",
      "If we want to avoid this behavior, so that when we get a new completely independent object `B` copied from `A`, then we need to do a so-called \"deep copy\" using the function `copy`:"
     ]
    },
    {
     "cell_type": "code",
     "collapsed": false,
     "input": [
      "C = nb.copy(A)\n",
      "print A\n",
      "print C"
     ],
     "language": "python",
     "metadata": {},
     "outputs": [
      {
       "output_type": "stream",
       "stream": "stdout",
       "text": [
        "[[ 1  2  3]\n",
        " [ 4 -5  6]]\n",
        "[[ 1  2  3]\n",
        " [ 4 -5  6]]\n"
       ]
      }
     ],
     "prompt_number": 17
    },
    {
     "cell_type": "code",
     "collapsed": false,
     "input": [
      "C[-1,-1] = -10\n",
      "print A\n",
      "print C"
     ],
     "language": "python",
     "metadata": {
      "slideshow": {
       "slide_type": "subslide"
      }
     },
     "outputs": [
      {
       "output_type": "stream",
       "stream": "stdout",
       "text": [
        "[[ 1  2  3]\n",
        " [ 4 -5  6]]\n",
        "[[  1   2   3]\n",
        " [  4  -5 -10]]\n"
       ]
      }
     ],
     "prompt_number": 18
    },
    {
     "cell_type": "markdown",
     "metadata": {
      "slideshow": {
       "slide_type": "slide"
      }
     },
     "source": [
      "## Normalizing the velocity of our data set\n",
      "\n",
      "* Create a copy\n",
      "* find max\n",
      "* divide all elements by max"
     ]
    },
    {
     "cell_type": "code",
     "collapsed": false,
     "input": [
      "norm_vel = np.copy(data_set['velocity'])\n",
      "max_vel = np.max(norm_vel)\n",
      "norm_vel = norm_vel / max_vel\n",
      "print max_vel\n",
      "print norm_vel\n",
      "print np.max(norm_vel)"
     ],
     "language": "python",
     "metadata": {},
     "outputs": [
      {
       "output_type": "stream",
       "stream": "stdout",
       "text": [
        "99.0\n",
        "[ 0.17171717  0.13131313  0.19191919 ...,  0.39393939  0.50505051\n",
        "  0.22222222]\n",
        "1.0\n"
       ]
      }
     ],
     "prompt_number": 19
    },
    {
     "cell_type": "markdown",
     "metadata": {
      "slideshow": {
       "slide_type": "slide"
      }
     },
     "source": [
      "### A few properties of Python arrays"
     ]
    },
    {
     "cell_type": "markdown",
     "metadata": {
      "slideshow": {
       "slide_type": "-"
      }
     },
     "source": [
      "Arrays have shapes. This is a property of an array"
     ]
    },
    {
     "cell_type": "code",
     "collapsed": false,
     "input": [
      "norm_vel.shape"
     ],
     "language": "python",
     "metadata": {},
     "outputs": [
      {
       "metadata": {},
       "output_type": "pyout",
       "prompt_number": 20,
       "text": [
        "(720,)"
       ]
      }
     ],
     "prompt_number": 20
    },
    {
     "cell_type": "code",
     "collapsed": false,
     "input": [
      "A.shape"
     ],
     "language": "python",
     "metadata": {},
     "outputs": [
      {
       "metadata": {},
       "output_type": "pyout",
       "prompt_number": 21,
       "text": [
        "(2, 3)"
       ]
      }
     ],
     "prompt_number": 21
    },
    {
     "cell_type": "markdown",
     "metadata": {},
     "source": [
      "The number of elements in the array is available through the `ndarray.size` property:"
     ]
    },
    {
     "cell_type": "code",
     "collapsed": false,
     "input": [
      "print norm_vel.shape\n",
      "A.size"
     ],
     "language": "python",
     "metadata": {},
     "outputs": [
      {
       "output_type": "stream",
       "stream": "stdout",
       "text": [
        "(720,)\n"
       ]
      },
      {
       "metadata": {},
       "output_type": "pyout",
       "prompt_number": 22,
       "text": [
        "6"
       ]
      }
     ],
     "prompt_number": 22
    },
    {
     "cell_type": "markdown",
     "metadata": {},
     "source": [
      "Equivalently, we could use the function `numpy.shape` and `numpy.size`"
     ]
    },
    {
     "cell_type": "code",
     "collapsed": false,
     "input": [
      "nb.shape(A)"
     ],
     "language": "python",
     "metadata": {},
     "outputs": [
      {
       "metadata": {},
       "output_type": "pyout",
       "prompt_number": 23,
       "text": [
        "(2, 3)"
       ]
      }
     ],
     "prompt_number": 23
    },
    {
     "cell_type": "code",
     "collapsed": false,
     "input": [
      "nb.size(A)"
     ],
     "language": "python",
     "metadata": {},
     "outputs": [
      {
       "metadata": {},
       "output_type": "pyout",
       "prompt_number": 24,
       "text": [
        "6"
       ]
      }
     ],
     "prompt_number": 24
    },
    {
     "cell_type": "markdown",
     "metadata": {
      "slideshow": {
       "slide_type": "slide"
      }
     },
     "source": [
      "## Why use arrays?\n",
      "\n",
      "\n",
      "* List are general, can hold different data types\n",
      "* Numpy arrays are **statically typed** and **homogeneous**. \n",
      "* Numpy arrays are memory efficient.\n",
      "* Fast implementation of mathematical functions such as multiplication and addition of `numpy` arrays because of static type\n",
      "\n",
      "The `dtype` (data type) property "
     ]
    },
    {
     "cell_type": "code",
     "collapsed": false,
     "input": [
      "norm_vel.dtype"
     ],
     "language": "python",
     "metadata": {},
     "outputs": [
      {
       "metadata": {},
       "output_type": "pyout",
       "prompt_number": 25,
       "text": [
        "dtype('float64')"
       ]
      }
     ],
     "prompt_number": 25
    },
    {
     "cell_type": "markdown",
     "metadata": {
      "slideshow": {
       "slide_type": "slide"
      }
     },
     "source": [
      "## Data types for array elements\n",
      "\n",
      "If we want, we can explicitly define the type of the array data when we create it, using the `dtype` keyword argument: "
     ]
    },
    {
     "cell_type": "code",
     "collapsed": false,
     "input": [
      "Mc = nb.array([[1, 2], [3, 4]], dtype=complex)\n",
      "\n",
      "Mc"
     ],
     "language": "python",
     "metadata": {},
     "outputs": [
      {
       "metadata": {},
       "output_type": "pyout",
       "prompt_number": 26,
       "text": [
        "array([[ 1.+0.j,  2.+0.j],\n",
        "       [ 3.+0.j,  4.+0.j]])"
       ]
      }
     ],
     "prompt_number": 26
    },
    {
     "cell_type": "markdown",
     "metadata": {},
     "source": [
      "### In Matlab\n",
      "\n",
      "To make a complex array in Matlab:\n",
      "x = rand(3) * 5;\n",
      "y = rand(3) * -8;\n",
      "\n",
      "z = complex(x, y)\n",
      "\n",
      "http://www.mathworks.com/help/matlab/matlab_prog/complex-numbers.html"
     ]
    },
    {
     "cell_type": "markdown",
     "metadata": {
      "slideshow": {
       "slide_type": "-"
      }
     },
     "source": [
      "Data types for arrays\n",
      "\n",
      "* `int` and also `int16`\n",
      "* `float` also `float128\n",
      "* `complex` also `complex128`\n",
      "* `bool`\n",
      "* `object`, etc.\n",
      "* `str`"
     ]
    },
    {
     "cell_type": "markdown",
     "metadata": {
      "slideshow": {
       "slide_type": "subslide"
      }
     },
     "source": [
      "### Using array-generating functions\n",
      "\n",
      "For larger arrays it is inpractical to initialize the data manually, using explicit pythons lists. Instead we can use one of the many functions in `numpy` that generates arrays of different forms. Some of the more common are:"
     ]
    },
    {
     "cell_type": "markdown",
     "metadata": {},
     "source": [
      "#### arange\n",
      "\n",
      "Note that the end is not included"
     ]
    },
    {
     "cell_type": "code",
     "collapsed": false,
     "input": [
      "# create a range\n",
      "\n",
      "x = nb.arange(0, 10, 2) # arguments: start, stop, step\n",
      "\n",
      "x"
     ],
     "language": "python",
     "metadata": {},
     "outputs": [
      {
       "metadata": {},
       "output_type": "pyout",
       "prompt_number": 27,
       "text": [
        "array([0, 2, 4, 6, 8])"
       ]
      }
     ],
     "prompt_number": 27
    },
    {
     "cell_type": "code",
     "collapsed": false,
     "input": [
      "x = nb.arange(-1, 1.1, 0.1)\n",
      "\n",
      "x"
     ],
     "language": "python",
     "metadata": {},
     "outputs": [
      {
       "metadata": {},
       "output_type": "pyout",
       "prompt_number": 28,
       "text": [
        "array([ -1.00000000e+00,  -9.00000000e-01,  -8.00000000e-01,\n",
        "        -7.00000000e-01,  -6.00000000e-01,  -5.00000000e-01,\n",
        "        -4.00000000e-01,  -3.00000000e-01,  -2.00000000e-01,\n",
        "        -1.00000000e-01,  -2.22044605e-16,   1.00000000e-01,\n",
        "         2.00000000e-01,   3.00000000e-01,   4.00000000e-01,\n",
        "         5.00000000e-01,   6.00000000e-01,   7.00000000e-01,\n",
        "         8.00000000e-01,   9.00000000e-01,   1.00000000e+00])"
       ]
      }
     ],
     "prompt_number": 28
    },
    {
     "cell_type": "markdown",
     "metadata": {
      "slideshow": {
       "slide_type": "subslide"
      }
     },
     "source": [
      "#### linspace and logspace"
     ]
    },
    {
     "cell_type": "code",
     "collapsed": false,
     "input": [
      "# using linspace, both end points ARE included\n",
      "nb.linspace(0, 10, 25)"
     ],
     "language": "python",
     "metadata": {},
     "outputs": [
      {
       "metadata": {},
       "output_type": "pyout",
       "prompt_number": 29,
       "text": [
        "array([  0.        ,   0.41666667,   0.83333333,   1.25      ,\n",
        "         1.66666667,   2.08333333,   2.5       ,   2.91666667,\n",
        "         3.33333333,   3.75      ,   4.16666667,   4.58333333,\n",
        "         5.        ,   5.41666667,   5.83333333,   6.25      ,\n",
        "         6.66666667,   7.08333333,   7.5       ,   7.91666667,\n",
        "         8.33333333,   8.75      ,   9.16666667,   9.58333333,  10.        ])"
       ]
      }
     ],
     "prompt_number": 29
    },
    {
     "cell_type": "code",
     "collapsed": false,
     "input": [
      "nb.logspace(0, 10, 10, base=nb.e)"
     ],
     "language": "python",
     "metadata": {},
     "outputs": [
      {
       "metadata": {},
       "output_type": "pyout",
       "prompt_number": 30,
       "text": [
        "array([  1.00000000e+00,   3.03773178e+00,   9.22781435e+00,\n",
        "         2.80316249e+01,   8.51525577e+01,   2.58670631e+02,\n",
        "         7.85771994e+02,   2.38696456e+03,   7.25095809e+03,\n",
        "         2.20264658e+04])"
       ]
      }
     ],
     "prompt_number": 30
    },
    {
     "cell_type": "markdown",
     "metadata": {
      "slideshow": {
       "slide_type": "subslide"
      }
     },
     "source": [
      "#### random data"
     ]
    },
    {
     "cell_type": "code",
     "collapsed": false,
     "input": [
      "from numpy import random"
     ],
     "language": "python",
     "metadata": {},
     "outputs": [],
     "prompt_number": 31
    },
    {
     "cell_type": "code",
     "collapsed": false,
     "input": [
      "# uniform random numbers ini [0,1]\n",
      "random.rand(5,5)"
     ],
     "language": "python",
     "metadata": {},
     "outputs": [
      {
       "metadata": {},
       "output_type": "pyout",
       "prompt_number": 32,
       "text": [
        "array([[ 0.40179545,  0.11887229,  0.82813841,  0.5526485 ,  0.74308012],\n",
        "       [ 0.73845871,  0.22980813,  0.34824199,  0.61526104,  0.42790708],\n",
        "       [ 0.86873069,  0.6994003 ,  0.98501657,  0.45815259,  0.85308249],\n",
        "       [ 0.5636356 ,  0.49569008,  0.26041524,  0.94637483,  0.95115821],\n",
        "       [ 0.12735954,  0.75996764,  0.37251518,  0.82028399,  0.6873949 ]])"
       ]
      }
     ],
     "prompt_number": 32
    },
    {
     "cell_type": "code",
     "collapsed": false,
     "input": [
      "# standard normal distributed random numbers\n",
      "random.randn(5,5)"
     ],
     "language": "python",
     "metadata": {},
     "outputs": [
      {
       "metadata": {},
       "output_type": "pyout",
       "prompt_number": 33,
       "text": [
        "array([[ 0.38856459, -0.08319365,  0.23692331,  3.39232104,  0.17352003],\n",
        "       [ 0.01012145, -0.59336613,  0.96848302,  0.16267851,  0.57074295],\n",
        "       [-0.8113334 ,  0.72989121,  1.31554912,  0.24831836, -0.14267269],\n",
        "       [ 0.82271191, -1.06861527, -1.18455585,  1.07163248,  0.444156  ],\n",
        "       [ 0.43578975,  0.1616098 ,  0.2512587 ,  0.28299235,  0.56351246]])"
       ]
      }
     ],
     "prompt_number": 33
    },
    {
     "cell_type": "markdown",
     "metadata": {
      "slideshow": {
       "slide_type": "subslide"
      }
     },
     "source": [
      "#### zeros and ones"
     ]
    },
    {
     "cell_type": "code",
     "collapsed": false,
     "input": [
      "nb.zeros((3,3))"
     ],
     "language": "python",
     "metadata": {},
     "outputs": [
      {
       "metadata": {},
       "output_type": "pyout",
       "prompt_number": 34,
       "text": [
        "array([[ 0.,  0.,  0.],\n",
        "       [ 0.,  0.,  0.],\n",
        "       [ 0.,  0.,  0.]])"
       ]
      }
     ],
     "prompt_number": 34
    },
    {
     "cell_type": "code",
     "collapsed": false,
     "input": [
      "nb.ones((3,3,3),dtype=int)*5"
     ],
     "language": "python",
     "metadata": {},
     "outputs": [
      {
       "metadata": {},
       "output_type": "pyout",
       "prompt_number": 35,
       "text": [
        "array([[[5, 5, 5],\n",
        "        [5, 5, 5],\n",
        "        [5, 5, 5]],\n",
        "\n",
        "       [[5, 5, 5],\n",
        "        [5, 5, 5],\n",
        "        [5, 5, 5]],\n",
        "\n",
        "       [[5, 5, 5],\n",
        "        [5, 5, 5],\n",
        "        [5, 5, 5]]])"
       ]
      }
     ],
     "prompt_number": 35
    },
    {
     "cell_type": "markdown",
     "metadata": {
      "slideshow": {
       "slide_type": "slide"
      }
     },
     "source": [
      "## File I/O\n",
      "\n",
      "\n",
      "### Writing the data to a CSV file\n",
      "\n"
     ]
    },
    {
     "cell_type": "markdown",
     "metadata": {
      "slideshow": {
       "slide_type": "-"
      }
     },
     "source": [
      "Using the `numpy.savetxt` we can store a Numpy array to a file in CSV format:\n",
      "\n",
      "* Write day, hour, norm_vel to csv file\n",
      "* Need to create a matrix with 3 colums"
     ]
    },
    {
     "cell_type": "code",
     "collapsed": false,
     "input": [
      "norm_vel"
     ],
     "language": "python",
     "metadata": {},
     "outputs": [
      {
       "metadata": {},
       "output_type": "pyout",
       "prompt_number": 36,
       "text": [
        "array([ 0.17171717,  0.13131313,  0.19191919, ...,  0.39393939,\n",
        "        0.50505051,  0.22222222])"
       ]
      }
     ],
     "prompt_number": 36
    },
    {
     "cell_type": "markdown",
     "metadata": {},
     "source": [
      "#### Create a new array with 3 columns"
     ]
    },
    {
     "cell_type": "code",
     "collapsed": false,
     "input": [
      "outdata = np.zeros([norm_vel.size, 3])\n",
      "outdata[:,0] = data_set['day']\n",
      "outdata[:,1] = data_set['hour']\n",
      "outdata[:,2] = norm_vel\n",
      "outdata[1:10,:]"
     ],
     "language": "python",
     "metadata": {},
     "outputs": [
      {
       "metadata": {},
       "output_type": "pyout",
       "prompt_number": 37,
       "text": [
        "array([[ 1.        ,  1.        ,  0.13131313],\n",
        "       [ 1.        ,  2.        ,  0.19191919],\n",
        "       [ 1.        ,  3.        ,  0.09090909],\n",
        "       [ 1.        ,  4.        ,  0.24242424],\n",
        "       [ 1.        ,  5.        ,  0.46464646],\n",
        "       [ 1.        ,  6.        ,  0.38383838],\n",
        "       [ 1.        ,  7.        ,  0.50505051],\n",
        "       [ 1.        ,  8.        ,  0.53535354],\n",
        "       [ 1.        ,  9.        ,  0.57575758]])"
       ]
      }
     ],
     "prompt_number": 37
    },
    {
     "cell_type": "code",
     "collapsed": false,
     "input": [
      "nb.savetxt(\"norm_velocity.csv\", outdata, delimiter=',')"
     ],
     "language": "python",
     "metadata": {},
     "outputs": [],
     "prompt_number": 38
    },
    {
     "cell_type": "code",
     "collapsed": false,
     "input": [
      "!head -n 10 norm_velocity.csv"
     ],
     "language": "python",
     "metadata": {},
     "outputs": [
      {
       "output_type": "stream",
       "stream": "stdout",
       "text": [
        "1.000000000000000000e+00,0.000000000000000000e+00,1.717171717171717127e-01\r\n",
        "1.000000000000000000e+00,1.000000000000000000e+00,1.313131313131313260e-01\r\n",
        "1.000000000000000000e+00,2.000000000000000000e+00,1.919191919191919060e-01\r\n",
        "1.000000000000000000e+00,3.000000000000000000e+00,9.090909090909091161e-02\r\n",
        "1.000000000000000000e+00,4.000000000000000000e+00,2.424242424242424310e-01\r\n",
        "1.000000000000000000e+00,5.000000000000000000e+00,4.646464646464646409e-01\r\n",
        "1.000000000000000000e+00,6.000000000000000000e+00,3.838383838383838120e-01\r\n",
        "1.000000000000000000e+00,7.000000000000000000e+00,5.050505050505050830e-01\r\n",
        "1.000000000000000000e+00,8.000000000000000000e+00,5.353535353535353591e-01\r\n",
        "1.000000000000000000e+00,9.000000000000000000e+00,5.757575757575758013e-01\r\n"
       ]
      }
     ],
     "prompt_number": 39
    },
    {
     "cell_type": "markdown",
     "metadata": {
      "slideshow": {
       "slide_type": "slide"
      }
     },
     "source": [
      "## Manipulating arrays"
     ]
    },
    {
     "cell_type": "markdown",
     "metadata": {},
     "source": [
      "### Indexing\n",
      "\n",
      "Python starts indexing at 0\n",
      "\n",
      "** Matlab starts indexing at 1**\n",
      "\n",
      "Similar to C (starting at 0) and Fortran (starting at 1)"
     ]
    },
    {
     "cell_type": "code",
     "collapsed": false,
     "input": [
      "# norm_vel is a vector, and has only one dimension, taking one index\n",
      "print norm_vel\n",
      "norm_vel[0]"
     ],
     "language": "python",
     "metadata": {},
     "outputs": [
      {
       "output_type": "stream",
       "stream": "stdout",
       "text": [
        "[ 0.17171717  0.13131313  0.19191919 ...,  0.39393939  0.50505051\n",
        "  0.22222222]\n"
       ]
      },
      {
       "metadata": {},
       "output_type": "pyout",
       "prompt_number": 40,
       "text": [
        "0.17171717171717171"
       ]
      }
     ],
     "prompt_number": 40
    },
    {
     "cell_type": "markdown",
     "metadata": {},
     "source": [
      "#### Matlab\n",
      "Matlab starts at the \"1\" index"
     ]
    },
    {
     "cell_type": "code",
     "collapsed": false,
     "input": [
      "# M is a matrix, or a 2 dimensional array, taking two indices \n",
      "print A\n",
      "A[1,1]"
     ],
     "language": "python",
     "metadata": {
      "slideshow": {
       "slide_type": "subslide"
      }
     },
     "outputs": [
      {
       "output_type": "stream",
       "stream": "stdout",
       "text": [
        "[[ 1  2  3]\n",
        " [ 4 -5  6]]\n"
       ]
      },
      {
       "metadata": {},
       "output_type": "pyout",
       "prompt_number": 20,
       "text": [
        "-5"
       ]
      }
     ],
     "prompt_number": 20
    },
    {
     "cell_type": "markdown",
     "metadata": {
      "slideshow": {
       "slide_type": "-"
      }
     },
     "source": [
      "If we omit an index of a multidimensional array it returns the whole row (or, in general, a N-1 dimensional array) "
     ]
    },
    {
     "cell_type": "code",
     "collapsed": false,
     "input": [
      "A"
     ],
     "language": "python",
     "metadata": {},
     "outputs": [
      {
       "metadata": {},
       "output_type": "pyout",
       "prompt_number": 42,
       "text": [
        "array([[ 1,  2,  3],\n",
        "       [ 4, -5,  6]])"
       ]
      }
     ],
     "prompt_number": 42
    },
    {
     "cell_type": "code",
     "collapsed": false,
     "input": [
      "A[1]"
     ],
     "language": "python",
     "metadata": {},
     "outputs": [
      {
       "metadata": {},
       "output_type": "pyout",
       "prompt_number": 43,
       "text": [
        "array([ 4, -5,  6])"
       ]
      }
     ],
     "prompt_number": 43
    },
    {
     "cell_type": "markdown",
     "metadata": {
      "slideshow": {
       "slide_type": "subslide"
      }
     },
     "source": [
      "The same thing can be achieved with using `:` instead of an index: "
     ]
    },
    {
     "cell_type": "code",
     "collapsed": false,
     "input": [
      "A[1,:] # row 1"
     ],
     "language": "python",
     "metadata": {},
     "outputs": [
      {
       "metadata": {},
       "output_type": "pyout",
       "prompt_number": 44,
       "text": [
        "array([ 4, -5,  6])"
       ]
      }
     ],
     "prompt_number": 44
    },
    {
     "cell_type": "code",
     "collapsed": false,
     "input": [
      "A[:,0] # column 0"
     ],
     "language": "python",
     "metadata": {},
     "outputs": [
      {
       "metadata": {},
       "output_type": "pyout",
       "prompt_number": 45,
       "text": [
        "array([1, 4])"
       ]
      }
     ],
     "prompt_number": 45
    },
    {
     "cell_type": "markdown",
     "metadata": {
      "slideshow": {
       "slide_type": "subslide"
      }
     },
     "source": [
      "We can assign new values to elements in an array using indexing:"
     ]
    },
    {
     "cell_type": "code",
     "collapsed": false,
     "input": [
      "A[0,0] = -1\n",
      "print A"
     ],
     "language": "python",
     "metadata": {},
     "outputs": [
      {
       "output_type": "stream",
       "stream": "stdout",
       "text": [
        "[[-1  2  3]\n",
        " [ 4 -5  6]]\n"
       ]
      }
     ],
     "prompt_number": 46
    },
    {
     "cell_type": "code",
     "collapsed": false,
     "input": [
      "# also works for rows and columns\n",
      "A[1,:] = 0\n",
      "A[:,2] = -1\n",
      "print A"
     ],
     "language": "python",
     "metadata": {},
     "outputs": [
      {
       "output_type": "stream",
       "stream": "stdout",
       "text": [
        "[[-1  2 -1]\n",
        " [ 0  0 -1]]\n"
       ]
      }
     ],
     "prompt_number": 47
    },
    {
     "cell_type": "markdown",
     "metadata": {
      "slideshow": {
       "slide_type": "slide"
      }
     },
     "source": [
      "## Index slicing\n",
      "\n",
      "Index slicing is the technical name for the syntax `M[lower:upper:step]` to extract part of an array:"
     ]
    },
    {
     "cell_type": "code",
     "collapsed": false,
     "input": [
      "norm_vel[1:4]"
     ],
     "language": "python",
     "metadata": {},
     "outputs": [
      {
       "metadata": {},
       "output_type": "pyout",
       "prompt_number": 48,
       "text": [
        "array([ 0.13131313,  0.19191919,  0.09090909])"
       ]
      }
     ],
     "prompt_number": 48
    },
    {
     "cell_type": "markdown",
     "metadata": {},
     "source": [
      "** End index is not included **\n",
      "\n",
      "Array slices are *mutable*: if they are assigned a new value the original array from which the slice was extracted is modified:"
     ]
    },
    {
     "cell_type": "code",
     "collapsed": false,
     "input": [
      "norm_vel[1:3] = [-2,-3]\n",
      "norm_vel"
     ],
     "language": "python",
     "metadata": {},
     "outputs": [
      {
       "metadata": {},
       "output_type": "pyout",
       "prompt_number": 49,
       "text": [
        "array([ 0.17171717, -2.        , -3.        , ...,  0.39393939,\n",
        "        0.50505051,  0.22222222])"
       ]
      }
     ],
     "prompt_number": 49
    },
    {
     "cell_type": "markdown",
     "metadata": {
      "slideshow": {
       "slide_type": "subslide"
      }
     },
     "source": [
      "We can omit any of the three parameters in `M[lower:upper:step]`:"
     ]
    },
    {
     "cell_type": "code",
     "collapsed": false,
     "input": [
      "norm_vel[::] # lower, upper, step all take the default values"
     ],
     "language": "python",
     "metadata": {},
     "outputs": [
      {
       "metadata": {},
       "output_type": "pyout",
       "prompt_number": 50,
       "text": [
        "array([ 0.17171717, -2.        , -3.        , ...,  0.39393939,\n",
        "        0.50505051,  0.22222222])"
       ]
      }
     ],
     "prompt_number": 50
    },
    {
     "cell_type": "code",
     "collapsed": false,
     "input": [
      "norm_vel[::2] # step is 2, lower and upper defaults to the beginning and end of the array"
     ],
     "language": "python",
     "metadata": {
      "slideshow": {
       "slide_type": "subslide"
      }
     },
     "outputs": [
      {
       "metadata": {},
       "output_type": "pyout",
       "prompt_number": 51,
       "text": [
        "array([ 0.17171717, -3.        ,  0.24242424, ...,  0.16161616,\n",
        "        0.22222222,  0.50505051])"
       ]
      }
     ],
     "prompt_number": 51
    },
    {
     "cell_type": "code",
     "collapsed": false,
     "input": [
      "norm_vel[:3] # first three elements"
     ],
     "language": "python",
     "metadata": {},
     "outputs": [
      {
       "metadata": {},
       "output_type": "pyout",
       "prompt_number": 52,
       "text": [
        "array([ 0.17171717, -2.        , -3.        ])"
       ]
      }
     ],
     "prompt_number": 52
    },
    {
     "cell_type": "code",
     "collapsed": false,
     "input": [
      "norm_vel[3:] # elements from index 3"
     ],
     "language": "python",
     "metadata": {},
     "outputs": [
      {
       "metadata": {},
       "output_type": "pyout",
       "prompt_number": 53,
       "text": [
        "array([ 0.09090909,  0.24242424,  0.46464646, ...,  0.39393939,\n",
        "        0.50505051,  0.22222222])"
       ]
      }
     ],
     "prompt_number": 53
    },
    {
     "cell_type": "markdown",
     "metadata": {
      "slideshow": {
       "slide_type": "subslide"
      }
     },
     "source": [
      "Negative indices counts from the end of the array (positive index from the begining):"
     ]
    },
    {
     "cell_type": "code",
     "collapsed": false,
     "input": [
      "norm_vel[-1] # the last element in the array"
     ],
     "language": "python",
     "metadata": {},
     "outputs": [
      {
       "metadata": {},
       "output_type": "pyout",
       "prompt_number": 54,
       "text": [
        "0.22222222222222221"
       ]
      }
     ],
     "prompt_number": 54
    },
    {
     "cell_type": "code",
     "collapsed": false,
     "input": [
      "norm_vel[-3:] # the last three elements"
     ],
     "language": "python",
     "metadata": {},
     "outputs": [
      {
       "metadata": {},
       "output_type": "pyout",
       "prompt_number": 56,
       "text": [
        "array([ 0.39393939,  0.50505051,  0.22222222])"
       ]
      }
     ],
     "prompt_number": 56
    },
    {
     "cell_type": "markdown",
     "metadata": {},
     "source": [
      "Index slicing works exactly the same way for multidimensional arrays:"
     ]
    },
    {
     "cell_type": "markdown",
     "metadata": {
      "slideshow": {
       "slide_type": "slide"
      }
     },
     "source": [
      "### Fancy indexing\n",
      "\n",
      "Using an array or list in-place of an index: "
     ]
    },
    {
     "cell_type": "code",
     "collapsed": false,
     "input": [
      "id = [0, 1, 5, -1]\n",
      "print norm_vel\n",
      "norm_vel[id]"
     ],
     "language": "python",
     "metadata": {},
     "outputs": [
      {
       "output_type": "stream",
       "stream": "stdout",
       "text": [
        "[ 0.17171717 -2.         -3.         ...,  0.39393939  0.50505051\n",
        "  0.22222222]\n"
       ]
      },
      {
       "metadata": {},
       "output_type": "pyout",
       "prompt_number": 80,
       "text": [
        "array([ 0.17171717, -2.        ,  0.46464646,  0.22222222])"
       ]
      }
     ],
     "prompt_number": 80
    },
    {
     "cell_type": "markdown",
     "metadata": {
      "slideshow": {
       "slide_type": "subslide"
      }
     },
     "source": [
      "### Index masks\n",
      "\n",
      "We can also index masks: If the index mask is an Numpy array of with data type `bool`, then an element is selected (True) or not (False) depending on the value of the index mask at the position each element: "
     ]
    },
    {
     "cell_type": "code",
     "collapsed": false,
     "input": [
      "B = nb.array([n for n in range(5)])\n",
      "B"
     ],
     "language": "python",
     "metadata": {},
     "outputs": [
      {
       "metadata": {},
       "output_type": "pyout",
       "prompt_number": 74,
       "text": [
        "array([0, 1, 2, 3, 4])"
       ]
      }
     ],
     "prompt_number": 74
    },
    {
     "cell_type": "code",
     "collapsed": false,
     "input": [
      "mask = nb.array([True, False, True, False, False])\n",
      "B[mask]"
     ],
     "language": "python",
     "metadata": {},
     "outputs": [
      {
       "metadata": {},
       "output_type": "pyout",
       "prompt_number": 75,
       "text": [
        "array([0, 2])"
       ]
      }
     ],
     "prompt_number": 75
    },
    {
     "cell_type": "markdown",
     "metadata": {
      "slideshow": {
       "slide_type": "-"
      }
     },
     "source": [
      "This feature is very useful to conditionally select elements from an array, using for example comparison operators:"
     ]
    },
    {
     "cell_type": "markdown",
     "metadata": {
      "slideshow": {
       "slide_type": "slide"
      }
     },
     "source": [
      "### Extract data based on certain hours\n",
      "\n",
      "Using the mask, let's explore how to get some data based on the hour it was recorded\n",
      "\n",
      "* From 0-6 and after 7pm\n",
      "* Data at noon"
     ]
    },
    {
     "cell_type": "code",
     "collapsed": false,
     "input": [
      "hour = data_set['hour']\n",
      "print hour.size\n",
      "print hour[:48]"
     ],
     "language": "python",
     "metadata": {},
     "outputs": [
      {
       "output_type": "stream",
       "stream": "stdout",
       "text": [
        "720\n",
        "[ 0  1  2  3  4  5  6  7  8  9 10 11 12 13 14 15 16 17 18 19 20 21 22 23  0\n",
        "  1  2  3  4  5  6  7  8  9 10 11 12 13 14 15 16 17 18 19 20 21 22 23]\n"
       ]
      }
     ],
     "prompt_number": 90
    },
    {
     "cell_type": "markdown",
     "metadata": {
      "slideshow": {
       "slide_type": "subslide"
      }
     },
     "source": [
      "#### From 0-6 and after 7pm"
     ]
    },
    {
     "cell_type": "code",
     "collapsed": false,
     "input": [
      "mask = (hour < 7) | (hour > 19)\n",
      "print mask[:48]\n",
      "norm_vel[mask][:48]"
     ],
     "language": "python",
     "metadata": {
      "slideshow": {
       "slide_type": "-"
      }
     },
     "outputs": [
      {
       "output_type": "stream",
       "stream": "stdout",
       "text": [
        "[ True  True  True  True  True  True  True False False False False False\n",
        " False False False False False False False False  True  True  True  True\n",
        "  True  True  True  True  True  True  True False False False False False\n",
        " False False False False False False False False  True  True  True  True]\n"
       ]
      },
      {
       "metadata": {},
       "output_type": "pyout",
       "prompt_number": 21,
       "text": [
        "array([ 0.17171717,  0.13131313,  0.19191919,  0.09090909,  0.24242424,\n",
        "        0.46464646,  0.38383838,  0.31313131,  0.35353535,  0.32323232,\n",
        "        0.35353535,  0.32323232,  0.36363636,  0.33333333,  0.25252525,\n",
        "        0.29292929,  0.32323232,  0.31313131,  0.03030303,  0.01010101,\n",
        "        0.05050505,  0.        ,  0.01010101,  0.01010101,  0.02020202,\n",
        "        0.1010101 ,  0.09090909,  0.02020202,  0.07070707,  0.56565657,\n",
        "        0.46464646,  0.34343434,  0.33333333,  0.47474747,  0.44444444,\n",
        "        0.56565657,  0.64646465,  0.67676768,  0.73737374,  0.66666667,\n",
        "        0.77777778,  0.70707071,  0.52525253,  0.83838384,  1.        ,\n",
        "        0.83838384,  0.85858586,  0.77777778])"
       ]
      }
     ],
     "prompt_number": 21
    },
    {
     "cell_type": "markdown",
     "metadata": {
      "slideshow": {
       "slide_type": "subslide"
      }
     },
     "source": [
      "#### Velocity for all days at noon"
     ]
    },
    {
     "cell_type": "code",
     "collapsed": false,
     "input": [
      "mask = hour == 12\n",
      "print mask[:24]\n",
      "print norm_vel[mask]\n",
      "day = data_set['day']\n",
      "print day[mask]"
     ],
     "language": "python",
     "metadata": {
      "slideshow": {
       "slide_type": "-"
      }
     },
     "outputs": [
      {
       "output_type": "stream",
       "stream": "stdout",
       "text": [
        "[False False False False False False False False False False False False\n",
        "  True False False False False False False False False False False False]\n",
        "[ 0.49494949  0.05050505  0.39393939  0.61616162  0.67676768  0.39393939\n",
        "  0.75757576  0.          0.4040404   0.02020202  0.71717172  0.66666667\n",
        "  0.75757576  0.34343434  0.25252525  0.19191919  0.31313131  0.22222222\n",
        "  0.2020202   0.04040404  0.24242424  0.4040404   0.3030303   0.07070707\n",
        "  0.03030303  0.31313131  0.66666667  0.48484848  0.17171717  0.27272727]\n",
        "[ 1  2  3  4  5  6  7  8  9 10 11 12 13 14 15 16 17 18 19 20 21 22 23 24 25\n",
        " 26 27 28 29 30]\n"
       ]
      }
     ],
     "prompt_number": 97
    },
    {
     "cell_type": "markdown",
     "metadata": {
      "slideshow": {
       "slide_type": "slide"
      }
     },
     "source": [
      "## Plotting the data\n",
      "\n"
     ]
    },
    {
     "cell_type": "code",
     "collapsed": false,
     "input": [
      "%pylab inline\n",
      "plot(day[mask], norm_vel[mask], 'bo-')"
     ],
     "language": "python",
     "metadata": {},
     "outputs": [
      {
       "output_type": "stream",
       "stream": "stdout",
       "text": [
        "Populating the interactive namespace from numpy and matplotlib\n"
       ]
      },
      {
       "metadata": {},
       "output_type": "pyout",
       "prompt_number": 107,
       "text": [
        "[<matplotlib.lines.Line2D at 0x109be4e50>]"
       ]
      },
      {
       "metadata": {},
       "output_type": "display_data",
       "png": "[encoded data removed]",
       "text": [
        "<matplotlib.figure.Figure at 0x109a144d0>"
       ]
      }
     ],
     "prompt_number": 107
    },
    {
     "cell_type": "markdown",
     "metadata": {
      "slideshow": {
       "slide_type": "slide"
      }
     },
     "source": [
      "## Linear algebra\n",
      "\n",
      "Express operations in terms of arrays and matrics to get optimal speed (compiled functions).\n"
     ]
    },
    {
     "cell_type": "markdown",
     "metadata": {},
     "source": [
      "### Scalar-array operations\n",
      "\n",
      "We can use the usual arithmetic operators to multiply, add, subtract, and divide arrays with scalar numbers."
     ]
    },
    {
     "cell_type": "code",
     "collapsed": false,
     "input": [
      "v1 = nb.arange(0, 5)"
     ],
     "language": "python",
     "metadata": {},
     "outputs": [],
     "prompt_number": 79
    },
    {
     "cell_type": "code",
     "collapsed": false,
     "input": [
      "v1 * 2"
     ],
     "language": "python",
     "metadata": {},
     "outputs": [
      {
       "metadata": {},
       "output_type": "pyout",
       "prompt_number": 80,
       "text": [
        "array([0, 2, 4, 6, 8])"
       ]
      }
     ],
     "prompt_number": 80
    },
    {
     "cell_type": "code",
     "collapsed": false,
     "input": [
      "v1 + 2"
     ],
     "language": "python",
     "metadata": {},
     "outputs": [
      {
       "metadata": {},
       "output_type": "pyout",
       "prompt_number": 81,
       "text": [
        "array([2, 3, 4, 5, 6])"
       ]
      }
     ],
     "prompt_number": 81
    },
    {
     "cell_type": "markdown",
     "metadata": {
      "slideshow": {
       "slide_type": "subslide"
      }
     },
     "source": [
      "### Element-wise array-array operations\n",
      "\n",
      "When we add, subtract, multiply and divide arrays with each other, the default behaviour is **element-wise** operations:"
     ]
    },
    {
     "cell_type": "code",
     "collapsed": false,
     "input": [
      "v1 * v1"
     ],
     "language": "python",
     "metadata": {},
     "outputs": [
      {
       "metadata": {},
       "output_type": "pyout",
       "prompt_number": 82,
       "text": [
        "array([ 0,  1,  4,  9, 16])"
       ]
      }
     ],
     "prompt_number": 82
    },
    {
     "cell_type": "markdown",
     "metadata": {
      "slideshow": {
       "slide_type": "subslide"
      }
     },
     "source": [
      "### Matrix algebra\n"
     ]
    },
    {
     "cell_type": "code",
     "collapsed": false,
     "input": [
      "nb.dot(v1, v1)"
     ],
     "language": "python",
     "metadata": {},
     "outputs": [
      {
       "metadata": {},
       "output_type": "pyout",
       "prompt_number": 83,
       "text": [
        "30"
       ]
      }
     ],
     "prompt_number": 83
    },
    {
     "cell_type": "markdown",
     "metadata": {
      "slideshow": {
       "slide_type": "subslide"
      }
     },
     "source": [
      "### Data computations\n",
      "\n",
      "Often it is useful to store datasets in Numpy arrays. Numpy provides a number of functions to calculate statistics of datasets in arrays. \n"
     ]
    },
    {
     "cell_type": "code",
     "collapsed": false,
     "input": [
      "nb.shape(norm_vel)\n",
      "norm_vel"
     ],
     "language": "python",
     "metadata": {},
     "outputs": [
      {
       "metadata": {},
       "output_type": "pyout",
       "prompt_number": 93,
       "text": [
        "array([ 0.17171717, -2.        , -3.        , ...,  0.39393939,\n",
        "        0.50505051,  0.22222222])"
       ]
      }
     ],
     "prompt_number": 93
    },
    {
     "cell_type": "markdown",
     "metadata": {},
     "source": [
      "#### mean"
     ]
    },
    {
     "cell_type": "code",
     "collapsed": false,
     "input": [
      "nb.mean(norm_vel[:])"
     ],
     "language": "python",
     "metadata": {},
     "outputs": [
      {
       "metadata": {},
       "output_type": "pyout",
       "prompt_number": 94,
       "text": [
        "0.32125420875421096"
       ]
      }
     ],
     "prompt_number": 94
    },
    {
     "cell_type": "markdown",
     "metadata": {},
     "source": [
      "#### min and max"
     ]
    },
    {
     "cell_type": "code",
     "collapsed": false,
     "input": [
      "norm_vel.min()"
     ],
     "language": "python",
     "metadata": {},
     "outputs": [
      {
       "metadata": {},
       "output_type": "pyout",
       "prompt_number": 86,
       "text": [
        "-3.0"
       ]
      }
     ],
     "prompt_number": 86
    },
    {
     "cell_type": "code",
     "collapsed": false,
     "input": [
      "norm_vel.max()"
     ],
     "language": "python",
     "metadata": {},
     "outputs": [
      {
       "metadata": {},
       "output_type": "pyout",
       "prompt_number": 95,
       "text": [
        "1.0"
       ]
      }
     ],
     "prompt_number": 95
    },
    {
     "cell_type": "markdown",
     "metadata": {},
     "source": [
      "Many other functions and methods in the `array` and `matrix` classes accept the same (optional) `axis` keyword argument."
     ]
    },
    {
     "cell_type": "markdown",
     "metadata": {},
     "source": [
      "## Further reading\n",
      "\n",
      "* http://numpy.scipy.org\n",
      "* http://scipy.org/Tentative_NumPy_Tutorial\n",
      "* http://scipy.org/NumPy_for_Matlab_Users - A Numpy guide for MATLAB users.\n",
      "* http://wiki.scipy.org/Cookbook\n",
      "\n",
      "This tutorial was adapted from J.R. Johansson scientific python Numpy lecture https://github.com/jrjohansson/scientific-python-lectures/blob/master/Lecture-2-Numpy.ipynb that is licensed under a a Creative Commons Attribution 3.0 Unported License."
     ]
    },
    {
     "cell_type": "code",
     "collapsed": false,
     "input": [],
     "language": "python",
     "metadata": {},
     "outputs": []
    }
   ],
   "metadata": {}
  }
 ]
}