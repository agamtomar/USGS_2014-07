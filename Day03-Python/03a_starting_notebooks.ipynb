{
 "metadata": {
  "celltoolbar": "Slideshow",
  "css": [
   ""
  ],
  "name": "",
  "signature": "sha256:2487a3689324fd203f418d5574a49d8b31f35226fb7679f5d628b0abd737eb5e"
 },
 "nbformat": 3,
 "nbformat_minor": 0,
 "worksheets": [
  {
   "cells": [
    {
     "cell_type": "markdown",
     "metadata": {
      "slideshow": {
       "slide_type": "slide"
      }
     },
     "source": [
      "<img src='https://www.rc.colorado.edu/sites/all/themes/research/logo.png' style=\"height:75px\">"
     ]
    },
    {
     "cell_type": "markdown",
     "metadata": {
      "slideshow": {
       "slide_type": "-"
      }
     },
     "source": [
      "# Starting and Running Python notebooks\n"
     ]
    },
    {
     "cell_type": "markdown",
     "metadata": {},
     "source": [
      "```shell\n",
      "ipython notebook --no-mathjax\n",
      "```"
     ]
    },
    {
     "cell_type": "code",
     "collapsed": false,
     "input": [
      "!ipython notebook --help"
     ],
     "language": "python",
     "metadata": {},
     "outputs": [
      {
       "output_type": "stream",
       "stream": "stdout",
       "text": [
        "The IPython HTML Notebook.\r\n",
        "\r\n",
        "This launches a Tornado based HTML Notebook Server that serves up an\r\n",
        "HTML5/Javascript Notebook client.\r\n",
        "\r\n",
        "Subcommands\r\n",
        "-----------\r\n",
        "\r\n",
        "Subcommands are launched as `ipython-notebook cmd [args]`. For information on\r\n",
        "using subcommand 'cmd', do: `ipython-notebook cmd -h`.\r\n",
        "\r\n",
        "list\r\n",
        "    List currently running notebook servers in this profile.\r\n",
        "\r\n",
        "Options\r\n",
        "-------\r\n",
        "\r\n",
        "Arguments that take values are actually convenience aliases to full\r\n",
        "Configurables, whose aliases are listed on the help line. For more information\r\n",
        "on full configurables, see '--help-all'.\r\n",
        "\r\n",
        "--no-autoindent\r\n",
        "    Turn off autoindenting.\r\n",
        "--pprint\r\n",
        "    Enable auto pretty printing of results.\r\n",
        "--secure\r\n",
        "    Use HMAC digests for authentication of messages.\r\n",
        "    Setting this flag will generate a new UUID to use as the HMAC key.\r\n",
        "--pylab\r\n",
        "    Pre-load matplotlib and numpy for interactive use with\r\n",
        "    the default matplotlib backend.\r\n",
        "--matplotlib\r\n",
        "    Configure matplotlib for interactive use with\r\n",
        "    the default matplotlib backend.\r\n",
        "--autoindent\r\n",
        "    Turn on autoindenting.\r\n",
        "--no-mathjax\r\n",
        "    Disable MathJax\r\n",
        "    \r\n",
        "    MathJax is the javascript library IPython uses to render math/LaTeX. It is\r\n",
        "    very large, so you may want to disable it if you have a slow internet\r\n",
        "    connection, or for offline use of the notebook.\r\n",
        "    \r\n",
        "    When disabled, equations etc. will appear as their untransformed TeX source.\r\n",
        "--automagic\r\n",
        "    Turn on the auto calling of magic commands. Type %%magic at the\r\n",
        "    IPython  prompt  for  more information.\r\n",
        "--no-secure\r\n",
        "    Don't authenticate messages.\r\n",
        "--color-info\r\n",
        "    IPython can display information about objects via a set of func-\r\n",
        "    tions, and optionally can use colors for this, syntax highlighting\r\n",
        "    source code and various other elements.  However, because this\r\n",
        "    information is passed through a pager (like 'less') and many pagers get\r\n",
        "    confused with color codes, this option is off by default.  You can test\r\n",
        "    it and turn it on permanently in your ipython_config.py file if it\r\n",
        "    works for you.  Test it and turn it on permanently if it works with\r\n",
        "    your system.  The magic function %%color_info allows you to toggle this\r\n",
        "    interactively for testing.\r\n",
        "--no-stdout\r\n",
        "    redirect stdout to the null device\r\n",
        "--no-automagic\r\n",
        "    Turn off the auto calling of magic commands.\r\n",
        "--nosep\r\n",
        "    Eliminate all spacing between prompts.\r\n",
        "--script\r\n",
        "    Auto-save a .py script everytime the .ipynb notebook is saved\r\n",
        "--deep-reload\r\n",
        "    Enable deep (recursive) reloading by default. IPython can use the\r\n",
        "    deep_reload module which reloads changes in modules recursively (it\r\n",
        "    replaces the reload() function, so you don't need to change anything to\r\n",
        "    use it). deep_reload() forces a full reload of modules whose code may\r\n",
        "    have changed, which the default reload() function does not.  When\r\n",
        "    deep_reload is off, IPython will use the normal reload(), but\r\n",
        "    deep_reload will still be available as dreload(). This feature is off\r\n",
        "    by default [which means that you have both normal reload() and\r\n",
        "    dreload()].\r\n",
        "--quiet\r\n",
        "    set log level to logging.CRITICAL (minimize logging output)\r\n",
        "--pdb\r\n",
        "    Enable auto calling the pdb debugger after every exception.\r\n",
        "--no-deep-reload\r\n",
        "    Disable deep (recursive) reloading by default.\r\n",
        "--init\r\n",
        "    Initialize profile with default config files.  This is equivalent\r\n",
        "    to running `ipython profile create <profile>` prior to startup.\r\n",
        "--no-browser\r\n",
        "    Don't open the notebook in a browser after startup.\r\n",
        "--no-pprint\r\n",
        "    Disable auto pretty printing of results.\r\n",
        "--no-pdb\r\n",
        "    Disable auto calling the pdb debugger after every exception.\r\n",
        "--debug\r\n",
        "    set log level to logging.DEBUG (maximize logging output)\r\n",
        "--pydb\r\n",
        "    Use the third party 'pydb' package as debugger, instead of pdb.\r\n",
        "    Requires that pydb is installed.\r\n",
        "--no-color-info\r\n",
        "    Disable using colors for info related things.\r\n",
        "--no-script\r\n",
        "    Do not auto-save .py scripts for every notebook\r\n",
        "--no-stderr\r\n",
        "    redirect stderr to the null device\r\n"
       ]
      },
      {
       "output_type": "stream",
       "stream": "stdout",
       "text": [
        "--control=<Integer> (IPKernelApp.control_port)\r\n",
        "    Default: 0\r\n",
        "    set the control (ROUTER) port [default: random]\r\n",
        "--logappend=<Unicode> (InteractiveShell.logappend)\r\n",
        "    Default: ''\r\n",
        "    Start logging to the given file in append mode.\r\n",
        "--ip=<Unicode> (NotebookApp.ip)\r\n",
        "    Default: 'localhost'\r\n",
        "    The IP address the notebook server will listen on.\r\n",
        "--pylab=<CaselessStrEnum> (InteractiveShellApp.pylab)\r\n",
        "    Default: None\r\n",
        "    Choices: ['auto', 'gtk', 'gtk3', 'inline', 'osx', 'qt', 'qt4', 'tk', 'wx']\r\n",
        "    Pre-load matplotlib and numpy for interactive use, selecting a particular\r\n",
        "    matplotlib backend and loop integration.\r\n",
        "--cache-size=<Integer> (InteractiveShell.cache_size)\r\n",
        "    Default: 1000\r\n",
        "    Set the size of the output cache.  The default is 1000, you can change it\r\n",
        "    permanently in your config file.  Setting it to 0 completely disables the\r\n",
        "    caching system, and the minimum value accepted is 20 (if you provide a value\r\n",
        "    less than 20, it is reset to 0 and a warning is issued).  This limit is\r\n",
        "    defined because otherwise you'll spend more time re-flushing a too small\r\n",
        "    cache than working\r\n",
        "--port-retries=<Integer> (NotebookApp.port_retries)\r\n",
        "    Default: 50\r\n",
        "    The number of additional ports to try if the specified port is not\r\n",
        "    available.\r\n",
        "--colors=<CaselessStrEnum> (InteractiveShell.colors)\r\n",
        "    Default: 'LightBG'\r\n",
        "    Choices: ('NoColor', 'LightBG', 'Linux')\r\n",
        "    Set the color scheme (NoColor, Linux, or LightBG).\r\n",
        "--iopub=<Integer> (IPKernelApp.iopub_port)\r\n",
        "    Default: 0\r\n",
        "    set the iopub (PUB) port [default: random]\r\n",
        "--port=<Integer> (NotebookApp.port)\r\n",
        "    Default: 8888\r\n",
        "    The port the notebook server will listen on.\r\n",
        "--transport=<CaselessStrEnum> (KernelManager.transport)\r\n",
        "    Default: 'tcp'\r\n",
        "    Choices: ['tcp', 'ipc']\r\n",
        "--certfile=<Unicode> (NotebookApp.certfile)\r\n",
        "    Default: u''\r\n",
        "    The full path to an SSL/TLS certificate file.\r\n",
        "--autocall=<Enum> (InteractiveShell.autocall)\r\n",
        "    Default: 0\r\n",
        "    Choices: (0, 1, 2)\r\n",
        "    Make IPython automatically call any callable object even if you didn't type\r\n",
        "    explicit parentheses. For example, 'str 43' becomes 'str(43)' automatically.\r\n",
        "    The value can be '0' to disable the feature, '1' for 'smart' autocall, where\r\n",
        "    it is not applied if there are no more arguments on the line, and '2' for\r\n",
        "    'full' autocall, where all callable objects are automatically called (even\r\n",
        "    if no arguments are present).\r\n",
        "--notebook-dir=<Unicode> (NotebookApp.notebook_dir)\r\n",
        "    Default: u'/Users/tom/GitHub/USGS_2014_07-all/USGS_2014-07/Day03-Python'\r\n",
        "    The directory to use for notebooks and kernels.\r\n",
        "--config=<Unicode> (BaseIPythonApplication.extra_config_file)\r\n",
        "    Default: u''\r\n",
        "    Path to an extra config file to load.\r\n",
        "    If specified, load this config file in addition to any other IPython config.\r\n",
        "--profile=<Unicode> (BaseIPythonApplication.profile)\r\n",
        "    Default: u'default'\r\n",
        "    The IPython profile to use.\r\n",
        "--shell=<Integer> (IPKernelApp.shell_port)\r\n",
        "    Default: 0\r\n",
        "    set the shell (ROUTER) port [default: random]\r\n",
        "--parent=<Integer> (IPKernelApp.parent_handle)\r\n",
        "    Default: 0\r\n",
        "    kill this process if its parent dies.  On Windows, the argument specifies\r\n",
        "    the HANDLE of the parent process, otherwise it is simply boolean.\r\n",
        "--matplotlib=<CaselessStrEnum> (InteractiveShellApp.matplotlib)\r\n",
        "    Default: None\r\n",
        "    Choices: ['auto', 'gtk', 'gtk3', 'inline', 'osx', 'qt', 'qt4', 'tk', 'wx']\r\n",
        "    Configure matplotlib for interactive use with the default matplotlib\r\n",
        "    backend.\r\n",
        "--profile-dir=<Unicode> (ProfileDir.location)\r\n",
        "    Default: u''\r\n",
        "    Set the profile location directly. This overrides the logic used by the\r\n",
        "    `profile` option.\r\n",
        "--user=<Unicode> (Session.username)\r\n",
        "    Default: u'tom'\r\n",
        "    Username for the Session. Default is your system username.\r\n",
        "--hb=<Integer> (IPKernelApp.hb_port)\r\n",
        "    Default: 0\r\n",
        "    set the heartbeat port [default: random]\r\n",
        "--logfile=<Unicode> (InteractiveShell.logfile)\r\n",
        "    Default: ''\r\n",
        "    The name of the logfile to use.\r\n",
        "-c <Unicode> (InteractiveShellApp.code_to_run)\r\n",
        "    Default: ''\r\n",
        "    Execute the given command string.\r\n",
        "--ident=<CUnicode> (Session.session)\r\n",
        "    Default: u''\r\n",
        "    The UUID identifying this session.\r\n",
        "--ipython-dir=<Unicode> (BaseIPythonApplication.ipython_dir)\r\n",
        "    Default: u''\r\n",
        "    The name of the IPython directory. This directory is used for logging\r\n",
        "    configuration (through profiles), history storage, etc. The default is\r\n",
        "    usually $HOME/.ipython. This options can also be specified through the\r\n",
        "    environment variable IPYTHONDIR.\r\n",
        "--gui=<CaselessStrEnum> (InteractiveShellApp.gui)\r\n",
        "    Default: None\r\n",
        "    Choices: ('glut', 'gtk', 'gtk3', 'none', 'osx', 'pyglet', 'qt', 'qt4', 'tk', 'wx')\r\n",
        "    Enable GUI event loop integration with any of ('glut', 'gtk', 'gtk3',\r\n",
        "    'none', 'osx', 'pyglet', 'qt', 'qt4', 'tk', 'wx').\r\n",
        "--stdin=<Integer> (IPKernelApp.stdin_port)\r\n",
        "    Default: 0\r\n",
        "    set the stdin (ROUTER) port [default: random]\r\n",
        "-m <Unicode> (InteractiveShellApp.module_to_run)\r\n",
        "    Default: ''\r\n",
        "    Run the module as a script.\r\n",
        "--log-level=<Enum> (Application.log_level)\r\n",
        "    Default: 30\r\n",
        "    Choices: (0, 10, 20, 30, 40, 50, 'DEBUG', 'INFO', 'WARN', 'ERROR', 'CRITICAL')\r\n",
        "    Set the log level by value or name.\r\n",
        "--ext=<Unicode> (InteractiveShellApp.extra_extension)\r\n",
        "    Default: ''\r\n",
        "    dotted module name of an IPython extension to load.\r\n",
        "--keyfile=<Unicode> (NotebookApp.keyfile)\r\n",
        "    Default: u''\r\n",
        "    The full path to a private key file for usage with SSL/TLS.\r\n",
        "--browser=<Unicode> (NotebookApp.browser)\r\n",
        "    Default: u''\r\n",
        "    Specify what command to use to invoke a web browser when opening the\r\n",
        "    notebook. If not specified, the default browser will be determined by the\r\n",
        "    `webbrowser` standard library module, which allows setting of the BROWSER\r\n",
        "    environment variable to override it.\r\n",
        "\r\n",
        "To see all available configurables, use `--help-all`\r\n",
        "\r\n",
        "Examples\r\n",
        "--------\r\n",
        "\r\n",
        "    ipython notebook                       # start the notebook\r\n",
        "    ipython notebook --profile=sympy       # use the sympy profile\r\n",
        "    ipython notebook --certfile=mycert.pem # use SSL/TLS certificate\r\n",
        "\r\n"
       ]
      }
     ],
     "prompt_number": 1
    },
    {
     "cell_type": "markdown",
     "metadata": {
      "slideshow": {
       "slide_type": "slide"
      }
     },
     "source": [
      "## Running a notebook on a remote host, e.g. login node of a remote cluster\n"
     ]
    },
    {
     "cell_type": "markdown",
     "metadata": {},
     "source": [
      "### Options relevant for remote notebooks"
     ]
    },
    {
     "cell_type": "markdown",
     "metadata": {},
     "source": [
      "* **--no-browser**: don't open the notebook in a browser after startup \n",
      "* **--ip**: The IP address the notebook server will listen on\n",
      "* **--port**: the port the notebook server will listen on\n"
     ]
    },
    {
     "cell_type": "markdown",
     "metadata": {},
     "source": [
      "### Starting the notebook on the login node\n",
      "\n",
      "```shell\n",
      "$ ssh tahauser@stampede.tacc.xsede.org\n",
      "stampde$ hostname\n",
      "   login2.stampede.tacc.utexas.edu\n",
      "\n",
      "stampede$ ipython notebook --no-browser --port=9088 --ip=*\n",
      "```\n",
      "\n",
      "### Connecting to the notebook server\n",
      "\n",
      "http://login2.stampede.tacc.utexas.edu:9088\n"
     ]
    },
    {
     "cell_type": "markdown",
     "metadata": {
      "slideshow": {
       "slide_type": "slide"
      }
     },
     "source": [
      "## Securing the remote notebook\n",
      "\n",
      "There are several steps to secure the notebook server on a remote machine (see http://ipython.org/ipython-doc/dev/notebook/public_server.html)\n",
      "\n",
      "1. Create a custom notebook profile\n",
      "2. Create a self signed certificate to access the remote notebook with https\n",
      "3. Create a simple password\n",
      "4. Edit the notebook profile to specify the security settings\n",
      "\n",
      "*There is a bug in the combination of Safari and tornado that may not allow you to run the remote notebook properly: Use a different browser*\n"
     ]
    },
    {
     "cell_type": "markdown",
     "metadata": {
      "slideshow": {
       "slide_type": "subslide"
      }
     },
     "source": [
      "### 1. Creating a notebook profile\n",
      "\n",
      "A profile allows you to manage different configurations for your notebook\n",
      "\n",
      "```shell\n",
      "stampede$ ipython profile create nbserver\n",
      "```\n",
      "\n",
      "This will create *.ipython/profile_nbserver* directory\n"
     ]
    },
    {
     "cell_type": "code",
     "collapsed": false,
     "input": [
      "!ssh tahauser@stampede.tacc.xsede.org 'cd .ipython/profile_nbserver; ls -al'"
     ],
     "language": "python",
     "metadata": {},
     "outputs": [
      {
       "output_type": "stream",
       "stream": "stdout",
       "text": [
        "total 144\r\n",
        "drwxr-xr-x 8 thauser cob113  4096 Jul 14 05:46 .\r\n",
        "drwxr-xr-x 6 thauser cob113  4096 Jul 14 08:48 ..\r\n",
        "drwxr-xr-x 2 thauser cob113  4096 Jul 13 17:58 db\r\n",
        "-rw-r--r-- 1 thauser cob113  7168 Jul 14 05:46 history.sqlite\r\n",
        "-rw-r--r-- 1 thauser cob113 19915 Jul 13 17:39 ipython_config.py\r\n",
        "-rw-r--r-- 1 thauser cob113 31841 Jul 13 17:39 ipython_nbconvert_config.py\r\n",
        "-rw-r--r-- 1 thauser cob113 24504 Jul 13 17:50 ipython_notebook_config.py\r\n",
        "-rw-r--r-- 1 thauser cob113 24679 Jul 13 17:39 ipython_qtconsole_config.py\r\n",
        "drwxr-xr-x 2 thauser cob113  4096 Jul 14 05:43 log\r\n",
        "drwx------ 2 thauser cob113  4096 Jul 14 05:42 pid\r\n",
        "drwx------ 2 thauser cob113  4096 Jul 14 05:47 security\r\n",
        "drwxr-xr-x 2 thauser cob113  4096 Jul 13 17:39 startup\r\n",
        "drwxr-xr-x 3 thauser cob113  4096 Jul 13 17:39 static\r\n"
       ]
      }
     ],
     "prompt_number": 3
    },
    {
     "cell_type": "markdown",
     "metadata": {
      "slideshow": {
       "slide_type": "subslide"
      }
     },
     "source": [
      "### 2. Create a self-signed certificate\n",
      "\n",
      "```shell\n",
      "stampede$ openssl req -x509 -nodes -days 365 -newkey rsa:1024 -keyout mycert.pem -out mycert.pem\n",
      "```\n",
      "\n",
      "### 3. Create a password hash\n",
      "\n",
      "In IPython execute:\n",
      "To not record the password do:\n",
      "\n",
      "```python\n",
      "from IPython.lib import passwd\n",
      "passwd()\n",
      "```"
     ]
    },
    {
     "cell_type": "code",
     "collapsed": false,
     "input": [
      "from IPython.lib import passwd\n",
      "\n",
      "passwd('test password')"
     ],
     "language": "python",
     "metadata": {},
     "outputs": [
      {
       "metadata": {},
       "output_type": "pyout",
       "prompt_number": 6,
       "text": [
        "'sha1:767cf154e39a:b4f204a629dc83c06d8d799505941372ee0347df'"
       ]
      }
     ],
     "prompt_number": 6
    },
    {
     "cell_type": "markdown",
     "metadata": {
      "slideshow": {
       "slide_type": "subslide"
      }
     },
     "source": [
      "### 4. Edit the configuration for your profile\n",
      "\n",
      "```shell\n",
      "vim .ipython/profile_nbserver/ipython_notebook_config.py\n",
      "```\n"
     ]
    },
    {
     "cell_type": "code",
     "collapsed": false,
     "input": [
      "!ssh tahauser@stampede.tacc.xsede.org 'head -n 12 .ipython/profile_nbserver/ipython_notebook_config.py'"
     ],
     "language": "python",
     "metadata": {},
     "outputs": [
      {
       "output_type": "stream",
       "stream": "stdout",
       "text": [
        "# Configuration file for ipython-notebook.\r\n",
        "\r\n",
        "c = get_config()\r\n",
        "# Kernel config\r\n",
        "c.IPKernelApp.pylab = 'inline'  # if you want plotting support always\r\n",
        "# Notebook config\r\n",
        "c.NotebookApp.certfile = u'/home/thauser/.ipython/mycert.pem'\r\n",
        "c.NotebookApp.ip = '*'\r\n",
        "c.NotebookApp.open_browser = False\r\n",
        "c.NotebookApp.password = u'sha1:4723172689ea:003c3bcd8ba0bf4b8b4d3b0647a2be7bf7bd7216'\r\n",
        "c.NotebookApp.port = 11111\r\n",
        "\r\n"
       ]
      }
     ],
     "prompt_number": 10
    },
    {
     "cell_type": "markdown",
     "metadata": {
      "slideshow": {
       "slide_type": "slide"
      }
     },
     "source": [
      "## Running the secured remote notebook\n",
      "\n",
      "```shell\n",
      "ipython notebook --profile=nbserver\n",
      "```\n",
      "\n",
      "connect to\n",
      "\n",
      "https://stampede.tacc.xsede.org:11111\n",
      "\n",
      "you need to enter your password"
     ]
    },
    {
     "cell_type": "markdown",
     "metadata": {
      "slideshow": {
       "slide_type": "slide"
      }
     },
     "source": [
      "## Running the notebook in an interactive job on Stampede\n",
      "\n",
      "1. Start your interactive job\n",
      "\n",
      "```shell\n",
      "stampede$ srun -p development -N 1 -n 16 -t 10 --pty /bin/bash\n",
      "```\n",
      "\n",
      "2. Start your notebook server\n",
      "\n",
      "```shell\n",
      "stampede$ hostname\n",
      "stampede$ ipython notebook --profile=nbserver\n",
      "```\n"
     ]
    },
    {
     "cell_type": "markdown",
     "metadata": {
      "slideshow": {
       "slide_type": "slide"
      }
     },
     "source": [
      "## Port forwarding using ssh\n",
      "\n",
      "On some machines compute nodes maybe not accessible from the outside\n",
      "\n",
      "### ssh port forwarding\n",
      "\n",
      "On your local machine:\n",
      "```shell\n",
      "#ssh -L localport:nodename:remote_port -f -N tahauser@stampede.tacc.xsede.org\n",
      "\n",
      "$ ssh -L 8088:gcn-4-68:9088 -f -N tahauser@stampede.tacc.xsede.org\n",
      "```\n",
      "\n",
      "open your localbrowser at https://localhost:8088\n"
     ]
    },
    {
     "cell_type": "code",
     "collapsed": false,
     "input": [],
     "language": "python",
     "metadata": {},
     "outputs": []
    }
   ],
   "metadata": {}
  }
 ]
}