{
 "metadata": {
  "name": "",
  "signature": "sha256:2b9a66b4ae525175fa97fc29b02ec28cdeb78e4f9458fb6b1d98a80eb417e162"
 },
 "nbformat": 3,
 "nbformat_minor": 0,
 "worksheets": [
  {
   "cells": [
    {
     "cell_type": "heading",
     "level": 2,
     "metadata": {},
     "source": [
      "Here are some other useful information and commands to use in git."
     ]
    },
    {
     "cell_type": "heading",
     "level": 3,
     "metadata": {},
     "source": [
      "1.  At any time, if I want to look at my commit history, I can see that here:"
     ]
    },
    {
     "cell_type": "code",
     "collapsed": false,
     "input": [
      "!git log"
     ],
     "language": "python",
     "metadata": {},
     "outputs": []
    },
    {
     "cell_type": "heading",
     "level": 3,
     "metadata": {},
     "source": [
      "2.  I committed, but I need to change the metadata of the last commit.  I can do this with:"
     ]
    },
    {
     "cell_type": "code",
     "collapsed": false,
     "input": [
      "!git commit --amend --allow-empty"
     ],
     "language": "python",
     "metadata": {},
     "outputs": []
    },
    {
     "cell_type": "heading",
     "level": 3,
     "metadata": {},
     "source": [
      "3.  What if I want to get rid of the last commit entirely?"
     ]
    },
    {
     "cell_type": "code",
     "collapsed": false,
     "input": [
      "!git reset HEAD^"
     ],
     "language": "python",
     "metadata": {},
     "outputs": []
    },
    {
     "cell_type": "heading",
     "level": 3,
     "metadata": {},
     "source": [
      "4.  What if I want to find the person that made that EGREGIOUS error last week"
     ]
    },
    {
     "cell_type": "code",
     "collapsed": false,
     "input": [
      "!git blame temporary_git_file.txt"
     ],
     "language": "python",
     "metadata": {},
     "outputs": []
    }
   ],
   "metadata": {}
  }
 ]
}