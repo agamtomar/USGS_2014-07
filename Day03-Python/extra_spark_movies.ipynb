{
 "metadata": {
  "name": "",
  "signature": "sha256:98dd5aa842a2343829256a6cb061b94136dc8e6d74729331b112461815439430"
 },
 "nbformat": 3,
 "nbformat_minor": 0,
 "worksheets": [
  {
   "cells": [
    {
     "cell_type": "markdown",
     "metadata": {},
     "source": [
      "<img src='https://www.rc.colorado.edu/sites/all/themes/research/logo.png' style=\"height:75px\">"
     ]
    },
    {
     "cell_type": "code",
     "collapsed": false,
     "input": [
      "from pyspark import  SparkContext\n",
      "SparkContext.setSystemProperty('spark.executor.memory', '20g')\n",
      "\n",
      "if 'sc' not in globals():\n",
      "    sc = SparkContext( CLUSTER_URL, 'pyspark')"
     ],
     "language": "python",
     "metadata": {},
     "outputs": [],
     "prompt_number": 1
    },
    {
     "cell_type": "code",
     "collapsed": false,
     "input": [
      "users = sc.textFile('data/users.dat').map(lambda x: (int(x.split('::')[0]), x))\n",
      "print users.count()\n",
      "users.take(5)"
     ],
     "language": "python",
     "metadata": {},
     "outputs": [
      {
       "output_type": "stream",
       "stream": "stdout",
       "text": [
        "6040\n"
       ]
      },
      {
       "metadata": {},
       "output_type": "pyout",
       "prompt_number": 3,
       "text": [
        "[(1, u'1::F::1::10::48067'),\n",
        " (2, u'2::M::56::16::70072'),\n",
        " (3, u'3::M::25::15::55117'),\n",
        " (4, u'4::M::45::7::02460'),\n",
        " (5, u'5::M::25::20::55455')]"
       ]
      }
     ],
     "prompt_number": 3
    },
    {
     "cell_type": "code",
     "collapsed": false,
     "input": [
      "ratings = sc.textFile('data/ratings.dat').map(lambda x: (int(x.split('::')[0]), x))\n",
      "print ratings.count()\n",
      "ratings.take(5)"
     ],
     "language": "python",
     "metadata": {},
     "outputs": [
      {
       "output_type": "stream",
       "stream": "stdout",
       "text": [
        "1000209\n"
       ]
      },
      {
       "metadata": {},
       "output_type": "pyout",
       "prompt_number": 4,
       "text": [
        "[(1, u'1::1193::5::978300760'),\n",
        " (1, u'1::661::3::978302109'),\n",
        " (1, u'1::914::3::978301968'),\n",
        " (1, u'1::3408::4::978300275'),\n",
        " (1, u'1::2355::5::978824291')]"
       ]
      }
     ],
     "prompt_number": 4
    },
    {
     "cell_type": "code",
     "collapsed": false,
     "input": [
      "movies = sc.textFile('data/movies.dat').map(lambda x: (int(x.split('::')[0]), x))\n",
      "print movies.count()\n",
      "movies.take(5)"
     ],
     "language": "python",
     "metadata": {},
     "outputs": [
      {
       "output_type": "stream",
       "stream": "stdout",
       "text": [
        "3883\n"
       ]
      },
      {
       "metadata": {},
       "output_type": "pyout",
       "prompt_number": 5,
       "text": [
        "[(1, u\"1::Toy Story (1995)::Animation|Children's|Comedy\"),\n",
        " (2, u\"2::Jumanji (1995)::Adventure|Children's|Fantasy\"),\n",
        " (3, u'3::Grumpier Old Men (1995)::Comedy|Romance'),\n",
        " (4, u'4::Waiting to Exhale (1995)::Comedy|Drama'),\n",
        " (5, u'5::Father of the Bride Part II (1995)::Comedy')]"
       ]
      }
     ],
     "prompt_number": 5
    },
    {
     "cell_type": "heading",
     "level": 3,
     "metadata": {},
     "source": [
      "Join"
     ]
    },
    {
     "cell_type": "code",
     "collapsed": false,
     "input": [
      "data = ratings.join(users)\n",
      "data.take(10)"
     ],
     "language": "python",
     "metadata": {},
     "outputs": [
      {
       "metadata": {},
       "output_type": "pyout",
       "prompt_number": 6,
       "text": [
        "[(2052, (u'2052::2997::1::974661754', u'2052::M::1::10::46033')),\n",
        " (2052, (u'2052::3005::3::974661796', u'2052::M::1::10::46033')),\n",
        " (2052, (u'2052::3016::3::974661930', u'2052::M::1::10::46033')),\n",
        " (2052, (u'2052::3248::3::974661507', u'2052::M::1::10::46033')),\n",
        " (2052, (u'2052::3285::1::974661754', u'2052::M::1::10::46033')),\n",
        " (2052, (u'2052::1831::1::974661443', u'2052::M::1::10::46033')),\n",
        " (2052, (u'2052::223::4::974661479', u'2052::M::1::10::46033')),\n",
        " (2052, (u'2052::2826::1::974661685', u'2052::M::1::10::46033')),\n",
        " (2052, (u'2052::2827::2::974661754', u'2052::M::1::10::46033')),\n",
        " (2052, (u'2052::2683::4::974661754', u'2052::M::1::10::46033'))]"
       ]
      }
     ],
     "prompt_number": 6
    },
    {
     "cell_type": "code",
     "collapsed": false,
     "input": [
      "tmp = data.map( lambda x: '::'.join(x[1]))\n",
      "tmp = tmp.map( lambda x: (int(x.split('::')[1]), x))\n",
      "tmp.take(5)"
     ],
     "language": "python",
     "metadata": {},
     "outputs": [
      {
       "metadata": {},
       "output_type": "pyout",
       "prompt_number": 7,
       "text": [
        "[(2997, u'2052::2997::1::974661754::2052::M::1::10::46033'),\n",
        " (3005, u'2052::3005::3::974661796::2052::M::1::10::46033'),\n",
        " (3016, u'2052::3016::3::974661930::2052::M::1::10::46033'),\n",
        " (3248, u'2052::3248::3::974661507::2052::M::1::10::46033'),\n",
        " (3285, u'2052::3285::1::974661754::2052::M::1::10::46033')]"
       ]
      }
     ],
     "prompt_number": 7
    },
    {
     "cell_type": "code",
     "collapsed": false,
     "input": [
      "data = tmp.join(movies)\n",
      "data.count()\n",
      "data.take(5)"
     ],
     "language": "python",
     "metadata": {},
     "outputs": [
      {
       "metadata": {},
       "output_type": "pyout",
       "prompt_number": 8,
       "text": [
        "[(3072,\n",
        "  (u'24::3072::4::978132276::24::F::25::7::10023',\n",
        "   u'3072::Moonstruck (1987)::Comedy')),\n",
        " (3072,\n",
        "  (u'36::3072::4::978063192::36::M::25::3::94123',\n",
        "   u'3072::Moonstruck (1987)::Comedy')),\n",
        " (3072,\n",
        "  (u'2124::3072::5::974649244::2124::M::25::0::12306',\n",
        "   u'3072::Moonstruck (1987)::Comedy')),\n",
        " (3072,\n",
        "  (u'132::3072::4::977428857::132::M::25::17::99709',\n",
        "   u'3072::Moonstruck (1987)::Comedy')),\n",
        " (3072,\n",
        "  (u'4296::3072::5::965270114::4296::M::56::6::33030',\n",
        "   u'3072::Moonstruck (1987)::Comedy'))]"
       ]
      }
     ],
     "prompt_number": 8
    },
    {
     "cell_type": "code",
     "collapsed": false,
     "input": [
      "data = data.map(lambda x: '::'.join(x[1]))\n",
      "data.take(5)"
     ],
     "language": "python",
     "metadata": {},
     "outputs": [
      {
       "metadata": {},
       "output_type": "pyout",
       "prompt_number": 9,
       "text": [
        "[u'24::3072::4::978132276::24::F::25::7::10023::3072::Moonstruck (1987)::Comedy',\n",
        " u'36::3072::4::978063192::36::M::25::3::94123::3072::Moonstruck (1987)::Comedy',\n",
        " u'2124::3072::5::974649244::2124::M::25::0::12306::3072::Moonstruck (1987)::Comedy',\n",
        " u'132::3072::4::977428857::132::M::25::17::99709::3072::Moonstruck (1987)::Comedy',\n",
        " u'4296::3072::5::965270114::4296::M::56::6::33030::3072::Moonstruck (1987)::Comedy']"
       ]
      }
     ],
     "prompt_number": 9
    },
    {
     "cell_type": "heading",
     "level": 3,
     "metadata": {},
     "source": [
      "Cleaning"
     ]
    },
    {
     "cell_type": "code",
     "collapsed": false,
     "input": [
      "def keep_cols(x):\n",
      "    values = x.split('::')\n",
      "    return (values[2], values[5], values[10], 1) #add 1 for the count"
     ],
     "language": "python",
     "metadata": {},
     "outputs": [],
     "prompt_number": 10
    },
    {
     "cell_type": "code",
     "collapsed": false,
     "input": [
      "clean = data.map(keep_cols)\n",
      "clean.take(5)"
     ],
     "language": "python",
     "metadata": {},
     "outputs": [
      {
       "metadata": {},
       "output_type": "pyout",
       "prompt_number": 11,
       "text": [
        "[(u'4', u'F', u'Moonstruck (1987)', 1),\n",
        " (u'4', u'M', u'Moonstruck (1987)', 1),\n",
        " (u'5', u'M', u'Moonstruck (1987)', 1),\n",
        " (u'4', u'M', u'Moonstruck (1987)', 1),\n",
        " (u'5', u'M', u'Moonstruck (1987)', 1)]"
       ]
      }
     ],
     "prompt_number": 11
    },
    {
     "cell_type": "heading",
     "level": 3,
     "metadata": {},
     "source": [
      "Compute"
     ]
    },
    {
     "cell_type": "markdown",
     "metadata": {},
     "source": [
      "Groupby movie"
     ]
    },
    {
     "cell_type": "code",
     "collapsed": false,
     "input": [
      "tmp = clean.map(lambda x: (x[2], x)).groupByKey()\n",
      "print tmp.count()"
     ],
     "language": "python",
     "metadata": {},
     "outputs": [
      {
       "output_type": "stream",
       "stream": "stdout",
       "text": [
        "3706\n"
       ]
      }
     ],
     "prompt_number": 12
    },
    {
     "cell_type": "markdown",
     "metadata": {},
     "source": [
      "Compute the mean rating and count."
     ]
    },
    {
     "cell_type": "code",
     "collapsed": false,
     "input": [
      "def movie_count_rating(x):\n",
      "    title = x[0]\n",
      "    mean_rating = 0.\n",
      "    count = len(x[1])\n",
      "    for rating in x[1]:\n",
      "        mean_rating += int(rating[0])\n",
      "    return (title, count, mean_rating/float(count))"
     ],
     "language": "python",
     "metadata": {},
     "outputs": [],
     "prompt_number": 13
    },
    {
     "cell_type": "code",
     "collapsed": false,
     "input": [
      "results = tmp.map(movie_count_rating)\n",
      "results.take(3)"
     ],
     "language": "python",
     "metadata": {},
     "outputs": [
      {
       "metadata": {},
       "output_type": "pyout",
       "prompt_number": 14,
       "text": [
        "[(u'Harriet the Spy (1996)', 121, 3.0991735537190084),\n",
        " (u'Mad Love (1995)', 48, 2.2083333333333335),\n",
        " (u'Smoke (1995)', 213, 3.755868544600939)]"
       ]
      }
     ],
     "prompt_number": 14
    },
    {
     "cell_type": "markdown",
     "metadata": {},
     "source": [
      "Highest rated movies?"
     ]
    },
    {
     "cell_type": "code",
     "collapsed": false,
     "input": [
      "results.map(lambda x: (x[2], x)).sortByKey(False).take(10)"
     ],
     "language": "python",
     "metadata": {},
     "outputs": [
      {
       "metadata": {},
       "output_type": "pyout",
       "prompt_number": 15,
       "text": [
        "[(5.0, (u'Schlafes Bruder (Brother of Sleep) (1995)', 1, 5.0)),\n",
        " (5.0, (u'Song of Freedom (1936)', 1, 5.0)),\n",
        " (5.0, (u'Smashing Time (1967)', 2, 5.0)),\n",
        " (5.0, (u'Baby, The (1973)', 1, 5.0)),\n",
        " (5.0, (u'Bittersweet Motel (2000)', 1, 5.0)),\n",
        " (5.0, (u'Gate of Heavenly Peace, The (1995)', 3, 5.0)),\n",
        " (5.0, (u'Follow the Bitch (1998)', 1, 5.0)),\n",
        " (5.0, (u'Lured (1947)', 1, 5.0)),\n",
        " (5.0, (u'One Little Indian (1973)', 1, 5.0)),\n",
        " (5.0, (u'Ulysses (Ulisse) (1954)', 1, 5.0))]"
       ]
      }
     ],
     "prompt_number": 15
    },
    {
     "cell_type": "markdown",
     "metadata": {},
     "source": [
      "Highest rated with more than `1000` ratings?"
     ]
    },
    {
     "cell_type": "code",
     "collapsed": false,
     "input": [
      "top = results.filter(lambda x: x[1] > 1000).map(lambda x: (x[2], x)).sortByKey(False).take(10)"
     ],
     "language": "python",
     "metadata": {},
     "outputs": [],
     "prompt_number": 16
    },
    {
     "cell_type": "code",
     "collapsed": false,
     "input": [
      "top"
     ],
     "language": "python",
     "metadata": {},
     "outputs": [
      {
       "metadata": {},
       "output_type": "pyout",
       "prompt_number": 17,
       "text": [
        "[(4.554557700942973,\n",
        "  (u'Shawshank Redemption, The (1994)', 2227, 4.554557700942973)),\n",
        " (4.524966261808367, (u'Godfather, The (1972)', 2223, 4.524966261808367)),\n",
        " (4.517106001121705, (u'Usual Suspects, The (1995)', 1783, 4.517106001121705)),\n",
        " (4.510416666666667, (u\"Schindler's List (1993)\", 2304, 4.510416666666667)),\n",
        " (4.477724741447892,\n",
        "  (u'Raiders of the Lost Ark (1981)', 2514, 4.477724741447892)),\n",
        " (4.476190476190476, (u'Rear Window (1954)', 1050, 4.476190476190476)),\n",
        " (4.453694416583082,\n",
        "  (u'Star Wars: Episode IV - A New Hope (1977)', 2991, 4.453694416583082)),\n",
        " (4.4498902706656915,\n",
        "  (u'Dr. Strangelove or: How I Learned to Stop Worrying and Love the Bomb (1963)',\n",
        "   1367,\n",
        "   4.4498902706656915)),\n",
        " (4.412822049131217, (u'Casablanca (1942)', 1669, 4.412822049131217)),\n",
        " (4.406262708418057, (u'Sixth Sense, The (1999)', 2459, 4.406262708418057))]"
       ]
      }
     ],
     "prompt_number": 17
    },
    {
     "cell_type": "code",
     "collapsed": false,
     "input": [
      "for m in top:\n",
      "    print m[1][2], m[1][0][:30]"
     ],
     "language": "python",
     "metadata": {},
     "outputs": [
      {
       "output_type": "stream",
       "stream": "stdout",
       "text": [
        "4.55455770094 Shawshank Redemption, The (199\n",
        "4.52496626181 Godfather, The (1972)\n",
        "4.51710600112 Usual Suspects, The (1995)\n",
        "4.51041666667 Schindler's List (1993)\n",
        "4.47772474145 Raiders of the Lost Ark (1981)\n",
        "4.47619047619 Rear Window (1954)\n",
        "4.45369441658 Star Wars: Episode IV - A New \n",
        "4.44989027067 Dr. Strangelove or: How I Lear\n",
        "4.41282204913 Casablanca (1942)\n",
        "4.40626270842 Sixth Sense, The (1999)\n"
       ]
      }
     ],
     "prompt_number": 18
    },
    {
     "cell_type": "code",
     "collapsed": false,
     "input": [],
     "language": "python",
     "metadata": {},
     "outputs": []
    }
   ],
   "metadata": {}
  }
 ]
}