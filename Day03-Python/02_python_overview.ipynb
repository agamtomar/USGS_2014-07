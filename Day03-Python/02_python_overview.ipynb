{
 "metadata": {
  "name": "",
  "signature": "sha256:dce5a7666f05d637c42e11e57715566e650a12e238cea8b08f73f911bd8c2038"
 },
 "nbformat": 3,
 "nbformat_minor": 0,
 "worksheets": [
  {
   "cells": [
    {
     "cell_type": "markdown",
     "metadata": {},
     "source": [
      "<img src='https://www.rc.colorado.edu/sites/all/themes/research/logo.png' style=\"height:75px\">"
     ]
    },
    {
     "cell_type": "heading",
     "level": 1,
     "metadata": {},
     "source": [
      "Python Overview"
     ]
    },
    {
     "cell_type": "heading",
     "level": 2,
     "metadata": {},
     "source": [
      "Objectives"
     ]
    },
    {
     "cell_type": "markdown",
     "metadata": {},
     "source": [
      "- Review python\n",
      "- Introduction to functional concepts\n",
      "- Data analysis workflow"
     ]
    },
    {
     "cell_type": "heading",
     "level": 2,
     "metadata": {
      "slideshow": {
       "slide_type": "slide"
      }
     },
     "source": [
      "Scientific Hello World"
     ]
    },
    {
     "cell_type": "code",
     "collapsed": false,
     "input": [
      "from __future__ import print_function\n",
      "import math\n",
      "r = float(\"4.2\")\n",
      "s = math.sin(r)\n",
      "print('hello world! The sin({0}) = {1:0.2f}'.format(r,s))"
     ],
     "language": "python",
     "metadata": {},
     "outputs": [
      {
       "output_type": "stream",
       "stream": "stdout",
       "text": [
        "hello world! The sin(4.2) = -0.87\n"
       ]
      }
     ],
     "prompt_number": 3
    },
    {
     "cell_type": "code",
     "collapsed": false,
     "input": [
      "import __future__"
     ],
     "language": "python",
     "metadata": {},
     "outputs": [],
     "prompt_number": 4
    },
    {
     "cell_type": "markdown",
     "metadata": {},
     "source": [
      "There is a lot happening here!  "
     ]
    },
    {
     "cell_type": "heading",
     "level": 2,
     "metadata": {},
     "source": [
      "Functional Python"
     ]
    },
    {
     "cell_type": "markdown",
     "metadata": {},
     "source": [
      "<blockquote>\n",
      "Python acquired lambda, reduce, filter and map, courtesy of a Lisp hacker who missed them and submitted working patches. -Guido van Rossum\n",
      "</blockquote>\n",
      "\n",
      "- `map` \n",
      "- `reduce`\n",
      "- `filter`\n",
      "- `lambda`\n",
      "- And more: [itertools](https://docs.python.org/2/library/itertools.html), [pytoolz](https://github.com/pytoolz/toolz/)\n",
      "\n",
      "We will use these concepts (and more) in `Spark` and `IPython parallel`."
     ]
    },
    {
     "cell_type": "heading",
     "level": 3,
     "metadata": {},
     "source": [
      "The `map` abstraction"
     ]
    },
    {
     "cell_type": "code",
     "collapsed": false,
     "input": [
      "def square(x):\n",
      "    return x*x\n",
      "\n",
      "numbers = [1,2,3]\n",
      "\n",
      "def map_squares(nums):\n",
      "    res = []\n",
      "    for x in nums:\n",
      "        res.append( square(x) )\n",
      "    return res"
     ],
     "language": "python",
     "metadata": {},
     "outputs": [],
     "prompt_number": 5
    },
    {
     "cell_type": "markdown",
     "metadata": {},
     "source": [
      "or..."
     ]
    },
    {
     "cell_type": "code",
     "collapsed": false,
     "input": [
      "results = map(square, numbers)"
     ],
     "language": "python",
     "metadata": {},
     "outputs": [],
     "prompt_number": 6
    },
    {
     "cell_type": "heading",
     "level": 3,
     "metadata": {},
     "source": [
      "Anonymous functions: `lambda`"
     ]
    },
    {
     "cell_type": "code",
     "collapsed": false,
     "input": [
      "lambda_square = lambda x: x*x\n",
      "map(lambda_square, range(10))"
     ],
     "language": "python",
     "metadata": {},
     "outputs": [
      {
       "metadata": {},
       "output_type": "pyout",
       "prompt_number": 7,
       "text": [
        "[0, 1, 4, 9, 16, 25, 36, 49, 64, 81]"
       ]
      }
     ],
     "prompt_number": 7
    },
    {
     "cell_type": "code",
     "collapsed": false,
     "input": [
      "map(lambda x: x*x, range(10))"
     ],
     "language": "python",
     "metadata": {},
     "outputs": [
      {
       "metadata": {},
       "output_type": "pyout",
       "prompt_number": 8,
       "text": [
        "[0, 1, 4, 9, 16, 25, 36, 49, 64, 81]"
       ]
      }
     ],
     "prompt_number": 8
    },
    {
     "cell_type": "code",
     "collapsed": false,
     "input": [
      "res = map(lambda x: x*x, range(10))\n",
      "print(res)"
     ],
     "language": "python",
     "metadata": {},
     "outputs": [
      {
       "output_type": "stream",
       "stream": "stdout",
       "text": [
        "[0, 1, 4, 9, 16, 25, 36, 49, 64, 81]\n"
       ]
      }
     ],
     "prompt_number": 9
    },
    {
     "cell_type": "heading",
     "level": 3,
     "metadata": {},
     "source": [
      "Reduce"
     ]
    },
    {
     "cell_type": "markdown",
     "metadata": {},
     "source": [
      "Apply a function with **two** arguments cumulatively to the container."
     ]
    },
    {
     "cell_type": "code",
     "collapsed": false,
     "input": [
      "def add_num(x1, x2):\n",
      "    return x1+x2\n",
      "\n",
      "print(reduce(add_num, res))"
     ],
     "language": "python",
     "metadata": {},
     "outputs": [
      {
       "output_type": "stream",
       "stream": "stdout",
       "text": [
        "285\n"
       ]
      }
     ],
     "prompt_number": 10
    },
    {
     "cell_type": "code",
     "collapsed": false,
     "input": [
      "print(reduce(lambda x,y: x+y, res))"
     ],
     "language": "python",
     "metadata": {},
     "outputs": [
      {
       "output_type": "stream",
       "stream": "stdout",
       "text": [
        "285\n"
       ]
      }
     ],
     "prompt_number": 11
    },
    {
     "cell_type": "heading",
     "level": 3,
     "metadata": {},
     "source": [
      "`filter`"
     ]
    },
    {
     "cell_type": "markdown",
     "metadata": {},
     "source": [
      "Constructs a new list for items where the applied function is `True`."
     ]
    },
    {
     "cell_type": "code",
     "collapsed": false,
     "input": [
      "def less_than(x):\n",
      "    return x>10\n",
      "\n",
      "filter(less_than, res)"
     ],
     "language": "python",
     "metadata": {},
     "outputs": [
      {
       "metadata": {},
       "output_type": "pyout",
       "prompt_number": 12,
       "text": [
        "[16, 25, 36, 49, 64, 81]"
       ]
      }
     ],
     "prompt_number": 12
    },
    {
     "cell_type": "code",
     "collapsed": false,
     "input": [
      "filter(lambda x: x>10, res)"
     ],
     "language": "python",
     "metadata": {},
     "outputs": [
      {
       "metadata": {},
       "output_type": "pyout",
       "prompt_number": 13,
       "text": [
        "[16, 25, 36, 49, 64, 81]"
       ]
      }
     ],
     "prompt_number": 13
    },
    {
     "cell_type": "heading",
     "level": 2,
     "metadata": {
      "slideshow": {
       "slide_type": "slide"
      }
     },
     "source": [
      "Data Analysis Hello World"
     ]
    },
    {
     "cell_type": "markdown",
     "metadata": {},
     "source": [
      "How many unique words are in Hamlet?"
     ]
    },
    {
     "cell_type": "code",
     "collapsed": false,
     "input": [
      "import os\n",
      "hamlet = os.path.join('data','hamlet.txt')\n",
      "hamlet"
     ],
     "language": "python",
     "metadata": {},
     "outputs": [
      {
       "metadata": {},
       "output_type": "pyout",
       "prompt_number": 16,
       "text": [
        "'data/hamlet.txt'"
       ]
      }
     ],
     "prompt_number": 16
    },
    {
     "cell_type": "code",
     "collapsed": false,
     "input": [
      "import re\n",
      "words = re.findall(r'\\w+', open(hamlet).read().lower())\n",
      "\n",
      "print(len(set(words)), 'unique words')"
     ],
     "language": "python",
     "metadata": {},
     "outputs": [
      {
       "output_type": "stream",
       "stream": "stdout",
       "text": [
        "4086 unique words\n"
       ]
      }
     ],
     "prompt_number": 17
    },
    {
     "cell_type": "markdown",
     "metadata": {},
     "source": [
      "- string conversion\n",
      "- regular expressions\n",
      "- sets"
     ]
    },
    {
     "cell_type": "heading",
     "level": 3,
     "metadata": {
      "slideshow": {
       "slide_type": "slide"
      }
     },
     "source": [
      "Frequency of words?"
     ]
    },
    {
     "cell_type": "markdown",
     "metadata": {},
     "source": [
      "Words greater than lenth `2`"
     ]
    },
    {
     "cell_type": "code",
     "collapsed": false,
     "input": [
      "words = filter(lambda x: len(x)>2, words)\n",
      "print(words[:10])"
     ],
     "language": "python",
     "metadata": {},
     "outputs": [
      {
       "output_type": "stream",
       "stream": "stdout",
       "text": [
        "['hamlet', 'dramatis', 'personae', 'claudius', 'king', 'denmark', 'king', 'claudius', 'hamlet', 'son']\n"
       ]
      }
     ],
     "prompt_number": 18
    },
    {
     "cell_type": "markdown",
     "metadata": {},
     "source": [
      "A favorite python data structure, the `dicionary`."
     ]
    },
    {
     "cell_type": "code",
     "collapsed": false,
     "input": [
      "d = dict() # could use {}\n",
      "for w in words:\n",
      "    d[w] = d.get(w,0) + 1"
     ],
     "language": "python",
     "metadata": {},
     "outputs": [],
     "prompt_number": 19
    },
    {
     "cell_type": "markdown",
     "metadata": {},
     "source": [
      "- get(key, default)"
     ]
    },
    {
     "cell_type": "heading",
     "level": 2,
     "metadata": {
      "slideshow": {
       "slide_type": "slide"
      }
     },
     "source": [
      "Sorting dictionarys, `lambdas`"
     ]
    },
    {
     "cell_type": "code",
     "collapsed": false,
     "input": [
      "d.items()"
     ],
     "language": "python",
     "metadata": {},
     "outputs": [
      {
       "metadata": {},
       "output_type": "pyout",
       "prompt_number": 20,
       "text": [
        "[('forgone', 1),\n",
        " ('pardon', 6),\n",
        " ('nunnery', 5),\n",
        " ('lunacies', 1),\n",
        " ('doubts', 1),\n",
        " ('needful', 2),\n",
        " ('foul', 11),\n",
        " ('four', 2),\n",
        " ('hath', 54),\n",
        " ('straws', 1),\n",
        " ('sleep', 11),\n",
        " ('homage', 1),\n",
        " ('appetite', 1),\n",
        " ('captain', 10),\n",
        " ('hate', 1),\n",
        " ('yonder', 2),\n",
        " ('consider', 1),\n",
        " ('whose', 24),\n",
        " ('pointing', 2),\n",
        " ('remiss', 1),\n",
        " ('paris', 1),\n",
        " ('rankly', 1),\n",
        " ('stain', 1),\n",
        " ('swoopstake', 1),\n",
        " ('whatsoever', 1),\n",
        " ('under', 4),\n",
        " ('lord', 278),\n",
        " ('sorry', 3),\n",
        " ('pride', 1),\n",
        " ('spark', 1),\n",
        " ('worth', 3),\n",
        " ('favours', 1),\n",
        " ('beget', 1),\n",
        " ('lungs', 2),\n",
        " ('appal', 1),\n",
        " ('blanket', 1),\n",
        " ('rise', 1),\n",
        " ('replication', 1),\n",
        " ('every', 9),\n",
        " ('moons', 1),\n",
        " ('confederate', 1),\n",
        " ('frailty', 1),\n",
        " ('seals', 1),\n",
        " ('vast', 1),\n",
        " ('look', 37),\n",
        " ('jointress', 1),\n",
        " ('school', 1),\n",
        " ('scholar', 2),\n",
        " ('pinch', 1),\n",
        " ('conceive', 1),\n",
        " ('withers', 1),\n",
        " ('companies', 1),\n",
        " ('abatements', 1),\n",
        " ('convenience', 1),\n",
        " ('succession', 2),\n",
        " ('swallowed', 1),\n",
        " ('graces', 2),\n",
        " ('triumph', 1),\n",
        " ('whirlwind', 1),\n",
        " ('disclose', 1),\n",
        " ('glassy', 1),\n",
        " ('force', 3),\n",
        " ('razed', 1),\n",
        " ('boisterous', 1),\n",
        " ('feathers', 1),\n",
        " ('direct', 4),\n",
        " ('pulse', 1),\n",
        " ('second', 23),\n",
        " ('persuade', 1),\n",
        " ('valiant', 2),\n",
        " ('indirections', 1),\n",
        " ('tether', 1),\n",
        " ('sterile', 1),\n",
        " ('even', 22),\n",
        " ('lesser', 1),\n",
        " ('evermore', 1),\n",
        " ('hide', 4),\n",
        " ('wreck', 1),\n",
        " ('solemn', 3),\n",
        " ('thunder', 2),\n",
        " ('beaten', 1),\n",
        " ('fingers', 3),\n",
        " ('sulphurous', 1),\n",
        " ('fatness', 1),\n",
        " ('sheeted', 1),\n",
        " ('worser', 1),\n",
        " ('oaths', 1),\n",
        " ('above', 4),\n",
        " ('unhand', 1),\n",
        " ('new', 3),\n",
        " ('conjure', 1),\n",
        " ('ever', 12),\n",
        " ('seeks', 2),\n",
        " ('told', 5),\n",
        " ('orbed', 1),\n",
        " ('men', 12),\n",
        " ('here', 39),\n",
        " ('met', 1),\n",
        " ('pate', 1),\n",
        " ('jade', 1),\n",
        " ('aid', 1),\n",
        " ('path', 1),\n",
        " ('spies', 1),\n",
        " ('frighted', 1),\n",
        " ('interpret', 1),\n",
        " ('contraction', 1),\n",
        " ('dry', 3),\n",
        " ('substance', 2),\n",
        " ('daughter', 16),\n",
        " ('rests', 1),\n",
        " ('study', 1),\n",
        " ('changed', 1),\n",
        " ('controversy', 1),\n",
        " ('natures', 1),\n",
        " ('settled', 2),\n",
        " ('knavery', 1),\n",
        " ('golden', 1),\n",
        " ('sledded', 1),\n",
        " ('heedful', 1),\n",
        " ('divide', 1),\n",
        " ('rosencrantz', 75),\n",
        " ('straw', 2),\n",
        " ('snuff', 1),\n",
        " ('summons', 1),\n",
        " ('brought', 5),\n",
        " ('patience', 3),\n",
        " ('suffered', 1),\n",
        " ('moral', 1),\n",
        " ('meats', 1),\n",
        " ('drowned', 2),\n",
        " ('stern', 1),\n",
        " ('total', 1),\n",
        " ('plot', 1),\n",
        " ('ore', 1),\n",
        " ('spoke', 2),\n",
        " ('would', 67),\n",
        " ('army', 1),\n",
        " ('orb', 1),\n",
        " ('played', 2),\n",
        " ('exhort', 1),\n",
        " ('arms', 8),\n",
        " ('tenders', 3),\n",
        " ('escoted', 1),\n",
        " ('mightiest', 1),\n",
        " ('call', 20),\n",
        " ('therefore', 12),\n",
        " ('strike', 2),\n",
        " ('tell', 32),\n",
        " ('calf', 1),\n",
        " ('breathe', 4),\n",
        " ('hugger', 1),\n",
        " ('holy', 2),\n",
        " ('wary', 1),\n",
        " ('whirling', 1),\n",
        " ('wars', 1),\n",
        " ('canonized', 1),\n",
        " ('grief', 12),\n",
        " ('glass', 2),\n",
        " ('elsinore', 6),\n",
        " ('excellent', 8),\n",
        " ('hold', 23),\n",
        " ('unpack', 1),\n",
        " ('mountains', 1),\n",
        " ('must', 54),\n",
        " ('shepherds', 1),\n",
        " ('springes', 1),\n",
        " ('word', 13),\n",
        " ('wore', 1),\n",
        " ('err', 1),\n",
        " ('leavens', 1),\n",
        " ('pursue', 2),\n",
        " ('ratifiers', 1),\n",
        " ('work', 9),\n",
        " ('eclipse', 1),\n",
        " ('worm', 4),\n",
        " ('roof', 1),\n",
        " ('ere', 10),\n",
        " ('unbraced', 1),\n",
        " ('vow', 2),\n",
        " ('foils', 1),\n",
        " ('conjoin', 1),\n",
        " ('shoon', 1),\n",
        " ('quarrel', 2),\n",
        " ('jest', 2),\n",
        " ('serpent', 2),\n",
        " ('give', 48),\n",
        " ('loosed', 1),\n",
        " ('cataplasm', 1),\n",
        " ('wann', 1),\n",
        " ('honey', 1),\n",
        " ('fay', 1),\n",
        " ('caution', 1),\n",
        " ('plautus', 1),\n",
        " ('want', 2),\n",
        " ('times', 6),\n",
        " ('hoar', 1),\n",
        " ('cautel', 1),\n",
        " ('masterly', 1),\n",
        " ('ceremony', 1),\n",
        " ('provincial', 1),\n",
        " ('vanish', 1),\n",
        " ('end', 17),\n",
        " ('turn', 8),\n",
        " ('provide', 1),\n",
        " ('travel', 2),\n",
        " ('chameleon', 1),\n",
        " ('feature', 2),\n",
        " ('revisit', 1),\n",
        " ('machine', 1),\n",
        " ('how', 68),\n",
        " ('hot', 4),\n",
        " ('writers', 1),\n",
        " ('sate', 1),\n",
        " ('answer', 12),\n",
        " ('turk', 1),\n",
        " ('shortens', 1),\n",
        " ('chase', 1),\n",
        " ('erhasty', 1),\n",
        " ('gaming', 3),\n",
        " ('hadst', 3),\n",
        " ('cease', 1),\n",
        " ('sallets', 1),\n",
        " ('beauty', 6),\n",
        " ('after', 12),\n",
        " ('vicious', 1),\n",
        " ('wrong', 3),\n",
        " ('lay', 7),\n",
        " ('contrive', 2),\n",
        " ('law', 8),\n",
        " ('lap', 2),\n",
        " ('commutual', 1),\n",
        " ('third', 1),\n",
        " ('scourge', 2),\n",
        " ('hasty', 1),\n",
        " ('grant', 1),\n",
        " ('prosperously', 1),\n",
        " ('greet', 1),\n",
        " ('purging', 2),\n",
        " ('sons', 1),\n",
        " ('haste', 12),\n",
        " ('enter', 66),\n",
        " ('button', 1),\n",
        " ('alack', 3),\n",
        " ('wouldst', 5),\n",
        " ('wind', 9),\n",
        " ('offal', 1),\n",
        " ('thirty', 2),\n",
        " ('blind', 1),\n",
        " ('modesty', 3),\n",
        " ('office', 1),\n",
        " ('consent', 4),\n",
        " ('over', 4),\n",
        " ('govern', 1),\n",
        " ('beautied', 1),\n",
        " ('sickly', 2),\n",
        " ('whips', 2),\n",
        " ('crimeful', 1),\n",
        " ('leperous', 1),\n",
        " ('clapped', 1),\n",
        " ('before', 18),\n",
        " ('personae', 1),\n",
        " ('difference', 2),\n",
        " ('lovingly', 1),\n",
        " ('yond', 1),\n",
        " ('fit', 10),\n",
        " ('personal', 1),\n",
        " ('fix', 3),\n",
        " ('revenue', 1),\n",
        " ('crew', 2),\n",
        " ('better', 14),\n",
        " ('encounter', 3),\n",
        " ('fie', 6),\n",
        " ('carve', 1),\n",
        " ('chapel', 2),\n",
        " ('admirable', 1),\n",
        " ('easier', 1),\n",
        " ('overcome', 1),\n",
        " ('harmony', 1),\n",
        " ('then', 57),\n",
        " ('them', 62),\n",
        " ('diseases', 1),\n",
        " ('prithee', 2),\n",
        " ('weakness', 2),\n",
        " ('thee', 49),\n",
        " ('safe', 2),\n",
        " ('bouts', 1),\n",
        " ('break', 8),\n",
        " ('diseased', 1),\n",
        " ('shameful', 1),\n",
        " ('they', 87),\n",
        " ('altogether', 1),\n",
        " ('one', 40),\n",
        " ('silver', 1),\n",
        " ('bank', 1),\n",
        " ('prize', 1),\n",
        " ('shadows', 1),\n",
        " ('gallows', 4),\n",
        " ('persever', 1),\n",
        " ('lazar', 1),\n",
        " ('herald', 1),\n",
        " ('lisp', 1),\n",
        " ('bewept', 1),\n",
        " ('topp', 1),\n",
        " ('each', 11),\n",
        " ('addicted', 1),\n",
        " ('providence', 1),\n",
        " ('went', 4),\n",
        " ('sliver', 1),\n",
        " ('rosemary', 1),\n",
        " ('side', 1),\n",
        " ('lofty', 1),\n",
        " ('expectancy', 1),\n",
        " ('burial', 3),\n",
        " ('lifted', 1),\n",
        " ('observance', 2),\n",
        " ('directly', 2),\n",
        " ('fairly', 1),\n",
        " ('laying', 1),\n",
        " ('crimes', 3),\n",
        " ('husband', 10),\n",
        " ('distilment', 1),\n",
        " ('awry', 1),\n",
        " ('stream', 1),\n",
        " ('truant', 2),\n",
        " ('ring', 2),\n",
        " ('borne', 2),\n",
        " ('contend', 1),\n",
        " ('precisely', 1),\n",
        " ('forts', 1),\n",
        " ('god', 35),\n",
        " ('forty', 1),\n",
        " ('fellows', 3),\n",
        " ('content', 3),\n",
        " ('fellowship', 2),\n",
        " ('laid', 1),\n",
        " ('remorse', 1),\n",
        " ('rare', 1),\n",
        " ('easiness', 2),\n",
        " ('heavenly', 2),\n",
        " ('got', 1),\n",
        " ('perturbed', 1),\n",
        " ('engineer', 1),\n",
        " ('forth', 6),\n",
        " ('videlicet', 1),\n",
        " ('quaintly', 1),\n",
        " ('branches', 1),\n",
        " ('assured', 2),\n",
        " ('whiff', 1),\n",
        " ('incorporal', 1),\n",
        " ('lawless', 2),\n",
        " ('given', 10),\n",
        " ('free', 9),\n",
        " ('mourning', 1),\n",
        " ('thieves', 1),\n",
        " ('bestow', 5),\n",
        " ('faculties', 1),\n",
        " ('abate', 1),\n",
        " ('thirties', 1),\n",
        " ('mistress', 3),\n",
        " ('greeted', 1),\n",
        " ('fret', 1),\n",
        " ('delver', 1),\n",
        " ('grained', 1),\n",
        " ('exposing', 1),\n",
        " ('blaze', 1),\n",
        " ('starts', 1),\n",
        " ('days', 5),\n",
        " ('praises', 1),\n",
        " ('steward', 1),\n",
        " ('where', 53),\n",
        " ('shipped', 1),\n",
        " ('prodigal', 2),\n",
        " ('moving', 1),\n",
        " ('diggers', 1),\n",
        " ('clothes', 2),\n",
        " ('loud', 3),\n",
        " ('ardour', 1),\n",
        " ('already', 4),\n",
        " ('render', 1),\n",
        " ('mountebank', 1),\n",
        " ('traveller', 1),\n",
        " ('rank', 7),\n",
        " ('hearing', 4),\n",
        " ('fantasy', 3),\n",
        " ('lucianus', 4),\n",
        " ('another', 11),\n",
        " ('sober', 1),\n",
        " ('thick', 2),\n",
        " ('traitorous', 1),\n",
        " ('mercury', 1),\n",
        " ('toy', 2),\n",
        " ('yaughan', 1),\n",
        " ('service', 6),\n",
        " ('galled', 2),\n",
        " ('top', 7),\n",
        " ('neck', 3),\n",
        " ('fiction', 1),\n",
        " ('plentiful', 1),\n",
        " ('airs', 1),\n",
        " ('master', 1),\n",
        " ('too', 43),\n",
        " ('blossoms', 1),\n",
        " ('wildly', 2),\n",
        " ('airy', 1),\n",
        " ('bethought', 1),\n",
        " ('bitter', 3),\n",
        " ('dogs', 1),\n",
        " ('toe', 1),\n",
        " ('chanted', 1),\n",
        " ('tragical', 2),\n",
        " ('murder', 14),\n",
        " ('happily', 2),\n",
        " ('griefs', 1),\n",
        " ('serve', 2),\n",
        " ('took', 5),\n",
        " ('chalice', 1),\n",
        " ('wisdom', 6),\n",
        " ('tokens', 1),\n",
        " ('somewhat', 1),\n",
        " ('innocent', 1),\n",
        " ('shortly', 2),\n",
        " ('tithe', 1),\n",
        " ('peculiar', 1),\n",
        " ('positively', 1),\n",
        " ('begins', 2),\n",
        " ('mercy', 6),\n",
        " ('swaddling', 1),\n",
        " ('gambol', 1),\n",
        " ('target', 1),\n",
        " ('frankly', 1),\n",
        " ('coward', 2),\n",
        " ('tree', 2),\n",
        " ('likely', 1),\n",
        " ('seated', 1),\n",
        " ('nations', 1),\n",
        " ('preparation', 1),\n",
        " ('matter', 21),\n",
        " ('apt', 2),\n",
        " ('precurse', 1),\n",
        " ('guilt', 3),\n",
        " ('friend', 14),\n",
        " ('historical', 3),\n",
        " ('mirth', 2),\n",
        " ('vapours', 1),\n",
        " ('powers', 3),\n",
        " ('foresaid', 1),\n",
        " ('mermaid', 1),\n",
        " ('fashion', 7),\n",
        " ('sees', 1),\n",
        " ('groaning', 1),\n",
        " ('hue', 1),\n",
        " ('mind', 13),\n",
        " ('mine', 24),\n",
        " ('sconce', 1),\n",
        " ('raw', 1),\n",
        " ('rat', 3),\n",
        " ('seed', 1),\n",
        " ('clouts', 1),\n",
        " ('manner', 1),\n",
        " ('affectation', 1),\n",
        " ('seen', 20),\n",
        " ('seem', 12),\n",
        " ('sounding', 1),\n",
        " ('seek', 7),\n",
        " ('tells', 1),\n",
        " ('spade', 1),\n",
        " ('dozen', 2),\n",
        " ('forced', 1),\n",
        " ('forgive', 2),\n",
        " ('scapes', 1),\n",
        " ('wholesome', 7),\n",
        " ('harrows', 1),\n",
        " ('hymen', 1),\n",
        " ('thoroughly', 1),\n",
        " ('snow', 4),\n",
        " ('impotent', 1),\n",
        " ('fitting', 1),\n",
        " ('luxury', 1),\n",
        " ('doors', 3),\n",
        " ('hatch', 2),\n",
        " ('cleft', 1),\n",
        " ('creatures', 3),\n",
        " ('acquire', 1),\n",
        " ('thumb', 1),\n",
        " ('maiden', 1),\n",
        " ('shall', 97),\n",
        " ('advanced', 1),\n",
        " ('mother', 43),\n",
        " ('erweigh', 1),\n",
        " ('toil', 1),\n",
        " ('mouth', 3),\n",
        " ('devoutly', 1),\n",
        " ('letter', 1),\n",
        " ('exercises', 1),\n",
        " ('coted', 1),\n",
        " ('grave', 10),\n",
        " ('peevish', 1),\n",
        " ('potency', 1),\n",
        " ('observation', 1),\n",
        " ('ventages', 1),\n",
        " ('alarm', 2),\n",
        " ('deliberate', 1),\n",
        " ('metal', 1),\n",
        " ('dog', 1),\n",
        " ('breathes', 1),\n",
        " ('yours', 3),\n",
        " ('desirous', 1),\n",
        " ('orderly', 1),\n",
        " ('reputation', 1),\n",
        " ('aunt', 1),\n",
        " ('enterprise', 2),\n",
        " ('ducat', 1),\n",
        " ('oppress', 1),\n",
        " ('came', 6),\n",
        " ('marvel', 1),\n",
        " ('saying', 1),\n",
        " ('bait', 1),\n",
        " ('larded', 1),\n",
        " ('confront', 1),\n",
        " ('rascal', 1),\n",
        " ('queen', 103),\n",
        " ('ending', 1),\n",
        " ('fennel', 1),\n",
        " ('liberty', 5),\n",
        " ('ulcer', 1),\n",
        " ('wrung', 1),\n",
        " ('earth', 15),\n",
        " ('dove', 1),\n",
        " ('departed', 1),\n",
        " ('termagant', 1),\n",
        " ('touches', 1),\n",
        " ('flowers', 3),\n",
        " ('divinity', 1),\n",
        " ('sleeps', 4),\n",
        " ('spite', 1),\n",
        " ('lights', 3),\n",
        " ('undiscover', 1),\n",
        " ('sugar', 1),\n",
        " ('commandment', 2),\n",
        " ('theme', 1),\n",
        " ('rich', 3),\n",
        " ('heartily', 3),\n",
        " ('bread', 1),\n",
        " ('frowningly', 1),\n",
        " ('scripture', 2),\n",
        " ('chamberlain', 1),\n",
        " ('wearing', 1),\n",
        " ('mixture', 1),\n",
        " ('compounded', 1),\n",
        " ('knowest', 1),\n",
        " ('indued', 1),\n",
        " ('stop', 2),\n",
        " ('perceive', 1),\n",
        " ('leisure', 1),\n",
        " ('pocket', 1),\n",
        " ('majesties', 2),\n",
        " ('borrower', 1),\n",
        " ('wedding', 1),\n",
        " ('report', 4),\n",
        " ('nasty', 1),\n",
        " ('relish', 2),\n",
        " ('comply', 1),\n",
        " ('suffers', 2),\n",
        " ('runs', 1),\n",
        " ('bar', 1),\n",
        " ('countries', 1),\n",
        " ('dipping', 1),\n",
        " ('repugnant', 1),\n",
        " ('twice', 4),\n",
        " ('bad', 6),\n",
        " ('softly', 1),\n",
        " ('ban', 1),\n",
        " ('erwhelm', 1),\n",
        " ('steal', 1),\n",
        " ('ears', 9),\n",
        " ('folly', 1),\n",
        " ('unworthy', 2),\n",
        " ('fair', 17),\n",
        " ('habit', 3),\n",
        " ('consummation', 1),\n",
        " ('nut', 1),\n",
        " ('proclaims', 2),\n",
        " ('observed', 1),\n",
        " ('depends', 1),\n",
        " ('damnation', 1),\n",
        " ('fail', 2),\n",
        " ('fain', 4),\n",
        " ('cockle', 1),\n",
        " ('digged', 1),\n",
        " ('best', 10),\n",
        " ('subject', 3),\n",
        " ('voyage', 2),\n",
        " ('said', 15),\n",
        " ('draws', 2),\n",
        " ('away', 21),\n",
        " ('laertes', 66),\n",
        " ('gentleman', 14),\n",
        " ('unsmirched', 1),\n",
        " ('bier', 1),\n",
        " ('hallow', 1),\n",
        " ('pressures', 1),\n",
        " ('imperfections', 1),\n",
        " ('capons', 1),\n",
        " ('finger', 1),\n",
        " ('revels', 1),\n",
        " ('scorn', 1),\n",
        " ('pirate', 1),\n",
        " ('discovery', 1),\n",
        " ('accord', 1),\n",
        " ('never', 21),\n",
        " ('terms', 4),\n",
        " ('wears', 2),\n",
        " ('mincing', 1),\n",
        " ('nature', 24),\n",
        " ('confusion', 1),\n",
        " ('yesternight', 1),\n",
        " ('weak', 2),\n",
        " ('ignorance', 2),\n",
        " ('bellowed', 1),\n",
        " ('weary', 2),\n",
        " ('unhousel', 1),\n",
        " ('wear', 3),\n",
        " ('unfold', 3),\n",
        " ('gentry', 1),\n",
        " ('cousin', 3),\n",
        " ('debt', 1),\n",
        " ('blasted', 2),\n",
        " ('aim', 2),\n",
        " ('pity', 4),\n",
        " ('received', 3),\n",
        " ('essentially', 1),\n",
        " ('accident', 3),\n",
        " ('beck', 1),\n",
        " ('coronation', 1),\n",
        " ('bray', 1),\n",
        " ('conclusions', 1),\n",
        " ('jelly', 1),\n",
        " ('against', 19),\n",
        " ('torrent', 1),\n",
        " ('players', 22),\n",
        " ('tediousness', 1),\n",
        " ('receives', 1),\n",
        " ('faces', 2),\n",
        " ('hypocrites', 1),\n",
        " ('expense', 1),\n",
        " ('groans', 1),\n",
        " ('asked', 1),\n",
        " ('skill', 2),\n",
        " ('poison', 5),\n",
        " ('royal', 2),\n",
        " ('vain', 1),\n",
        " ('height', 1),\n",
        " ('directions', 1),\n",
        " ('springs', 1),\n",
        " ('trust', 2),\n",
        " ('speak', 56),\n",
        " ('conference', 1),\n",
        " ('petty', 2),\n",
        " ('proceeded', 1),\n",
        " ('unhappily', 1),\n",
        " ('puts', 3),\n",
        " ('parley', 1),\n",
        " ('petard', 1),\n",
        " ('patch', 1),\n",
        " ('buffets', 1),\n",
        " ('three', 4),\n",
        " ('been', 22),\n",
        " ('quarrelling', 1),\n",
        " ('twain', 2),\n",
        " ('commission', 2),\n",
        " ('much', 45),\n",
        " ('riotous', 1),\n",
        " ('burthen', 1),\n",
        " ('thrice', 4),\n",
        " ('duties', 1),\n",
        " ('kites', 1),\n",
        " ('natured', 1),\n",
        " ('entreatments', 1),\n",
        " ('rather', 5),\n",
        " ('easy', 2),\n",
        " ('drugs', 1),\n",
        " ('suppress', 2),\n",
        " ('wish', 4),\n",
        " ('craft', 2),\n",
        " ('hoist', 1),\n",
        " ('child', 2),\n",
        " ('catch', 2),\n",
        " ('doth', 25),\n",
        " ('fares', 2),\n",
        " ('gracious', 5),\n",
        " ('ordnance', 1),\n",
        " ('commerce', 1),\n",
        " ('has', 10),\n",
        " ('apprehension', 2),\n",
        " ('air', 13),\n",
        " ('employ', 1),\n",
        " ('ugly', 1),\n",
        " ('near', 7),\n",
        " ('erbears', 1),\n",
        " ('wonted', 2),\n",
        " ('cracked', 1),\n",
        " ('voice', 9),\n",
        " ('leaves', 2),\n",
        " ('skirts', 1),\n",
        " ('levies', 2),\n",
        " ('seven', 1),\n",
        " ('beetles', 1),\n",
        " ('truster', 1),\n",
        " ('defeated', 1),\n",
        " ('shame', 7),\n",
        " ('penetrable', 1),\n",
        " ('exterior', 1),\n",
        " ('levied', 1),\n",
        " ('mouse', 3),\n",
        " ('bounteous', 1),\n",
        " ('grown', 3),\n",
        " ('containing', 1),\n",
        " ('embracing', 1),\n",
        " ('perform', 2),\n",
        " ('things', 9),\n",
        " ('make', 47),\n",
        " ('cellarage', 1),\n",
        " ('rebellion', 1),\n",
        " ('forehead', 2),\n",
        " ('grapple', 2),\n",
        " ('shipwright', 2),\n",
        " ('split', 1),\n",
        " ('liberal', 1),\n",
        " ('grows', 5),\n",
        " ('bells', 1),\n",
        " ('wheel', 3),\n",
        " ('jocund', 1),\n",
        " ('fust', 1),\n",
        " ('temperately', 1),\n",
        " ('hang', 4),\n",
        " ('rain', 2),\n",
        " ('hand', 13),\n",
        " ('delight', 3),\n",
        " ('purer', 1),\n",
        " ('portal', 1),\n",
        " ('kin', 2),\n",
        " ('supper', 2),\n",
        " ('thoughts', 16),\n",
        " ('kept', 3),\n",
        " ('thy', 68),\n",
        " ('tweaks', 1),\n",
        " ('performance', 1),\n",
        " ('changes', 1),\n",
        " ('humble', 1),\n",
        " ('neptune', 2),\n",
        " ('taint', 1),\n",
        " ('ocean', 1),\n",
        " ('potently', 1),\n",
        " ('charity', 1),\n",
        " ('rome', 2),\n",
        " ('incapable', 1),\n",
        " ('humbly', 4),\n",
        " ('hearts', 2),\n",
        " ('the', 930),\n",
        " ('cure', 1),\n",
        " ('investments', 1),\n",
        " ('left', 2),\n",
        " ('opinions', 1),\n",
        " ('bellow', 1),\n",
        " ('givers', 1),\n",
        " ('capitol', 1),\n",
        " ('quoted', 1),\n",
        " ('diameter', 1),\n",
        " ('yea', 4),\n",
        " ('gods', 3),\n",
        " ('swearing', 2),\n",
        " ('repose', 1),\n",
        " ('proposer', 1),\n",
        " ('thanks', 9),\n",
        " ('followed', 1),\n",
        " ('yes', 5),\n",
        " ('yet', 32),\n",
        " ('secure', 2),\n",
        " ('basket', 2),\n",
        " ('enters', 1),\n",
        " ('baptista', 1),\n",
        " ('ease', 3),\n",
        " ('character', 2),\n",
        " ('advancement', 2),\n",
        " ('wretch', 3),\n",
        " ('board', 1),\n",
        " ('beloved', 1),\n",
        " ('prison', 6),\n",
        " ('hap', 1),\n",
        " ('hillo', 2),\n",
        " ('pitiful', 1),\n",
        " ('east', 1),\n",
        " ('hat', 2),\n",
        " ('humanity', 1),\n",
        " ('gave', 7),\n",
        " ('desire', 7),\n",
        " ('vii', 1),\n",
        " ('sty', 1),\n",
        " ('sailors', 4),\n",
        " ('bands', 1),\n",
        " ('breaks', 2),\n",
        " ('combination', 1),\n",
        " ('possible', 2),\n",
        " ('caps', 1),\n",
        " ('auspicious', 1),\n",
        " ('birth', 4),\n",
        " ('impasted', 1),\n",
        " ('judge', 3),\n",
        " ('dreamt', 1),\n",
        " ('shadow', 4),\n",
        " ('burns', 2),\n",
        " ('burnt', 1),\n",
        " ('scruple', 1),\n",
        " ('dreams', 4),\n",
        " ('apart', 2),\n",
        " ('shoulder', 3),\n",
        " ('dignity', 2),\n",
        " ('frenchman', 1),\n",
        " ('shocks', 1),\n",
        " ('applaud', 1),\n",
        " ('lapsed', 1),\n",
        " ('prating', 1),\n",
        " ('steps', 1),\n",
        " ('night', 45),\n",
        " ('antique', 1),\n",
        " ('right', 9),\n",
        " ('old', 19),\n",
        " ('deal', 1),\n",
        " ('inky', 1),\n",
        " ('sends', 3),\n",
        " ('flatter', 2),\n",
        " ('crown', 5),\n",
        " ('erdoing', 1),\n",
        " ('dead', 22),\n",
        " ('sponge', 3),\n",
        " ('revel', 1),\n",
        " ('adieu', 6),\n",
        " ('election', 1),\n",
        " ('escape', 2),\n",
        " ('dear', 27),\n",
        " ('bore', 4),\n",
        " ('unvalued', 1),\n",
        " ('creep', 1),\n",
        " ('enemies', 2),\n",
        " ('ungracious', 1),\n",
        " ('chorus', 1),\n",
        " ('perchance', 5),\n",
        " ('for', 215),\n",
        " ('richer', 1),\n",
        " ('companions', 1),\n",
        " ('fox', 1),\n",
        " ('headshake', 1),\n",
        " ('ice', 2),\n",
        " ('foe', 2),\n",
        " ('asking', 2),\n",
        " ('honoured', 1),\n",
        " ('denied', 1),\n",
        " ('beating', 3),\n",
        " ('foh', 1),\n",
        " ('incontinency', 1),\n",
        " ('exeunt', 34),\n",
        " ('chariest', 1),\n",
        " ('bold', 2),\n",
        " ('discord', 1),\n",
        " ('unwholesome', 1),\n",
        " ('prologue', 5),\n",
        " ('ply', 1),\n",
        " ('passeth', 1),\n",
        " ('sift', 1),\n",
        " ('voltimand', 9),\n",
        " ('encompassment', 1),\n",
        " ('posy', 1),\n",
        " ('post', 3),\n",
        " ('blackest', 1),\n",
        " ('proceed', 1),\n",
        " ('trophy', 1),\n",
        " ('foolish', 3),\n",
        " ('conceal', 1),\n",
        " ('plum', 1),\n",
        " ('months', 4),\n",
        " ('accepts', 1),\n",
        " ('flourishes', 1),\n",
        " ('speedier', 1),\n",
        " ('eyases', 1),\n",
        " ('afternoon', 1),\n",
        " ('slightly', 2),\n",
        " ('marshal', 1),\n",
        " ('nerve', 1),\n",
        " ('raised', 1),\n",
        " ('soe', 1),\n",
        " ('presence', 2),\n",
        " ('pays', 1),\n",
        " ('profession', 1),\n",
        " ('bound', 5),\n",
        " ('son', 20),\n",
        " ('down', 29),\n",
        " ('lies', 6),\n",
        " ('knee', 1),\n",
        " ('herods', 1),\n",
        " ('awe', 1),\n",
        " ('despised', 1),\n",
        " ('gis', 1),\n",
        " ('waits', 1),\n",
        " ('wag', 1),\n",
        " ('altitude', 1),\n",
        " ('constantly', 1),\n",
        " ('jealousy', 2),\n",
        " ('vision', 1),\n",
        " ('tame', 3),\n",
        " ('stuck', 1),\n",
        " ('fought', 1),\n",
        " ('gib', 1),\n",
        " ('way', 10),\n",
        " ('greatness', 1),\n",
        " ('music', 7),\n",
        " ('was', 64),\n",
        " ('trappings', 1),\n",
        " ('ubique', 1),\n",
        " ('questionable', 1),\n",
        " ('wittenberg', 4),\n",
        " ('head', 18),\n",
        " ('form', 12),\n",
        " ('offer', 3),\n",
        " ('visitation', 3),\n",
        " ('converse', 1),\n",
        " ('priam', 5),\n",
        " ('unmanly', 1),\n",
        " ('fore', 1),\n",
        " ('twould', 1),\n",
        " ('heat', 4),\n",
        " ('powerfully', 1),\n",
        " ('uncle', 11),\n",
        " ('surrender', 1),\n",
        " ('true', 23),\n",
        " ('climatures', 1),\n",
        " ('pajock', 1),\n",
        " ('mouthed', 1),\n",
        " ('admiration', 3),\n",
        " ('dowry', 1),\n",
        " ('builds', 2),\n",
        " ('crows', 1),\n",
        " ('extremity', 2),\n",
        " ('plurisy', 1),\n",
        " ('strongest', 1),\n",
        " ('devices', 1),\n",
        " ('hautboys', 1),\n",
        " ('retire', 1),\n",
        " ('twixt', 2),\n",
        " ('lays', 1),\n",
        " ('mighty', 1),\n",
        " ('stages', 1),\n",
        " ('seneca', 1),\n",
        " ('proved', 2),\n",
        " ('hams', 1),\n",
        " ('stronger', 4),\n",
        " ('abstract', 1),\n",
        " ('lingers', 1),\n",
        " ('unfledged', 1),\n",
        " ('drive', 2),\n",
        " ('unweeded', 1),\n",
        " ('sometime', 2),\n",
        " ('promised', 2),\n",
        " ('prayer', 2),\n",
        " ('awhile', 7),\n",
        " ('mole', 2),\n",
        " ('willingly', 2),\n",
        " ('holla', 1),\n",
        " ('outstretched', 1),\n",
        " ('faithful', 2),\n",
        " ('agreeing', 1),\n",
        " ('perpend', 1),\n",
        " ('stake', 1),\n",
        " ('when', 48),\n",
        " ('whereat', 1),\n",
        " ('crowns', 1),\n",
        " ('tis', 63),\n",
        " ('flood', 1),\n",
        " ('falsely', 1),\n",
        " ('holding', 1),\n",
        " ('trophies', 1),\n",
        " ('vanquisher', 1),\n",
        " ('unwilling', 1),\n",
        " ('shipwrights', 1),\n",
        " ('superfluous', 1),\n",
        " ('tardy', 2),\n",
        " ('eternity', 1),\n",
        " ('picture', 2),\n",
        " ('incestuous', 3),\n",
        " ('intend', 1),\n",
        " ('brothers', 1),\n",
        " ('lamond', 1),\n",
        " ('pronounced', 2),\n",
        " ('wing', 1),\n",
        " ('dies', 4),\n",
        " ('preceding', 1),\n",
        " ('welcome', 16),\n",
        " ('palmy', 1),\n",
        " ('diet', 2),\n",
        " ('musty', 1),\n",
        " ('fell', 7),\n",
        " ...]"
       ]
      }
     ],
     "prompt_number": 20
    },
    {
     "cell_type": "code",
     "collapsed": false,
     "input": [
      "sorted_items = sorted(d.items(), key=lambda x: x[1], reverse=True)\n",
      "\n",
      "tmp = map(print, sorted_items[:5])\n",
      "print(sorted_items[:5])"
     ],
     "language": "python",
     "metadata": {},
     "outputs": [
      {
       "output_type": "stream",
       "stream": "stdout",
       "text": [
        "('the', 930)\n",
        "('and', 843)\n",
        "('you', 496)\n",
        "('hamlet', 368)\n",
        "('that', 346)\n",
        "[('the', 930), ('and', 843), ('you', 496), ('hamlet', 368), ('that', 346)]\n"
       ]
      }
     ],
     "prompt_number": 22
    },
    {
     "cell_type": "markdown",
     "metadata": {},
     "source": [
      "- lambdas\n",
      "- map"
     ]
    },
    {
     "cell_type": "heading",
     "level": 2,
     "metadata": {
      "slideshow": {
       "slide_type": "slide"
      }
     },
     "source": [
      "Wrangling"
     ]
    },
    {
     "cell_type": "code",
     "collapsed": false,
     "input": [
      "values = map(lambda x: x[1], sorted_items[:20])\n",
      "labels = map(lambda x: x[0], sorted_items[:20])"
     ],
     "language": "python",
     "metadata": {},
     "outputs": [],
     "prompt_number": 23
    },
    {
     "cell_type": "code",
     "collapsed": false,
     "input": [
      "_ = print(values), print(labels)"
     ],
     "language": "python",
     "metadata": {},
     "outputs": [
      {
       "output_type": "stream",
       "stream": "stdout",
       "text": [
        "[930, 843, 496, 368, 346, 278, 262, 238, 238, 232, 232, 215, 211, 186, 171, 160, 149, 134, 124, 112]\n",
        "['the', 'and', 'you', 'hamlet', 'that', 'lord', 'not', 'his', 'this', 'with', 'but', 'for', 'your', 'what', 'king', 'him', 'have', 'will', 'polonius', 'horatio']\n"
       ]
      }
     ],
     "prompt_number": 24
    },
    {
     "cell_type": "heading",
     "level": 3,
     "metadata": {},
     "source": [
      "List Comprehension"
     ]
    },
    {
     "cell_type": "code",
     "collapsed": false,
     "input": [
      "values = [ x[1] for x in sorted_items[:20] ]\n",
      "labels = [ x[0] for x in sorted_items[:20] ]"
     ],
     "language": "python",
     "metadata": {},
     "outputs": [],
     "prompt_number": 25
    },
    {
     "cell_type": "markdown",
     "metadata": {},
     "source": [
      "- another favorite: list comprehension!\n",
      "- selection"
     ]
    },
    {
     "cell_type": "heading",
     "level": 3,
     "metadata": {
      "slideshow": {
       "slide_type": "slide"
      }
     },
     "source": [
      "Visualize"
     ]
    },
    {
     "cell_type": "code",
     "collapsed": false,
     "input": [
      "%matplotlib inline\n",
      "import matplotlib.pyplot as plt\n",
      "import utils\n",
      "reload(utils)"
     ],
     "language": "python",
     "metadata": {},
     "outputs": [
      {
       "metadata": {},
       "output_type": "pyout",
       "prompt_number": 26,
       "text": [
        "<module 'utils' from 'utils.pyc'>"
       ]
      }
     ],
     "prompt_number": 26
    },
    {
     "cell_type": "code",
     "collapsed": false,
     "input": [
      "plt.barh(range(len(values)), values, color='grey')\n",
      "plt.yticks(range(len(values)), labels)\n",
      "plt.show()"
     ],
     "language": "python",
     "metadata": {},
     "outputs": [
      {
       "metadata": {},
       "output_type": "display_data",
       "png": "[encoded data removed]",
       "text": [
        "<matplotlib.figure.Figure at 0x1079135d0>"
       ]
      }
     ],
     "prompt_number": 27
    },
    {
     "cell_type": "heading",
     "level": 2,
     "metadata": {
      "slideshow": {
       "slide_type": "slide"
      }
     },
     "source": [
      "Process"
     ]
    },
    {
     "cell_type": "markdown",
     "metadata": {},
     "source": [
      "- Raw data (maybe BIG)\n",
      "- Processing (*wrangling*)\n",
      "- Exporatory Data Analysis\n",
      "- Analysis\n",
      "- Visualization\n",
      "- Web app?"
     ]
    },
    {
     "cell_type": "markdown",
     "metadata": {},
     "source": [
      "**Methods**: R, Python, Matlab, IDL, Excel,..."
     ]
    },
    {
     "cell_type": "markdown",
     "metadata": {},
     "source": [
      "**Python**: \n",
      "+ notebook, numpy, matplotlib, pandas, scikit-learn, \n",
      "+ pyspark, ipython parallel"
     ]
    }
   ],
   "metadata": {}
  }
 ]
}