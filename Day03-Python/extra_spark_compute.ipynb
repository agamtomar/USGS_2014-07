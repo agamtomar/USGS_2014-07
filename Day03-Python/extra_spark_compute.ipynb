{
 "metadata": {
  "name": "",
  "signature": "sha256:017b442dc77c6d9c477324579fc6a45a9b29c2753e5aa68d68da58333b543707"
 },
 "nbformat": 3,
 "nbformat_minor": 0,
 "worksheets": [
  {
   "cells": [
    {
     "cell_type": "markdown",
     "metadata": {},
     "source": [
      "<img src='https://www.rc.colorado.edu/sites/all/themes/research/logo.png' style=\"height:75px\">"
     ]
    },
    {
     "cell_type": "heading",
     "level": 1,
     "metadata": {},
     "source": [
      "Send the Computation to the Data"
     ]
    },
    {
     "cell_type": "markdown",
     "metadata": {},
     "source": [
      "Create some work to do."
     ]
    },
    {
     "cell_type": "code",
     "collapsed": false,
     "input": [
      "import time\n",
      "import os\n",
      "\n",
      "def work(x):\n",
      "    start_time = time.time()\n",
      "    time.sleep(x)\n",
      "    end_time =  time.time()\n",
      "    return {'id': os.getpid(), 'start': start_time, 'end_time': end_time}   "
     ],
     "language": "python",
     "metadata": {},
     "outputs": [],
     "prompt_number": 1
    },
    {
     "cell_type": "markdown",
     "metadata": {},
     "source": [
      "Create a a `list` of work times"
     ]
    },
    {
     "cell_type": "code",
     "collapsed": false,
     "input": [
      "import numpy as np\n",
      "\n",
      "np.random.seed(1045)\n",
      "job_times = np.random.uniform(0.4, 0.6, 240)"
     ],
     "language": "python",
     "metadata": {},
     "outputs": [],
     "prompt_number": 2
    },
    {
     "cell_type": "markdown",
     "metadata": {},
     "source": [
      "How long should it take?"
     ]
    },
    {
     "cell_type": "code",
     "collapsed": false,
     "input": [
      "print 'Estimated serial time = {0:0.2f}'.format(job_times.sum())\n",
      "print 'Amdahls parallel time = {0:0.2f}'.format(job_times.sum()/12.)"
     ],
     "language": "python",
     "metadata": {},
     "outputs": [
      {
       "output_type": "stream",
       "stream": "stdout",
       "text": [
        "Estimated serial time = 119.80\n",
        "Amdahls parallel time = 9.98\n"
       ]
      }
     ],
     "prompt_number": 3
    },
    {
     "cell_type": "markdown",
     "metadata": {},
     "source": [
      "Helper plot function."
     ]
    },
    {
     "cell_type": "code",
     "collapsed": false,
     "input": [
      "%matplotlib inline\n",
      "import matplotlib.pyplot as plt\n",
      "import pandas as pd\n",
      "import utils\n",
      "reload(utils)\n",
      "\n",
      "def plot_workflow(results):\n",
      "    res = pd.DataFrame(results)\n",
      "    ids = list(set(res['id']))\n",
      "    id_dic = dict( [k,v+0.65] for k,v in zip(ids, range(len(ids))))\n",
      "    fig, ax = plt.subplots(figsize=(8, 6))\n",
      "\n",
      "    tmin = res['start'].min()    \n",
      "    for i in res.index:\n",
      "        x_start = res.ix[i]['start'] - tmin\n",
      "        x_end = res.ix[i]['end_time'] - tmin - x_start\n",
      "        x_id = id_dic[res.ix[i]['id']]\n",
      "        ax.add_patch(plt.Rectangle((x_start, x_id), \n",
      "                                   x_end, 0.8, \n",
      "                                   alpha=0.5, \n",
      "                                   color='grey'))\n",
      "    \n",
      "    ax.set_ylim(0.5, len(ids)+0.5)\n",
      "    ax.set_xlim(0, res['end_time'].max() - tmin)\n",
      "    ax.set_ylabel(\"Worker\")\n",
      "    ax.set_xlabel(\"seconds\")"
     ],
     "language": "python",
     "metadata": {},
     "outputs": [],
     "prompt_number": 4
    },
    {
     "cell_type": "heading",
     "level": 2,
     "metadata": {},
     "source": [
      "Run in parallel with `spark`"
     ]
    },
    {
     "cell_type": "code",
     "collapsed": false,
     "input": [
      "from pyspark import  SparkContext\n",
      "sc = SparkContext( 'local[4]', 'pyspark')"
     ],
     "language": "python",
     "metadata": {},
     "outputs": [],
     "prompt_number": 5
    },
    {
     "cell_type": "code",
     "collapsed": false,
     "input": [
      "jobs = sc.parallelize(job_times)\n",
      "jobs"
     ],
     "language": "python",
     "metadata": {},
     "outputs": [
      {
       "metadata": {},
       "output_type": "pyout",
       "prompt_number": 7,
       "text": [
        "ParallelCollectionRDD[1] at parallelize at PythonRDD.scala:286"
       ]
      }
     ],
     "prompt_number": 7
    },
    {
     "cell_type": "code",
     "collapsed": false,
     "input": [
      "print jobs.count()\n",
      "results = jobs.map(work)\n",
      "%time res = results.collect()"
     ],
     "language": "python",
     "metadata": {},
     "outputs": [
      {
       "output_type": "stream",
       "stream": "stdout",
       "text": [
        "240\n",
        "CPU times: user 11.1 ms, sys: 4.89 ms, total: 16 ms"
       ]
      },
      {
       "output_type": "stream",
       "stream": "stdout",
       "text": [
        "\n",
        "Wall time: 30.7 s\n"
       ]
      }
     ],
     "prompt_number": 8
    },
    {
     "cell_type": "code",
     "collapsed": false,
     "input": [
      "plot_workflow(res)"
     ],
     "language": "python",
     "metadata": {},
     "outputs": [
      {
       "metadata": {},
       "output_type": "display_data",
       "png": "[encoded data removed]",
       "text": [
        "<matplotlib.figure.Figure at 0x1054f56d0>"
       ]
      }
     ],
     "prompt_number": 9
    },
    {
     "cell_type": "code",
     "collapsed": false,
     "input": [],
     "language": "python",
     "metadata": {},
     "outputs": []
    }
   ],
   "metadata": {}
  }
 ]
}