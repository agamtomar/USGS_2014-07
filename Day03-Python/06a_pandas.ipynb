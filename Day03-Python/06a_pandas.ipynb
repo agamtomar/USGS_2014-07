{
 "metadata": {
  "name": "",
  "signature": "sha256:9e542c76e4c73be586c949d8ab818d640432fba1bc34c9387c045341698eb87a"
 },
 "nbformat": 3,
 "nbformat_minor": 0,
 "worksheets": [
  {
   "cells": [
    {
     "cell_type": "markdown",
     "metadata": {},
     "source": [
      "<img src='https://www.rc.colorado.edu/sites/all/themes/research/logo.png' style=\"height:75px\">"
     ]
    },
    {
     "cell_type": "heading",
     "level": 1,
     "metadata": {},
     "source": [
      "Pandas"
     ]
    },
    {
     "cell_type": "markdown",
     "metadata": {},
     "source": [
      "Manipulating tabular data"
     ]
    },
    {
     "cell_type": "markdown",
     "metadata": {
      "slideshow": {
       "slide_type": "slide"
      }
     },
     "source": [
      "## `pandas`\n",
      "\n",
      "- Provides python a `DataFrame`\n",
      "- Structured manipulation tools\n",
      "- Built on top of `numpy`\n",
      "- Huge growth from 2011-2012\n",
      "- Very **efficient**\n",
      "- Great for *medium* data\n",
      "\n",
      "Resources\n",
      "\n",
      "- [pandas.pydata.org](http://pandas.pydata.org/)\n",
      "- [Python for Data Analysis](http://www.amazon.com/Python-Data-Analysis-Wrangling-IPython/dp/1449319793) by Wes McKinney\n",
      "- [Data Wrangling Kung Fu with Pandas](vimeo.com/63295598) by Wes McKinney\n",
      "- [Cheat sheet](https://s3.amazonaws.com/quandl-static-content/Documents/Quandl+-+Pandas,+SciPy,+NumPy+Cheat+Sheet.pdf) by Quandl"
     ]
    },
    {
     "cell_type": "markdown",
     "metadata": {
      "slideshow": {
       "slide_type": "slide"
      }
     },
     "source": [
      "### Why `pandas`?\n",
      "\n",
      "> 80% of the effort in data analysis is spent cleaning data. [Hadley Wickham](http://vita.had.co.nz/papers/tidy-data.pdf)\n",
      "\n",
      "Efficency\n",
      "\n",
      "- Different views of data\n",
      "- [Tidy data](http://vita.had.co.nz/papers/tidy-data.pdf) by Hadley Wickham\n",
      "\n",
      "Raw data is often in the wrong format\n",
      "\n",
      "- How often to you download an array ready for array-oriented computing?\n",
      "- e.g. `scikit-learn` interface\n",
      "\n",
      "Storage may be best in a different format\n",
      "\n",
      "- Sparse representations\n",
      "- Upload to database\n",
      "\n"
     ]
    },
    {
     "cell_type": "markdown",
     "metadata": {
      "slideshow": {
       "slide_type": "slide"
      }
     },
     "source": [
      "## Outline\n",
      "\n",
      "**Simple example**\n",
      "\n",
      "- Reshaping: `pd.pivot` and `pd.melt`\n",
      "- Many basic operations: add, remove, indexing\n",
      "- Missing values\n",
      "\n",
      "**Movies**\n",
      "\n",
      "- Joining\n",
      "- Groupby\n",
      "- Sorting\n"
     ]
    },
    {
     "cell_type": "markdown",
     "metadata": {
      "slideshow": {
       "slide_type": "slide"
      }
     },
     "source": [
      "### Simple example\n",
      "\n",
      "Based on [Data Wrangling Kung Fu with Pandas](vimeo.com/63295598) by Wes McKinney"
     ]
    },
    {
     "cell_type": "code",
     "collapsed": false,
     "input": [
      "import os\n",
      "import pandas as  pd\n",
      "import numpy as np"
     ],
     "language": "python",
     "metadata": {},
     "outputs": []
    },
    {
     "cell_type": "markdown",
     "metadata": {},
     "source": [
      "**Setup only**: Write some data for reading"
     ]
    },
    {
     "cell_type": "code",
     "collapsed": false,
     "input": [
      "dates = ['2014-02-16', '2014-02-17', '2014-02-18', '2014-02-19']\n",
      "algs = ['Model-A','Model-B','Model-C']\n",
      "\n",
      "filename = os.path.join('data','example.csv')\n",
      "\n",
      "with open(filename,'w') as outfile:\n",
      "    outfile.write('date,type,value\\n')\n",
      "    for d in dates:\n",
      "        for a in algs:\n",
      "            v = np.random.randint(10, size=1)[0]\n",
      "            tmp = '{0},{1},{2}\\n'.format(d,a,v)\n",
      "            outfile.write(tmp)"
     ],
     "language": "python",
     "metadata": {},
     "outputs": []
    },
    {
     "cell_type": "code",
     "collapsed": false,
     "input": [
      "with open(filename, 'r') as infile:\n",
      "    print infile.read()"
     ],
     "language": "python",
     "metadata": {},
     "outputs": []
    },
    {
     "cell_type": "markdown",
     "metadata": {},
     "source": [
      "### Creating a `DataFrame`"
     ]
    },
    {
     "cell_type": "code",
     "collapsed": false,
     "input": [
      "df = pd.read_csv(filename)\n",
      "print df"
     ],
     "language": "python",
     "metadata": {},
     "outputs": []
    },
    {
     "cell_type": "markdown",
     "metadata": {},
     "source": [
      "**Why store it this way?**\n",
      "\n",
      "- Different type\n",
      "- Different metric"
     ]
    },
    {
     "cell_type": "markdown",
     "metadata": {},
     "source": [
      "### Reshape with `pivot`\n",
      "\n",
      "- Question: What is the average value for each date?\n",
      "- How many observations do I have for each model?"
     ]
    },
    {
     "cell_type": "code",
     "collapsed": false,
     "input": [
      "results = df.pivot('date', 'type', 'value') #row, column, values (optional)\n",
      "print results"
     ],
     "language": "python",
     "metadata": {},
     "outputs": []
    },
    {
     "cell_type": "code",
     "collapsed": false,
     "input": [
      "results.columns"
     ],
     "language": "python",
     "metadata": {},
     "outputs": []
    },
    {
     "cell_type": "code",
     "collapsed": false,
     "input": [
      "results.index"
     ],
     "language": "python",
     "metadata": {},
     "outputs": []
    },
    {
     "cell_type": "markdown",
     "metadata": {},
     "source": [
      "###Columns access"
     ]
    },
    {
     "cell_type": "code",
     "collapsed": false,
     "input": [
      "results['Model-A']"
     ],
     "language": "python",
     "metadata": {},
     "outputs": []
    },
    {
     "cell_type": "code",
     "collapsed": false,
     "input": [
      "results['Model-A'].values"
     ],
     "language": "python",
     "metadata": {},
     "outputs": []
    },
    {
     "cell_type": "markdown",
     "metadata": {},
     "source": [
      "###Row access"
     ]
    },
    {
     "cell_type": "code",
     "collapsed": false,
     "input": [
      "results.ix[0]"
     ],
     "language": "python",
     "metadata": {},
     "outputs": []
    },
    {
     "cell_type": "code",
     "collapsed": false,
     "input": [
      "results.ix['2014-02-16']"
     ],
     "language": "python",
     "metadata": {},
     "outputs": []
    },
    {
     "cell_type": "markdown",
     "metadata": {},
     "source": [
      "###Range access"
     ]
    },
    {
     "cell_type": "code",
     "collapsed": false,
     "input": [
      "print results.ix[2:4,1:]"
     ],
     "language": "python",
     "metadata": {},
     "outputs": []
    },
    {
     "cell_type": "markdown",
     "metadata": {},
     "source": [
      "### Summarize rows and columns\n",
      "\n",
      "Question: What is the average value for each date?"
     ]
    },
    {
     "cell_type": "code",
     "collapsed": false,
     "input": [
      "results.mean(axis=1)"
     ],
     "language": "python",
     "metadata": {},
     "outputs": []
    },
    {
     "cell_type": "markdown",
     "metadata": {},
     "source": [
      "How many observations do I have for each model?"
     ]
    },
    {
     "cell_type": "code",
     "collapsed": false,
     "input": [
      "results.count(axis=0)"
     ],
     "language": "python",
     "metadata": {},
     "outputs": []
    },
    {
     "cell_type": "markdown",
     "metadata": {},
     "source": [
      "### Add some data with `pd.concat`"
     ]
    },
    {
     "cell_type": "code",
     "collapsed": false,
     "input": [
      "df = pd.read_csv(filename)\n",
      "tmp = {'date': ['2014-02-16','2014-02-18'],\n",
      "       'type': ['Model-D', 'Model-D'],\n",
      "       'value': [11, 7]}\n",
      "\n",
      "pd.DataFrame(tmp)"
     ],
     "language": "python",
     "metadata": {},
     "outputs": []
    },
    {
     "cell_type": "code",
     "collapsed": false,
     "input": [
      "df = pd.concat([df,pd.DataFrame(tmp)], ignore_index=True)\n",
      "df.shape"
     ],
     "language": "python",
     "metadata": {},
     "outputs": []
    },
    {
     "cell_type": "markdown",
     "metadata": {},
     "source": [
      "### Delete a row"
     ]
    },
    {
     "cell_type": "code",
     "collapsed": false,
     "input": [
      "df.drop(2, axis=0).head()"
     ],
     "language": "python",
     "metadata": {},
     "outputs": []
    },
    {
     "cell_type": "code",
     "collapsed": false,
     "input": [
      "df.drop('type', axis=1).head()"
     ],
     "language": "python",
     "metadata": {},
     "outputs": []
    },
    {
     "cell_type": "markdown",
     "metadata": {},
     "source": [
      "### Let's `reshape` again..."
     ]
    },
    {
     "cell_type": "code",
     "collapsed": false,
     "input": [
      "results = df.pivot('date','type', 'value')\n",
      "print results"
     ],
     "language": "python",
     "metadata": {},
     "outputs": []
    },
    {
     "cell_type": "code",
     "collapsed": false,
     "input": [
      "results.mean(axis=1)"
     ],
     "language": "python",
     "metadata": {},
     "outputs": []
    },
    {
     "cell_type": "code",
     "collapsed": false,
     "input": [
      "results.count(axis=0)"
     ],
     "language": "python",
     "metadata": {},
     "outputs": []
    },
    {
     "cell_type": "code",
     "collapsed": false,
     "input": [
      "results.count(axis=1)"
     ],
     "language": "python",
     "metadata": {},
     "outputs": []
    },
    {
     "cell_type": "markdown",
     "metadata": {},
     "source": [
      "###Missing vales: `isnull()` and `fillna()`"
     ]
    },
    {
     "cell_type": "code",
     "collapsed": false,
     "input": [
      "print results.isnull()"
     ],
     "language": "python",
     "metadata": {},
     "outputs": []
    },
    {
     "cell_type": "code",
     "collapsed": false,
     "input": [
      "print results.fillna(0)"
     ],
     "language": "python",
     "metadata": {},
     "outputs": []
    },
    {
     "cell_type": "code",
     "collapsed": false,
     "input": [
      "print results"
     ],
     "language": "python",
     "metadata": {},
     "outputs": []
    },
    {
     "cell_type": "code",
     "collapsed": false,
     "input": [
      "tmp = results.copy()"
     ],
     "language": "python",
     "metadata": {},
     "outputs": []
    },
    {
     "cell_type": "code",
     "collapsed": false,
     "input": [
      "tmp.fillna(0, inplace=True)\n",
      "print tmp"
     ],
     "language": "python",
     "metadata": {},
     "outputs": []
    },
    {
     "cell_type": "markdown",
     "metadata": {},
     "source": [
      "### `reset_index`"
     ]
    },
    {
     "cell_type": "code",
     "collapsed": false,
     "input": [
      "tmp.reset_index(inplace=True)\n",
      "tmp.columns"
     ],
     "language": "python",
     "metadata": {},
     "outputs": []
    },
    {
     "cell_type": "code",
     "collapsed": false,
     "input": [
      "print tmp"
     ],
     "language": "python",
     "metadata": {},
     "outputs": []
    },
    {
     "cell_type": "markdown",
     "metadata": {},
     "source": [
      "### Convert to a `numpy` array"
     ]
    },
    {
     "cell_type": "code",
     "collapsed": false,
     "input": [
      "print tmp.set_index('date')"
     ],
     "language": "python",
     "metadata": {},
     "outputs": []
    },
    {
     "cell_type": "code",
     "collapsed": false,
     "input": [
      "X = tmp.set_index('date').as_matrix()\n",
      "X"
     ],
     "language": "python",
     "metadata": {},
     "outputs": []
    },
    {
     "cell_type": "markdown",
     "metadata": {},
     "source": [
      "### Reshape with `melt`"
     ]
    },
    {
     "cell_type": "code",
     "collapsed": false,
     "input": [
      "results = df.pivot('date','type', 'value')\n",
      "print results"
     ],
     "language": "python",
     "metadata": {},
     "outputs": []
    },
    {
     "cell_type": "code",
     "collapsed": false,
     "input": [
      "results.reset_index(inplace=True)\n",
      "print results"
     ],
     "language": "python",
     "metadata": {},
     "outputs": []
    },
    {
     "cell_type": "code",
     "collapsed": false,
     "input": [
      "back = pd.melt(results, id_vars=['date'])\n",
      "print back"
     ],
     "language": "python",
     "metadata": {},
     "outputs": []
    },
    {
     "cell_type": "markdown",
     "metadata": {},
     "source": [
      "### `dropna()`"
     ]
    },
    {
     "cell_type": "code",
     "collapsed": false,
     "input": [
      "back.dropna(axis=0)"
     ],
     "language": "python",
     "metadata": {},
     "outputs": []
    },
    {
     "cell_type": "code",
     "collapsed": false,
     "input": [
      "back.dropna(axis=1).head()"
     ],
     "language": "python",
     "metadata": {},
     "outputs": []
    },
    {
     "cell_type": "markdown",
     "metadata": {},
     "source": [
      "### Write to file `to_csv`"
     ]
    },
    {
     "cell_type": "code",
     "collapsed": false,
     "input": [
      "back.dropna(axis=0, inplace=True)"
     ],
     "language": "python",
     "metadata": {},
     "outputs": []
    },
    {
     "cell_type": "code",
     "collapsed": false,
     "input": [
      "back.to_csv('back.csv', index=False)"
     ],
     "language": "python",
     "metadata": {},
     "outputs": []
    },
    {
     "cell_type": "code",
     "collapsed": false,
     "input": [
      "print open('back.csv').read()"
     ],
     "language": "python",
     "metadata": {},
     "outputs": []
    },
    {
     "cell_type": "code",
     "collapsed": false,
     "input": [],
     "language": "python",
     "metadata": {},
     "outputs": []
    }
   ],
   "metadata": {}
  }
 ]
}