{
 "metadata": {
  "name": "",
  "signature": "sha256:4ca4646c92cde01826d47234dd3feb30c2f6cc3a9ce6b7e162ca9825a3de5749"
 },
 "nbformat": 3,
 "nbformat_minor": 0,
 "worksheets": [
  {
   "cells": [
    {
     "cell_type": "heading",
     "level": 2,
     "metadata": {},
     "source": [
      "This example demonstrates several ways to submit jobs using slurm commands."
     ]
    },
    {
     "cell_type": "heading",
     "level": 3,
     "metadata": {},
     "source": [
      "Example 1:  "
     ]
    },
    {
     "cell_type": "heading",
     "level": 3,
     "metadata": {},
     "source": [
      "Submit a job requesting 1 node and one processors on each node, with a maximum CPU time of three minutes.  Name your job \"job_test\", run it in the \"development\" queue, and make sure that you run the script test.sh.  Write this in a bash shell script."
     ]
    },
    {
     "cell_type": "code",
     "collapsed": false,
     "input": [
      "#!/bin/bash\n",
      "#SBATCH -N 1                 # Requests one nodes\n",
      "#SBATCH -n 1   # Requests one processors per node (these two lines could be on one)\n",
      "#SBATCH -t 0:03:00           # Requests a maximum CPU time of one hour\n",
      "#SBATCH -J job_test          # Names the job\n",
      "#SBATCH -p development       # Select the development queue\n",
      "\n",
      "sbatch test.sh"
     ],
     "language": "python",
     "metadata": {},
     "outputs": []
    },
    {
     "cell_type": "heading",
     "level": 3,
     "metadata": {},
     "source": [
      "You can also run this from the command line, however, which is what we will do for the purposes of this demonstration."
     ]
    },
    {
     "cell_type": "code",
     "collapsed": false,
     "input": [
      "!sbatch -N 1 -n 1 -t 0:03:00 -J job_test -p development test.sh"
     ],
     "language": "python",
     "metadata": {},
     "outputs": [
      {
       "output_type": "stream",
       "stream": "stdout",
       "text": [
        "-----------------------------------------------------------------\r\n",
        "              Welcome to the Stampede Supercomputer              \r\n",
        "-----------------------------------------------------------------\r\n",
        "\r\n",
        "--> Verifying valid submit host (login1)...OK\r\n",
        "--> Verifying valid jobname...OK\r\n"
       ]
      },
      {
       "output_type": "stream",
       "stream": "stdout",
       "text": [
        "--> Enforcing max jobs per user...OK\r\n",
        "--> Verifying availability of your home dir (/home1/03080/knuths)...OK\r\n",
        "--> Verifying availability of your work dir (/work/03080/knuths)...OK\r\n",
        "--> Verifying availability of your scratch dir (/scratch/03080/knuths)...OK\r\n",
        "--> Verifying valid ssh keys...OK\r\n",
        "--> Verifying access to desired queue (development)...OK\r\n"
       ]
      },
      {
       "output_type": "stream",
       "stream": "stdout",
       "text": [
        "--> Verifying job request is within current queue limits...OK\r\n",
        "--> Checking available allocation "
       ]
      },
      {
       "output_type": "stream",
       "stream": "stdout",
       "text": [
        "(TG-EAR140026)...OK\r\n",
        "Submitted batch job 3787197\r\n"
       ]
      }
     ],
     "prompt_number": 4
    },
    {
     "cell_type": "heading",
     "level": 3,
     "metadata": {},
     "source": [
      "If we do the following command, we can look at the status of our job as it is running/pending, etc."
     ]
    },
    {
     "cell_type": "code",
     "collapsed": false,
     "input": [
      "!squeue -u knuths"
     ],
     "language": "python",
     "metadata": {},
     "outputs": [
      {
       "output_type": "stream",
       "stream": "stdout",
       "text": [
        "             JOBID   PARTITION     NAME     USER ST       TIME  NODES NODELIST(REASON)\r\n",
        "           3787277 development  test.sh   knuths  R       0:06      1 c557-403\r\n"
       ]
      }
     ],
     "prompt_number": 21
    },
    {
     "cell_type": "heading",
     "level": 3,
     "metadata": {},
     "source": [
      "Example 2:"
     ]
    },
    {
     "cell_type": "heading",
     "level": 3,
     "metadata": {},
     "source": [
      "Submit a job called \"test.sh\" requesting one node and one processor, and putting the job output into a file called \"output.out\".  Run the job in the \"development\" queue.  Email me when the job has completed.  Run the job for three minutes."
     ]
    },
    {
     "cell_type": "code",
     "collapsed": false,
     "input": [
      "#!/bin/bash\n",
      "#SBATCH -N 1                               # Requests one node\n",
      "#SBATCH -n 1                               # Requests one processor per node (these two lines could be on one)\n",
      "#SBATCH -output output.out                 # Names the output\n",
      "#SBATCH -p development                     # Select the development queue\n",
      "#SBATCH -mail-user knuths@colorado.edu\n",
      "#SBATCH -mail-type begin                   # email me when the job starts\n",
      "#SBATCH -mail-type end                     # email me when the job finishes\n",
      "#SBATCH -t 0:03:00                         # Requests a maximum CPU time of three minutes\n",
      "\n",
      "\n",
      "sbatch test.sh"
     ],
     "language": "python",
     "metadata": {},
     "outputs": []
    },
    {
     "cell_type": "code",
     "collapsed": false,
     "input": [
      "!sbatch -N 1 -n 1 -output=output.out -p development --mail-user=knuths@colorado.edu --mail-type=begin --mail-type=end -t 0:03:00 test.sh"
     ],
     "language": "python",
     "metadata": {},
     "outputs": [
      {
       "output_type": "stream",
       "stream": "stdout",
       "text": [
        "-----------------------------------------------------------------\r\n",
        "              Welcome to the Stampede Supercomputer              \r\n",
        "-----------------------------------------------------------------\r\n",
        "\r\n",
        "--> Verifying valid submit host (login1)...OK\r\n",
        "--> Verifying valid jobname...OK\r\n"
       ]
      },
      {
       "output_type": "stream",
       "stream": "stdout",
       "text": [
        "--> Enforcing max jobs per user...OK\r\n",
        "--> Verifying availability of your home dir (/home1/03080/knuths)...OK\r\n",
        "--> Verifying availability of your work dir (/work/03080/knuths)...OK\r\n",
        "--> Verifying availability of your scratch dir (/scratch/03080/knuths)...OK\r\n",
        "--> Verifying valid ssh keys...OK\r\n",
        "--> Verifying access to desired queue (development)...OK\r\n"
       ]
      },
      {
       "output_type": "stream",
       "stream": "stdout",
       "text": [
        "--> Verifying job request is within current queue limits...OK\r\n",
        "--> Checking available allocation "
       ]
      },
      {
       "output_type": "stream",
       "stream": "stdout",
       "text": [
        "(TG-EAR140026)...OK\r\n",
        "Submitted batch job 3787277\r\n"
       ]
      }
     ],
     "prompt_number": 20
    },
    {
     "cell_type": "heading",
     "level": 3,
     "metadata": {},
     "source": [
      "Example 3:"
     ]
    },
    {
     "cell_type": "heading",
     "level": 3,
     "metadata": {},
     "source": [
      "Let's try to run the above job again, but this time with a wall time of 1 hour.  And then let's decide that actually, we don't want to run that job at all, and cancel it."
     ]
    },
    {
     "cell_type": "code",
     "collapsed": false,
     "input": [
      "!sbatch -N 1 -n 1 -output=output.out -p development --mail-user=knuths@colorado.edu --mail-type=begin --mail-type=end -t 1:00:00 test.sh"
     ],
     "language": "python",
     "metadata": {},
     "outputs": [
      {
       "output_type": "stream",
       "stream": "stdout",
       "text": [
        "-----------------------------------------------------------------\r\n",
        "              Welcome to the Stampede Supercomputer              \r\n",
        "-----------------------------------------------------------------\r\n",
        "\r\n",
        "--> Verifying valid submit host (login1)...OK\r\n",
        "--> Verifying valid jobname...OK\r\n"
       ]
      },
      {
       "output_type": "stream",
       "stream": "stdout",
       "text": [
        "--> Enforcing max jobs per user...OK\r\n",
        "--> Verifying availability of your home dir (/home1/03080/knuths)...OK\r\n",
        "--> Verifying availability of your work dir (/work/03080/knuths)...OK\r\n",
        "--> Verifying availability of your scratch dir (/scratch/03080/knuths)...OK\r\n",
        "--> Verifying valid ssh keys...OK\r\n",
        "--> Verifying access to desired queue (development)...OK\r\n"
       ]
      },
      {
       "output_type": "stream",
       "stream": "stdout",
       "text": [
        "--> Verifying job request is within current queue limits...OK\r\n",
        "--> Checking available allocation "
       ]
      },
      {
       "output_type": "stream",
       "stream": "stdout",
       "text": [
        "(TG-EAR140026)...OK\r\n"
       ]
      },
      {
       "output_type": "stream",
       "stream": "stdout",
       "text": [
        "Submitted batch job 3787282\r\n"
       ]
      }
     ],
     "prompt_number": 26
    },
    {
     "cell_type": "code",
     "collapsed": false,
     "input": [
      "!squeue -u knuths"
     ],
     "language": "python",
     "metadata": {},
     "outputs": [
      {
       "output_type": "stream",
       "stream": "stdout",
       "text": [
        "             JOBID   PARTITION     NAME     USER ST       TIME  NODES NODELIST(REASON)\r\n"
       ]
      }
     ],
     "prompt_number": 36
    },
    {
     "cell_type": "code",
     "collapsed": false,
     "input": [
      "!scancel 3787282"
     ],
     "language": "python",
     "metadata": {},
     "outputs": [
      {
       "output_type": "stream",
       "stream": "stdout",
       "text": [
        "scancel: error: Kill job error on job id 3787282: Invalid job id specified\r\n"
       ]
      }
     ],
     "prompt_number": 34
    },
    {
     "cell_type": "code",
     "collapsed": false,
     "input": [
      "!squeue -u knuths"
     ],
     "language": "python",
     "metadata": {},
     "outputs": [
      {
       "output_type": "stream",
       "stream": "stdout",
       "text": [
        "             JOBID   PARTITION     NAME     USER ST       TIME  NODES NODELIST(REASON)\r\n"
       ]
      }
     ],
     "prompt_number": 37
    },
    {
     "cell_type": "heading",
     "level": 3,
     "metadata": {},
     "source": [
      "Example 4:  "
     ]
    },
    {
     "cell_type": "heading",
     "level": 3,
     "metadata": {},
     "source": [
      "Run a sample interactive job in the developmentqueue."
     ]
    },
    {
     "cell_type": "code",
     "collapsed": false,
     "input": [
      "!srun --pty -p development -t 00:01:00 -n16 /bin/bash"
     ],
     "language": "python",
     "metadata": {},
     "outputs": [
      {
       "output_type": "stream",
       "stream": "stdout",
       "text": [
        "-----------------------------------------------------------------\r\n",
        "              Welcome to the Stampede Supercomputer              \r\n",
        "-----------------------------------------------------------------\r\n",
        "\r\n",
        "--> Verifying valid submit host (login1)...OK\r\n",
        "--> Verifying valid jobname...OK\r\n"
       ]
      },
      {
       "output_type": "stream",
       "stream": "stdout",
       "text": [
        "--> Enforcing max jobs per user...OK\r\n",
        "--> Verifying availability of your home dir (/home1/03080/knuths)...OK\r\n",
        "--> Verifying availability of your work dir (/work/03080/knuths)...OK\r\n",
        "--> Verifying availability of your scratch dir (/scratch/03080/knuths)...OK\r\n"
       ]
      },
      {
       "output_type": "stream",
       "stream": "stdout",
       "text": [
        "--> Verifying valid ssh keys...OK\r\n",
        "--> Verifying access to desired queue (development)...OK\r\n"
       ]
      },
      {
       "output_type": "stream",
       "stream": "stdout",
       "text": [
        "--> Verifying job request is within current queue limits...OK\r\n",
        "--> Checking available allocation "
       ]
      },
      {
       "output_type": "stream",
       "stream": "stdout",
       "text": [
        "(TG-EAR140026)...OK\r\n"
       ]
      },
      {
       "output_type": "stream",
       "stream": "stdout",
       "text": [
        "\u001b]2;knuths@login1.stampede:~\u0007c557-804$ "
       ]
      }
     ]
    },
    {
     "cell_type": "code",
     "collapsed": false,
     "input": [
      "!squeue -u knuths"
     ],
     "language": "python",
     "metadata": {},
     "outputs": []
    },
    {
     "cell_type": "code",
     "collapsed": false,
     "input": [],
     "language": "python",
     "metadata": {},
     "outputs": []
    }
   ],
   "metadata": {}
  }
 ]
}