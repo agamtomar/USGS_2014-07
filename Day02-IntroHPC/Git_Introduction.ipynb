{
 "metadata": {
  "name": "",
  "signature": "sha256:7e0544372d3f836d8cc9bef58b610ff4046bb511667441e3e55260986ec9034e"
 },
 "nbformat": 3,
 "nbformat_minor": 0,
 "worksheets": [
  {
   "cells": [
    {
     "cell_type": "heading",
     "level": 2,
     "metadata": {},
     "source": [
      "Using Git - An Example"
     ]
    },
    {
     "cell_type": "heading",
     "level": 3,
     "metadata": {},
     "source": [
      "1.  cd into a directory called \"git_test\""
     ]
    },
    {
     "cell_type": "code",
     "collapsed": false,
     "input": [
      "cd /Users/knuths/Documents/Tutorials/notebook_tests/git_test"
     ],
     "language": "python",
     "metadata": {},
     "outputs": [
      {
       "output_type": "stream",
       "stream": "stdout",
       "text": [
        "/Users/knuths/Documents/Tutorials/notebook_tests/git_test\n"
       ]
      }
     ],
     "prompt_number": 137
    },
    {
     "cell_type": "heading",
     "level": 3,
     "metadata": {},
     "source": [
      "2.  Check the git project status"
     ]
    },
    {
     "cell_type": "code",
     "collapsed": false,
     "input": [
      "!git status"
     ],
     "language": "python",
     "metadata": {},
     "outputs": [
      {
       "output_type": "stream",
       "stream": "stdout",
       "text": [
        "fatal: Not a git repository (or any of the parent directories): .git\r\n"
       ]
      }
     ],
     "prompt_number": 138
    },
    {
     "cell_type": "heading",
     "level": 3,
     "metadata": {},
     "source": [
      "We see that we are not in a git repository, or tracking any files in this directory.  Let's change that."
     ]
    },
    {
     "cell_type": "heading",
     "level": 3,
     "metadata": {},
     "source": [
      "3.  Track an existing project"
     ]
    },
    {
     "cell_type": "code",
     "collapsed": false,
     "input": [
      "!git init"
     ],
     "language": "python",
     "metadata": {},
     "outputs": [
      {
       "output_type": "stream",
       "stream": "stdout",
       "text": [
        "Initialized empty Git repository in /Users/knuths/Documents/Tutorials/notebook_tests/git_test/.git/\r\n"
       ]
      }
     ],
     "prompt_number": 139
    },
    {
     "cell_type": "heading",
     "level": 3,
     "metadata": {},
     "source": [
      "If we do an ls -laF we see the .git subdirectory, which is the repository skeleton"
     ]
    },
    {
     "cell_type": "code",
     "collapsed": false,
     "input": [
      "ls -laF"
     ],
     "language": "python",
     "metadata": {},
     "outputs": [
      {
       "output_type": "stream",
       "stream": "stdout",
       "text": [
        "total 0\r\n",
        "drwxr-xr-x   3 knuths  staff  102 Jul 22 23:11 \u001b[34m.\u001b[m\u001b[m/\r\n",
        "drwxr-xr-x   4 knuths  staff  136 Jul 18 13:34 \u001b[34m..\u001b[m\u001b[m/\r\n",
        "drwxr-xr-x  10 knuths  staff  340 Jul 22 23:11 \u001b[34m.git\u001b[m\u001b[m/\r\n"
       ]
      }
     ],
     "prompt_number": 140
    },
    {
     "cell_type": "heading",
     "level": 3,
     "metadata": {},
     "source": [
      "Now if we do a git status we'll see that we're tracking the respository and are on the \"master\" branch."
     ]
    },
    {
     "cell_type": "code",
     "collapsed": false,
     "input": [
      "!git status"
     ],
     "language": "python",
     "metadata": {},
     "outputs": [
      {
       "output_type": "stream",
       "stream": "stdout",
       "text": [
        "On branch master\r\n",
        "\r\n",
        "Initial commit\r\n",
        "\r\n",
        "nothing to commit (create/copy files and use \"git add\" to track)\r\n"
       ]
      }
     ],
     "prompt_number": 141
    },
    {
     "cell_type": "heading",
     "level": 3,
     "metadata": {},
     "source": [
      "4.  Now let's create a text file and check it's status."
     ]
    },
    {
     "cell_type": "code",
     "collapsed": false,
     "input": [
      "!touch temporary_git_file.txt\n",
      "!git status"
     ],
     "language": "python",
     "metadata": {},
     "outputs": [
      {
       "output_type": "stream",
       "stream": "stdout",
       "text": [
        "On branch master\r\n",
        "\r\n",
        "Initial commit\r\n",
        "\r\n",
        "Untracked files:\r\n",
        "  (use \"git add <file>...\" to include in what will be committed)\r\n",
        "\r\n",
        "\t\u001b[31mtemporary_git_file.txt\u001b[m\r\n",
        "\r\n",
        "nothing added to commit but untracked files present (use \"git add\" to track)\r\n"
       ]
      }
     ],
     "prompt_number": 142
    },
    {
     "cell_type": "heading",
     "level": 3,
     "metadata": {},
     "source": [
      "Here we see that we have an untracked file, temporary_git_file.txt.  We also see that we are on the master branch."
     ]
    },
    {
     "cell_type": "heading",
     "level": 3,
     "metadata": {},
     "source": [
      "5.  Let's change the file and find out what happens."
     ]
    },
    {
     "cell_type": "code",
     "collapsed": false,
     "input": [
      "!echo \"Line 1\" >> temporary_git_file.txt"
     ],
     "language": "python",
     "metadata": {},
     "outputs": [],
     "prompt_number": 143
    },
    {
     "cell_type": "code",
     "collapsed": false,
     "input": [
      "!git status"
     ],
     "language": "python",
     "metadata": {},
     "outputs": [
      {
       "output_type": "stream",
       "stream": "stdout",
       "text": [
        "On branch master\r\n",
        "\r\n",
        "Initial commit\r\n",
        "\r\n",
        "Untracked files:\r\n",
        "  (use \"git add <file>...\" to include in what will be committed)\r\n",
        "\r\n",
        "\t\u001b[31mtemporary_git_file.txt\u001b[m\r\n",
        "\r\n",
        "nothing added to commit but untracked files present (use \"git add\" to track)\r\n"
       ]
      }
     ],
     "prompt_number": 144
    },
    {
     "cell_type": "heading",
     "level": 3,
     "metadata": {},
     "source": [
      "We still haven't staged the file yet, but we can do that now since we've made all the changes that we want to this file.  We are expecting that this file is ready to be committed.  As a note, you can simply track the file as you wish, but it's generally good practice to wait to stage the file until it's ready."
     ]
    },
    {
     "cell_type": "code",
     "collapsed": false,
     "input": [
      "!git add temporary_git_file.txt\n",
      "!git status"
     ],
     "language": "python",
     "metadata": {},
     "outputs": [
      {
       "output_type": "stream",
       "stream": "stdout",
       "text": [
        "On branch master\r\n",
        "\r\n",
        "Initial commit\r\n",
        "\r\n",
        "Changes to be committed:\r\n",
        "  (use \"git rm --cached <file>...\" to unstage)\r\n",
        "\r\n",
        "\t\u001b[32mnew file:   temporary_git_file.txt\u001b[m\r\n",
        "\r\n"
       ]
      }
     ],
     "prompt_number": 145
    },
    {
     "cell_type": "heading",
     "level": 3,
     "metadata": {},
     "source": [
      "Now we see that our file is \"staged\", which we know since it says \"Changes to be committed\".\n"
     ]
    },
    {
     "cell_type": "heading",
     "level": 3,
     "metadata": {},
     "source": [
      "6.  We still aren't ready to commit yet though.  We have another file that we want to create and change that we want to be part of the first commit.  So let's create another file and add a line to the file."
     ]
    },
    {
     "cell_type": "code",
     "collapsed": false,
     "input": [
      "!touch temporary_git_file2.txt\n",
      "!echo \"I love git\" >> temporary_git_file2.txt\n",
      "!git status"
     ],
     "language": "python",
     "metadata": {},
     "outputs": [
      {
       "output_type": "stream",
       "stream": "stdout",
       "text": [
        "On branch master\r\n",
        "\r\n",
        "Initial commit\r\n",
        "\r\n",
        "Changes to be committed:\r\n",
        "  (use \"git rm --cached <file>...\" to unstage)\r\n",
        "\r\n",
        "\t\u001b[32mnew file:   temporary_git_file.txt\u001b[m\r\n",
        "\r\n",
        "Untracked files:\r\n",
        "  (use \"git add <file>...\" to include in what will be committed)\r\n",
        "\r\n",
        "\t\u001b[31mtemporary_git_file2.txt\u001b[m\r\n",
        "\r\n"
       ]
      }
     ],
     "prompt_number": 146
    },
    {
     "cell_type": "heading",
     "level": 3,
     "metadata": {},
     "source": [
      "Now we see that we have two files that have changes.  These changes are part of the same grouping of changes that are made to solve a particular issue, and so we want to make sure they are both part of one commit.  As noted above, we staged our first file, so let's stage our second."
     ]
    },
    {
     "cell_type": "code",
     "collapsed": false,
     "input": [
      "!git add temporary_git_file2.txt"
     ],
     "language": "python",
     "metadata": {},
     "outputs": [],
     "prompt_number": 147
    },
    {
     "cell_type": "code",
     "collapsed": false,
     "input": [
      "!git status"
     ],
     "language": "python",
     "metadata": {},
     "outputs": [
      {
       "output_type": "stream",
       "stream": "stdout",
       "text": [
        "On branch master\r\n",
        "\r\n",
        "Initial commit\r\n",
        "\r\n",
        "Changes to be committed:\r\n",
        "  (use \"git rm --cached <file>...\" to unstage)\r\n",
        "\r\n",
        "\t\u001b[32mnew file:   temporary_git_file.txt\u001b[m\r\n",
        "\t\u001b[32mnew file:   temporary_git_file2.txt\u001b[m\r\n",
        "\r\n"
       ]
      }
     ],
     "prompt_number": 148
    },
    {
     "cell_type": "heading",
     "level": 3,
     "metadata": {},
     "source": [
      "And now we see that we have staged all changes in the directory."
     ]
    },
    {
     "cell_type": "heading",
     "level": 3,
     "metadata": {},
     "source": [
      "On a side note...to have a more versed way of looking at what changes are staged thus far, you can run the following command:"
     ]
    },
    {
     "cell_type": "code",
     "collapsed": false,
     "input": [
      "!git diff --cached"
     ],
     "language": "python",
     "metadata": {},
     "outputs": [
      {
       "output_type": "stream",
       "stream": "stdout",
       "text": [
        "\u001b[1mdiff --git a/temporary_git_file.txt b/temporary_git_file.txt\u001b[m\r\n",
        "\u001b[1mnew file mode 100644\u001b[m\r\n",
        "\u001b[1mindex 0000000..3be9c81\u001b[m\r\n",
        "\u001b[1m--- /dev/null\u001b[m\r\n",
        "\u001b[1m+++ b/temporary_git_file.txt\u001b[m\r\n",
        "\u001b[36m@@ -0,0 +1 @@\u001b[m\r\n",
        "\u001b[32m+\u001b[m\u001b[32mLine 1\u001b[m\r\n",
        "\u001b[1mdiff --git a/temporary_git_file2.txt b/temporary_git_file2.txt\u001b[m\r\n",
        "\u001b[1mnew file mode 100644\u001b[m\r\n",
        "\u001b[1mindex 0000000..b6542b2\u001b[m\r\n",
        "\u001b[1m--- /dev/null\u001b[m\r\n",
        "\u001b[1m+++ b/temporary_git_file2.txt\u001b[m\r\n",
        "\u001b[36m@@ -0,0 +1 @@\u001b[m\r\n",
        "\u001b[32m+\u001b[m\u001b[32mI love git\u001b[m\r\n"
       ]
      }
     ],
     "prompt_number": 149
    },
    {
     "cell_type": "heading",
     "level": 3,
     "metadata": {},
     "source": [
      "Here we see that we added \"Line 1\" to temporary_git_file.txt and \"I love git\" to temporary_git_file2.txt.  It will only show you staged changes though.  Let's confirm that by adding another line and running the same command."
     ]
    },
    {
     "cell_type": "code",
     "collapsed": false,
     "input": [
      "!echo \"Line 2\" >> temporary_git_file.txt"
     ],
     "language": "python",
     "metadata": {},
     "outputs": [],
     "prompt_number": 150
    },
    {
     "cell_type": "code",
     "collapsed": false,
     "input": [
      "!git diff --cached"
     ],
     "language": "python",
     "metadata": {},
     "outputs": [
      {
       "output_type": "stream",
       "stream": "stdout",
       "text": [
        "\u001b[1mdiff --git a/temporary_git_file.txt b/temporary_git_file.txt\u001b[m\r\n",
        "\u001b[1mnew file mode 100644\u001b[m\r\n",
        "\u001b[1mindex 0000000..3be9c81\u001b[m\r\n",
        "\u001b[1m--- /dev/null\u001b[m\r\n",
        "\u001b[1m+++ b/temporary_git_file.txt\u001b[m\r\n",
        "\u001b[36m@@ -0,0 +1 @@\u001b[m\r\n",
        "\u001b[32m+\u001b[m\u001b[32mLine 1\u001b[m\r\n",
        "\u001b[1mdiff --git a/temporary_git_file2.txt b/temporary_git_file2.txt\u001b[m\r\n",
        "\u001b[1mnew file mode 100644\u001b[m\r\n",
        "\u001b[1mindex 0000000..b6542b2\u001b[m\r\n",
        "\u001b[1m--- /dev/null\u001b[m\r\n",
        "\u001b[1m+++ b/temporary_git_file2.txt\u001b[m\r\n",
        "\u001b[36m@@ -0,0 +1 @@\u001b[m\r\n",
        "\u001b[32m+\u001b[m\u001b[32mI love git\u001b[m\r\n"
       ]
      }
     ],
     "prompt_number": 151
    },
    {
     "cell_type": "heading",
     "level": 3,
     "metadata": {},
     "source": [
      "Our latest change hasn't been added."
     ]
    },
    {
     "cell_type": "heading",
     "level": 3,
     "metadata": {},
     "source": [
      "7.  Now let's commit the changes!  We'll run a git status and then commit to our local repository (repo)"
     ]
    },
    {
     "cell_type": "code",
     "collapsed": false,
     "input": [
      "!git status"
     ],
     "language": "python",
     "metadata": {},
     "outputs": [
      {
       "output_type": "stream",
       "stream": "stdout",
       "text": [
        "On branch master\r\n",
        "\r\n",
        "Initial commit\r\n",
        "\r\n",
        "Changes to be committed:\r\n",
        "  (use \"git rm --cached <file>...\" to unstage)\r\n",
        "\r\n",
        "\t\u001b[32mnew file:   temporary_git_file.txt\u001b[m\r\n",
        "\t\u001b[32mnew file:   temporary_git_file2.txt\u001b[m\r\n",
        "\r\n",
        "Changes not staged for commit:\r\n",
        "  (use \"git add <file>...\" to update what will be committed)\r\n",
        "  (use \"git checkout -- <file>...\" to discard changes in working directory)\r\n",
        "\r\n",
        "\t\u001b[31mmodified:   temporary_git_file.txt\u001b[m\r\n",
        "\r\n"
       ]
      }
     ],
     "prompt_number": 152
    },
    {
     "cell_type": "heading",
     "level": 3,
     "metadata": {},
     "source": [
      "Hmmm, we have some unstaged changes.  Let's just commit anyway and see what happens.  Also, why is temporary_git_file.txt both staged and unstaged???"
     ]
    },
    {
     "cell_type": "code",
     "collapsed": false,
     "input": [
      "!git commit -m \"Initial version\""
     ],
     "language": "python",
     "metadata": {},
     "outputs": [
      {
       "output_type": "stream",
       "stream": "stdout",
       "text": [
        "[master (root-commit) 339b579] Initial version\r\n",
        " Committer: Shelley Knuth <knuths@knuthss-MacBook-Pro.local>\r\n",
        "Your name and email address were configured automatically based\r\n",
        "on your username and hostname. Please check that they are accurate.\r\n",
        "You can suppress this message by setting them explicitly:\r\n",
        "\r\n",
        "    git config --global user.name \"Your Name\"\r\n",
        "    git config --global user.email you@example.com\r\n",
        "\r\n",
        "After doing this, you may fix the identity used for this commit with:\r\n",
        "\r\n",
        "    git commit --amend --reset-author\r\n",
        "\r\n",
        " 2 files changed, 2 insertions(+)\r\n",
        " create mode 100644 temporary_git_file.txt\r\n",
        " create mode 100644 temporary_git_file2.txt\r\n"
       ]
      }
     ],
     "prompt_number": 153
    },
    {
     "cell_type": "code",
     "collapsed": false,
     "input": [
      "!git status"
     ],
     "language": "python",
     "metadata": {},
     "outputs": [
      {
       "output_type": "stream",
       "stream": "stdout",
       "text": [
        "On branch master\r\n",
        "Changes not staged for commit:\r\n",
        "  (use \"git add <file>...\" to update what will be committed)\r\n",
        "  (use \"git checkout -- <file>...\" to discard changes in working directory)\r\n",
        "\r\n",
        "\t\u001b[31mmodified:   temporary_git_file.txt\u001b[m\r\n",
        "\r\n",
        "no changes added to commit (use \"git add\" and/or \"git commit -a\")\r\n"
       ]
      }
     ],
     "prompt_number": 154
    },
    {
     "cell_type": "heading",
     "level": 3,
     "metadata": {},
     "source": [
      "Git status tells us that the unstaged changes weren't committed.  We really wanted those to be part of the last commit!  But in git this is no problem.  We can easily amend our last commit to include these changes.  First we will need to stage the changes and then amend the commit."
     ]
    },
    {
     "cell_type": "code",
     "collapsed": false,
     "input": [
      "!git add temporary_git_file.txt"
     ],
     "language": "python",
     "metadata": {},
     "outputs": [],
     "prompt_number": 155
    },
    {
     "cell_type": "code",
     "collapsed": false,
     "input": [
      "!git commit --amend --no-edit"
     ],
     "language": "python",
     "metadata": {},
     "outputs": [
      {
       "output_type": "stream",
       "stream": "stdout",
       "text": [
        "[master c3a349f] Initial version\r\n",
        " Committer: Shelley Knuth <knuths@knuthss-MacBook-Pro.local>\r\n",
        "Your name and email address were configured automatically based\r\n",
        "on your username and hostname. Please check that they are accurate.\r\n",
        "You can suppress this message by setting them explicitly:\r\n",
        "\r\n",
        "    git config --global user.name \"Your Name\"\r\n",
        "    git config --global user.email you@example.com\r\n",
        "\r\n",
        "After doing this, you may fix the identity used for this commit with:\r\n",
        "\r\n",
        "    git commit --amend --reset-author\r\n",
        "\r\n",
        " 2 files changed, 3 insertions(+)\r\n",
        " create mode 100644 temporary_git_file.txt\r\n",
        " create mode 100644 temporary_git_file2.txt\r\n"
       ]
      }
     ],
     "prompt_number": 156
    },
    {
     "cell_type": "heading",
     "level": 3,
     "metadata": {},
     "source": [
      "The no-edit flag means that the commit message isn't changed."
     ]
    },
    {
     "cell_type": "code",
     "collapsed": false,
     "input": [
      "!git log --stat"
     ],
     "language": "python",
     "metadata": {},
     "outputs": [
      {
       "output_type": "stream",
       "stream": "stdout",
       "text": [
        "\u001b[33mcommit c3a349ff4d2c3916a70f015c7690c1d74f42a7dc\u001b[m\r\n",
        "Author: Shelley Knuth <knuths@knuthss-MacBook-Pro.local>\r\n",
        "Date:   Tue Jul 22 23:11:39 2014 -0600\r\n",
        "\r\n",
        "    Initial version\r\n",
        "\r\n",
        " temporary_git_file.txt  | 2 \u001b[32m++\u001b[m\r\n",
        " temporary_git_file2.txt | 1 \u001b[32m+\u001b[m\r\n",
        " 2 files changed, 3 insertions(+)\r\n"
       ]
      }
     ],
     "prompt_number": 157
    },
    {
     "cell_type": "heading",
     "level": 3,
     "metadata": {},
     "source": [
      "You can also just add in a \"git commit\" and a text editor will open and you can manually add your comments."
     ]
    },
    {
     "cell_type": "heading",
     "level": 1,
     "metadata": {},
     "source": [
      "File Recovery"
     ]
    },
    {
     "cell_type": "heading",
     "level": 3,
     "metadata": {},
     "source": [
      "8.  Let's delete a file after an unstaged change and see what happens."
     ]
    },
    {
     "cell_type": "code",
     "collapsed": false,
     "input": [
      "!echo \"Line 3\" >> temporary_git_file.txt"
     ],
     "language": "python",
     "metadata": {},
     "outputs": [],
     "prompt_number": 158
    },
    {
     "cell_type": "code",
     "collapsed": false,
     "input": [
      "!git status"
     ],
     "language": "python",
     "metadata": {},
     "outputs": [
      {
       "output_type": "stream",
       "stream": "stdout",
       "text": [
        "On branch master\r\n",
        "Changes not staged for commit:\r\n",
        "  (use \"git add <file>...\" to update what will be committed)\r\n",
        "  (use \"git checkout -- <file>...\" to discard changes in working directory)\r\n",
        "\r\n",
        "\t\u001b[31mmodified:   temporary_git_file.txt\u001b[m\r\n",
        "\r\n",
        "no changes added to commit (use \"git add\" and/or \"git commit -a\")\r\n"
       ]
      }
     ],
     "prompt_number": 159
    },
    {
     "cell_type": "code",
     "collapsed": false,
     "input": [
      "rm temporary_git_file.txt"
     ],
     "language": "python",
     "metadata": {},
     "outputs": [],
     "prompt_number": 160
    },
    {
     "cell_type": "code",
     "collapsed": false,
     "input": [
      "ls -laF"
     ],
     "language": "python",
     "metadata": {},
     "outputs": [
      {
       "output_type": "stream",
       "stream": "stdout",
       "text": [
        "total 8\r\n",
        "drwxr-xr-x   4 knuths  staff  136 Jul 22 23:11 \u001b[34m.\u001b[m\u001b[m/\r\n",
        "drwxr-xr-x   4 knuths  staff  136 Jul 18 13:34 \u001b[34m..\u001b[m\u001b[m/\r\n",
        "drwxr-xr-x  13 knuths  staff  442 Jul 22 23:11 \u001b[34m.git\u001b[m\u001b[m/\r\n",
        "-rw-r--r--   1 knuths  staff   11 Jul 22 23:11 temporary_git_file2.txt\r\n"
       ]
      }
     ],
     "prompt_number": 161
    },
    {
     "cell_type": "heading",
     "level": 3,
     "metadata": {},
     "source": [
      "Uh oh, turns out we needed that file and it's gone!"
     ]
    },
    {
     "cell_type": "code",
     "collapsed": false,
     "input": [
      "!git status"
     ],
     "language": "python",
     "metadata": {},
     "outputs": [
      {
       "output_type": "stream",
       "stream": "stdout",
       "text": [
        "On branch master\r\n",
        "Changes not staged for commit:\r\n",
        "  (use \"git add/rm <file>...\" to update what will be committed)\r\n",
        "  (use \"git checkout -- <file>...\" to discard changes in working directory)\r\n",
        "\r\n",
        "\t\u001b[31mdeleted:    temporary_git_file.txt\u001b[m\r\n",
        "\r\n",
        "no changes added to commit (use \"git add\" and/or \"git commit -a\")\r\n"
       ]
      }
     ],
     "prompt_number": 162
    },
    {
     "cell_type": "heading",
     "level": 3,
     "metadata": {},
     "source": [
      "Actually, it's not really gone.  If you've committed a file in git, or if it's currently staged, then it's never really gone.  What is gone are the changes that you made that weren't staged or committed.  In this instance it's the changes we made above (the addition of \"Line 3\")."
     ]
    },
    {
     "cell_type": "heading",
     "level": 3,
     "metadata": {},
     "source": [
      "We can still recover the file that holds our earlier changes by doing the following:"
     ]
    },
    {
     "cell_type": "code",
     "collapsed": false,
     "input": [
      "!git checkout temporary_git_file.txt"
     ],
     "language": "python",
     "metadata": {},
     "outputs": [],
     "prompt_number": 163
    },
    {
     "cell_type": "code",
     "collapsed": false,
     "input": [
      "ls -laF"
     ],
     "language": "python",
     "metadata": {},
     "outputs": [
      {
       "output_type": "stream",
       "stream": "stdout",
       "text": [
        "total 16\r\n",
        "drwxr-xr-x   5 knuths  staff  170 Jul 22 23:11 \u001b[34m.\u001b[m\u001b[m/\r\n",
        "drwxr-xr-x   4 knuths  staff  136 Jul 18 13:34 \u001b[34m..\u001b[m\u001b[m/\r\n",
        "drwxr-xr-x  13 knuths  staff  442 Jul 22 23:11 \u001b[34m.git\u001b[m\u001b[m/\r\n",
        "-rw-r--r--   1 knuths  staff   14 Jul 22 23:11 temporary_git_file.txt\r\n",
        "-rw-r--r--   1 knuths  staff   11 Jul 22 23:11 temporary_git_file2.txt\r\n"
       ]
      }
     ],
     "prompt_number": 164
    },
    {
     "cell_type": "code",
     "collapsed": false,
     "input": [
      "cat temporary_git_file.txt"
     ],
     "language": "python",
     "metadata": {},
     "outputs": [
      {
       "output_type": "stream",
       "stream": "stdout",
       "text": [
        "Line 1\r\n",
        "Line 2\r\n"
       ]
      }
     ],
     "prompt_number": 165
    },
    {
     "cell_type": "heading",
     "level": 3,
     "metadata": {},
     "source": [
      "So here we see that all the earlier changes, with the exception of the unstaged change (\"Line 3\") have been recovered in this file."
     ]
    },
    {
     "cell_type": "heading",
     "level": 3,
     "metadata": {},
     "source": [
      "The moral of this story:  make sure you track your changes often."
     ]
    },
    {
     "cell_type": "heading",
     "level": 3,
     "metadata": {},
     "source": [
      "9.  Now let's remove the file but first stage the changes before we remove it."
     ]
    },
    {
     "cell_type": "code",
     "collapsed": false,
     "input": [
      "!echo \"Line 4\" >> temporary_git_file.txt"
     ],
     "language": "python",
     "metadata": {},
     "outputs": [],
     "prompt_number": 166
    },
    {
     "cell_type": "code",
     "collapsed": false,
     "input": [
      "!git add temporary_git_file.txt"
     ],
     "language": "python",
     "metadata": {},
     "outputs": [],
     "prompt_number": 167
    },
    {
     "cell_type": "code",
     "collapsed": false,
     "input": [
      "rm temporary_git_file.txt"
     ],
     "language": "python",
     "metadata": {},
     "outputs": [],
     "prompt_number": 168
    },
    {
     "cell_type": "code",
     "collapsed": false,
     "input": [
      "ls -laF"
     ],
     "language": "python",
     "metadata": {},
     "outputs": [
      {
       "output_type": "stream",
       "stream": "stdout",
       "text": [
        "total 8\r\n",
        "drwxr-xr-x   4 knuths  staff  136 Jul 22 23:11 \u001b[34m.\u001b[m\u001b[m/\r\n",
        "drwxr-xr-x   4 knuths  staff  136 Jul 18 13:34 \u001b[34m..\u001b[m\u001b[m/\r\n",
        "drwxr-xr-x  13 knuths  staff  442 Jul 22 23:11 \u001b[34m.git\u001b[m\u001b[m/\r\n",
        "-rw-r--r--   1 knuths  staff   11 Jul 22 23:11 temporary_git_file2.txt\r\n"
       ]
      }
     ],
     "prompt_number": 169
    },
    {
     "cell_type": "heading",
     "level": 3,
     "metadata": {},
     "source": [
      "Uh oh.  We needed that file.  Is it gone?"
     ]
    },
    {
     "cell_type": "code",
     "collapsed": false,
     "input": [
      "!git status"
     ],
     "language": "python",
     "metadata": {},
     "outputs": [
      {
       "output_type": "stream",
       "stream": "stdout",
       "text": [
        "On branch master\r\n",
        "Changes to be committed:\r\n",
        "  (use \"git reset HEAD <file>...\" to unstage)\r\n",
        "\r\n",
        "\t\u001b[32mmodified:   temporary_git_file.txt\u001b[m\r\n",
        "\r\n",
        "Changes not staged for commit:\r\n",
        "  (use \"git add/rm <file>...\" to update what will be committed)\r\n",
        "  (use \"git checkout -- <file>...\" to discard changes in working directory)\r\n",
        "\r\n",
        "\t\u001b[31mdeleted:    temporary_git_file.txt\u001b[m\r\n",
        "\r\n"
       ]
      }
     ],
     "prompt_number": 170
    },
    {
     "cell_type": "heading",
     "level": 3,
     "metadata": {},
     "source": [
      "Turns out we have staged the addition of \"Line 4\" to the file, which would be added in a commit, but haven't staged the deletion of the file, which wouldn't be committed.  If we simply committed right now and checked back out the file that was committed, our changes would be added and no one would be the wiser about our errant file deletion."
     ]
    },
    {
     "cell_type": "code",
     "collapsed": false,
     "input": [
      "!git commit -m \"Version 2\""
     ],
     "language": "python",
     "metadata": {},
     "outputs": [
      {
       "output_type": "stream",
       "stream": "stdout",
       "text": [
        "[master 4f68bcd] Version 2\r\n",
        " Committer: Shelley Knuth <knuths@knuthss-MacBook-Pro.local>\r\n",
        "Your name and email address were configured automatically based\r\n",
        "on your username and hostname. Please check that they are accurate.\r\n",
        "You can suppress this message by setting them explicitly:\r\n",
        "\r\n",
        "    git config --global user.name \"Your Name\"\r\n",
        "    git config --global user.email you@example.com\r\n",
        "\r\n",
        "After doing this, you may fix the identity used for this commit with:\r\n",
        "\r\n",
        "    git commit --amend --reset-author\r\n",
        "\r\n",
        " 1 file changed, 1 insertion(+)\r\n"
       ]
      }
     ],
     "prompt_number": 171
    },
    {
     "cell_type": "code",
     "collapsed": false,
     "input": [
      "!git checkout temporary_git_file.txt"
     ],
     "language": "python",
     "metadata": {},
     "outputs": [],
     "prompt_number": 172
    },
    {
     "cell_type": "code",
     "collapsed": false,
     "input": [
      "ls -laF"
     ],
     "language": "python",
     "metadata": {},
     "outputs": [
      {
       "output_type": "stream",
       "stream": "stdout",
       "text": [
        "total 16\r\n",
        "drwxr-xr-x   5 knuths  staff  170 Jul 22 23:11 \u001b[34m.\u001b[m\u001b[m/\r\n",
        "drwxr-xr-x   4 knuths  staff  136 Jul 18 13:34 \u001b[34m..\u001b[m\u001b[m/\r\n",
        "drwxr-xr-x  13 knuths  staff  442 Jul 22 23:11 \u001b[34m.git\u001b[m\u001b[m/\r\n",
        "-rw-r--r--   1 knuths  staff   21 Jul 22 23:11 temporary_git_file.txt\r\n",
        "-rw-r--r--   1 knuths  staff   11 Jul 22 23:11 temporary_git_file2.txt\r\n"
       ]
      }
     ],
     "prompt_number": 173
    },
    {
     "cell_type": "code",
     "collapsed": false,
     "input": [
      "cat temporary_git_file.txt"
     ],
     "language": "python",
     "metadata": {},
     "outputs": [
      {
       "output_type": "stream",
       "stream": "stdout",
       "text": [
        "Line 1\r\n",
        "Line 2\r\n",
        "Line 4\r\n"
       ]
      }
     ],
     "prompt_number": 174
    },
    {
     "cell_type": "code",
     "collapsed": false,
     "input": [
      "!git status"
     ],
     "language": "python",
     "metadata": {},
     "outputs": [
      {
       "output_type": "stream",
       "stream": "stdout",
       "text": [
        "On branch master\r\n",
        "nothing to commit, working directory clean\r\n"
       ]
      }
     ],
     "prompt_number": 175
    },
    {
     "cell_type": "heading",
     "level": 3,
     "metadata": {},
     "source": [
      "The moral of this story:  maybe sometimes it's good to not track your changes too often."
     ]
    },
    {
     "cell_type": "heading",
     "level": 3,
     "metadata": {},
     "source": [
      "10.  Now let's delete a file out of the git repository as well as my local directory and see if we can recover that."
     ]
    },
    {
     "cell_type": "code",
     "collapsed": false,
     "input": [
      "ls -laF"
     ],
     "language": "python",
     "metadata": {},
     "outputs": [
      {
       "output_type": "stream",
       "stream": "stdout",
       "text": [
        "total 16\r\n",
        "drwxr-xr-x   5 knuths  staff  170 Jul 22 23:11 \u001b[34m.\u001b[m\u001b[m/\r\n",
        "drwxr-xr-x   4 knuths  staff  136 Jul 18 13:34 \u001b[34m..\u001b[m\u001b[m/\r\n",
        "drwxr-xr-x  13 knuths  staff  442 Jul 22 23:11 \u001b[34m.git\u001b[m\u001b[m/\r\n",
        "-rw-r--r--   1 knuths  staff   21 Jul 22 23:11 temporary_git_file.txt\r\n",
        "-rw-r--r--   1 knuths  staff   11 Jul 22 23:11 temporary_git_file2.txt\r\n"
       ]
      }
     ],
     "prompt_number": 176
    },
    {
     "cell_type": "code",
     "collapsed": false,
     "input": [
      "rm temporary_git_file.txt"
     ],
     "language": "python",
     "metadata": {},
     "outputs": [],
     "prompt_number": 177
    },
    {
     "cell_type": "code",
     "collapsed": false,
     "input": [
      "ls -laF"
     ],
     "language": "python",
     "metadata": {},
     "outputs": [
      {
       "output_type": "stream",
       "stream": "stdout",
       "text": [
        "total 8\r\n",
        "drwxr-xr-x   4 knuths  staff  136 Jul 22 23:11 \u001b[34m.\u001b[m\u001b[m/\r\n",
        "drwxr-xr-x   4 knuths  staff  136 Jul 18 13:34 \u001b[34m..\u001b[m\u001b[m/\r\n",
        "drwxr-xr-x  13 knuths  staff  442 Jul 22 23:11 \u001b[34m.git\u001b[m\u001b[m/\r\n",
        "-rw-r--r--   1 knuths  staff   11 Jul 22 23:11 temporary_git_file2.txt\r\n"
       ]
      }
     ],
     "prompt_number": 178
    },
    {
     "cell_type": "code",
     "collapsed": false,
     "input": [
      "!git status"
     ],
     "language": "python",
     "metadata": {},
     "outputs": [
      {
       "output_type": "stream",
       "stream": "stdout",
       "text": [
        "On branch master\r\n",
        "Changes not staged for commit:\r\n",
        "  (use \"git add/rm <file>...\" to update what will be committed)\r\n",
        "  (use \"git checkout -- <file>...\" to discard changes in working directory)\r\n",
        "\r\n",
        "\t\u001b[31mdeleted:    temporary_git_file.txt\u001b[m\r\n",
        "\r\n",
        "no changes added to commit (use \"git add\" and/or \"git commit -a\")\r\n"
       ]
      }
     ],
     "prompt_number": 179
    },
    {
     "cell_type": "code",
     "collapsed": false,
     "input": [
      "!git rm temporary_git_file.txt"
     ],
     "language": "python",
     "metadata": {},
     "outputs": [
      {
       "output_type": "stream",
       "stream": "stdout",
       "text": [
        "rm 'temporary_git_file.txt'\r\n"
       ]
      }
     ],
     "prompt_number": 180
    },
    {
     "cell_type": "heading",
     "level": 3,
     "metadata": {},
     "source": [
      "Let's commit that change."
     ]
    },
    {
     "cell_type": "code",
     "collapsed": false,
     "input": [
      "!git commit -m \"Deleted file\""
     ],
     "language": "python",
     "metadata": {},
     "outputs": [
      {
       "output_type": "stream",
       "stream": "stdout",
       "text": [
        "[master 9a920be] Deleted file\r\n",
        " Committer: Shelley Knuth <knuths@knuthss-MacBook-Pro.local>\r\n",
        "Your name and email address were configured automatically based\r\n",
        "on your username and hostname. Please check that they are accurate.\r\n",
        "You can suppress this message by setting them explicitly:\r\n",
        "\r\n",
        "    git config --global user.name \"Your Name\"\r\n",
        "    git config --global user.email you@example.com\r\n",
        "\r\n",
        "After doing this, you may fix the identity used for this commit with:\r\n",
        "\r\n",
        "    git commit --amend --reset-author\r\n",
        "\r\n",
        " 1 file changed, 3 deletions(-)\r\n",
        " delete mode 100644 temporary_git_file.txt\r\n"
       ]
      }
     ],
     "prompt_number": 181
    },
    {
     "cell_type": "code",
     "collapsed": false,
     "input": [
      "!git status"
     ],
     "language": "python",
     "metadata": {},
     "outputs": [
      {
       "output_type": "stream",
       "stream": "stdout",
       "text": [
        "On branch master\r\n",
        "nothing to commit, working directory clean\r\n"
       ]
      }
     ],
     "prompt_number": 182
    },
    {
     "cell_type": "code",
     "collapsed": false,
     "input": [
      "ls -laF"
     ],
     "language": "python",
     "metadata": {},
     "outputs": [
      {
       "output_type": "stream",
       "stream": "stdout",
       "text": [
        "total 8\r\n",
        "drwxr-xr-x   4 knuths  staff  136 Jul 22 23:11 \u001b[34m.\u001b[m\u001b[m/\r\n",
        "drwxr-xr-x   4 knuths  staff  136 Jul 18 13:34 \u001b[34m..\u001b[m\u001b[m/\r\n",
        "drwxr-xr-x  13 knuths  staff  442 Jul 22 23:11 \u001b[34m.git\u001b[m\u001b[m/\r\n",
        "-rw-r--r--   1 knuths  staff   11 Jul 22 23:11 temporary_git_file2.txt\r\n"
       ]
      }
     ],
     "prompt_number": 183
    },
    {
     "cell_type": "heading",
     "level": 3,
     "metadata": {},
     "source": [
      "Uh oh, we need that file.  But it's gone!"
     ]
    },
    {
     "cell_type": "heading",
     "level": 3,
     "metadata": {},
     "source": [
      "Of course, in git, something's never REALLY gone.  So how do I recover it?"
     ]
    },
    {
     "cell_type": "heading",
     "level": 3,
     "metadata": {},
     "source": [
      "You can do so by checking out the most recent commit."
     ]
    },
    {
     "cell_type": "heading",
     "level": 3,
     "metadata": {},
     "source": [
      "First, I need to know the name of the file I am recovering.  While here I remember it, if I don't know it I can find it with the following:"
     ]
    },
    {
     "cell_type": "code",
     "collapsed": false,
     "input": [
      "!git log --diff-filter=D --summary"
     ],
     "language": "python",
     "metadata": {},
     "outputs": [
      {
       "output_type": "stream",
       "stream": "stdout",
       "text": [
        "\u001b[33mcommit 9a920be5328be94a1d2f89314c2df18b4779176f\u001b[m\r\n",
        "Author: Shelley Knuth <knuths@knuthss-MacBook-Pro.local>\r\n",
        "Date:   Tue Jul 22 23:11:52 2014 -0600\r\n",
        "\r\n",
        "    Deleted file\r\n",
        "\r\n",
        " delete mode 100644 temporary_git_file.txt\r\n"
       ]
      }
     ],
     "prompt_number": 184
    },
    {
     "cell_type": "heading",
     "level": 3,
     "metadata": {},
     "source": [
      "This tells me the name of the file is temporary_git_file.txt.  "
     ]
    },
    {
     "cell_type": "heading",
     "level": 3,
     "metadata": {},
     "source": [
      "Let's view the log file for this file to see which commit it is that we want to revert back to."
     ]
    },
    {
     "cell_type": "code",
     "collapsed": false,
     "input": [
      "!git log --follow -- temporary_git_file.txt"
     ],
     "language": "python",
     "metadata": {},
     "outputs": [
      {
       "output_type": "stream",
       "stream": "stdout",
       "text": [
        "\u001b[33mcommit 9a920be5328be94a1d2f89314c2df18b4779176f\u001b[m\r\n",
        "Author: Shelley Knuth <knuths@knuthss-MacBook-Pro.local>\r\n",
        "Date:   Tue Jul 22 23:11:52 2014 -0600\r\n",
        "\r\n",
        "    Deleted file\r\n",
        "\r\n",
        "\u001b[33mcommit 4f68bcd50704c4333fd9329fac603fb4e6c71f36\u001b[m\r\n",
        "Author: Shelley Knuth <knuths@knuthss-MacBook-Pro.local>\r\n",
        "Date:   Tue Jul 22 23:11:45 2014 -0600\r\n",
        "\r\n",
        "    Version 2\r\n",
        "\r\n",
        "\u001b[33mcommit c3a349ff4d2c3916a70f015c7690c1d74f42a7dc\u001b[m\r\n",
        "Author: Shelley Knuth <knuths@knuthss-MacBook-Pro.local>\r\n",
        "Date:   Tue Jul 22 23:11:39 2014 -0600\r\n",
        "\r\n",
        "    Initial version\r\n"
       ]
      }
     ],
     "prompt_number": 185
    },
    {
     "cell_type": "heading",
     "level": 3,
     "metadata": {},
     "source": [
      "The commits show in order from most recent commit to earliest commit.  What we want is the second commit (Version 2), as it's the last commit that included our deleted file.  To restore the file from this commit, let's do the following:"
     ]
    },
    {
     "cell_type": "code",
     "collapsed": false,
     "input": [
      "!git checkout 4f68bcd50704c4333fd9329fac603fb4e6c71f36 -- temporary_git_file.txt"
     ],
     "language": "python",
     "metadata": {},
     "outputs": [],
     "prompt_number": 186
    },
    {
     "cell_type": "code",
     "collapsed": false,
     "input": [
      "!git status"
     ],
     "language": "python",
     "metadata": {},
     "outputs": [
      {
       "output_type": "stream",
       "stream": "stdout",
       "text": [
        "On branch master\r\n",
        "Changes to be committed:\r\n",
        "  (use \"git reset HEAD <file>...\" to unstage)\r\n",
        "\r\n",
        "\t\u001b[32mnew file:   temporary_git_file.txt\u001b[m\r\n",
        "\r\n"
       ]
      }
     ],
     "prompt_number": 187
    },
    {
     "cell_type": "code",
     "collapsed": false,
     "input": [
      "ls -laF"
     ],
     "language": "python",
     "metadata": {},
     "outputs": [
      {
       "output_type": "stream",
       "stream": "stdout",
       "text": [
        "total 16\r\n",
        "drwxr-xr-x   5 knuths  staff  170 Jul 22 23:22 \u001b[34m.\u001b[m\u001b[m/\r\n",
        "drwxr-xr-x   4 knuths  staff  136 Jul 18 13:34 \u001b[34m..\u001b[m\u001b[m/\r\n",
        "drwxr-xr-x  13 knuths  staff  442 Jul 22 23:22 \u001b[34m.git\u001b[m\u001b[m/\r\n",
        "-rw-r--r--   1 knuths  staff   21 Jul 22 23:22 temporary_git_file.txt\r\n",
        "-rw-r--r--   1 knuths  staff   11 Jul 22 23:11 temporary_git_file2.txt\r\n"
       ]
      }
     ],
     "prompt_number": 188
    },
    {
     "cell_type": "code",
     "collapsed": false,
     "input": [
      "cat temporary_git_file.txt"
     ],
     "language": "python",
     "metadata": {},
     "outputs": [
      {
       "output_type": "stream",
       "stream": "stdout",
       "text": [
        "Line 1\r\n",
        "Line 2\r\n",
        "Line 4\r\n"
       ]
      }
     ],
     "prompt_number": 189
    },
    {
     "cell_type": "heading",
     "level": 3,
     "metadata": {},
     "source": [
      "Yay!  Our file has returned.  You can also get at this by the following command, which differs by which commit you are on as well as the^ symbol:"
     ]
    },
    {
     "cell_type": "code",
     "collapsed": false,
     "input": [
      "!git checkout 9a920be5328be94a1d2f89314c2df18b4779176f^ -- temporary_git_file.txt"
     ],
     "language": "python",
     "metadata": {},
     "outputs": [],
     "prompt_number": 196
    },
    {
     "cell_type": "code",
     "collapsed": false,
     "input": [
      "!cat temporary_git_file.txt"
     ],
     "language": "python",
     "metadata": {},
     "outputs": [
      {
       "output_type": "stream",
       "stream": "stdout",
       "text": [
        "Line 1\r\n",
        "Line 2\r\n",
        "Line 4\r\n"
       ]
      }
     ],
     "prompt_number": 197
    },
    {
     "cell_type": "code",
     "collapsed": false,
     "input": [
      "!git status"
     ],
     "language": "python",
     "metadata": {},
     "outputs": [
      {
       "output_type": "stream",
       "stream": "stdout",
       "text": [
        "On branch master\r\n",
        "Changes to be committed:\r\n",
        "  (use \"git reset HEAD <file>...\" to unstage)\r\n",
        "\r\n",
        "\t\u001b[32mnew file:   temporary_git_file.txt\u001b[m\r\n",
        "\r\n"
       ]
      }
     ],
     "prompt_number": 198
    },
    {
     "cell_type": "heading",
     "level": 3,
     "metadata": {},
     "source": [
      "So now our file is staged and ready to be committed.  In another aside, if you want to unstage a file you can type the following command.  This becomes useful if you accidentally staged something that you don't want to be part of your next commit."
     ]
    },
    {
     "cell_type": "code",
     "collapsed": false,
     "input": [
      "!git reset HEAD temporary_git_file.txt"
     ],
     "language": "python",
     "metadata": {},
     "outputs": [],
     "prompt_number": 199
    },
    {
     "cell_type": "code",
     "collapsed": false,
     "input": [
      "!git status"
     ],
     "language": "python",
     "metadata": {},
     "outputs": [
      {
       "output_type": "stream",
       "stream": "stdout",
       "text": [
        "On branch master\r\n",
        "Untracked files:\r\n",
        "  (use \"git add <file>...\" to include in what will be committed)\r\n",
        "\r\n",
        "\t\u001b[31mtemporary_git_file.txt\u001b[m\r\n",
        "\r\n",
        "nothing added to commit but untracked files present (use \"git add\" to track)\r\n"
       ]
      }
     ],
     "prompt_number": 200
    },
    {
     "cell_type": "code",
     "collapsed": false,
     "input": [
      "!cat temporary_git_file.txt"
     ],
     "language": "python",
     "metadata": {},
     "outputs": [
      {
       "output_type": "stream",
       "stream": "stdout",
       "text": [
        "Line 1\r\n",
        "Line 2\r\n",
        "Line 4\r\n"
       ]
      }
     ],
     "prompt_number": 201
    },
    {
     "cell_type": "code",
     "collapsed": false,
     "input": [],
     "language": "python",
     "metadata": {},
     "outputs": []
    }
   ],
   "metadata": {}
  }
 ]
}